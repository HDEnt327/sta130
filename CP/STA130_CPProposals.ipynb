{
 "cells": [
  {
   "cell_type": "markdown",
   "metadata": {},
   "source": [
    "# STA130 Course Project Proposals"
   ]
  },
  {
   "cell_type": "markdown",
   "metadata": {},
   "source": [
    "I want to first mark down a couple of things I noticed in the dataset, such as interesting facts and things that may become useful in analysis are proposing ideas (I will be referncing the \"old_var\" name instead of the \"new_var\" name for simplicity):\n",
    "\n",
    "- Q13 asks about whether the recipient has taken a COVID-19 vaccine, and Q14 asks whether the recipient took it more than two weeks ago. According to John Hopkins Medicine, it takes just around two weeks for a vaccine to take effect.\n",
    "\n",
    "- Questions such as Q17 and Q57 ask about the loneliness levels of the recipient, while many other parts of the suvey, such as Q117, Q19, Q20, Q24, and Q25, Q105 ask about connections and how the recipient might \"cope\" with the loneliness. Maybe something can be done here.\n",
    "\n",
    "- Q131 asks about substance use, Q13 asks about COVID-19 vaccine status, this could be something meaningful to investigate! (How substance use/COVID-19 status effects the mental/social status of the recipient)\n",
    "\n",
    "- Q54 and Q55 ask about social network website usage! This could be a good one to look at.\n",
    "\n",
    "- I've noticed that the dataset has a total of 11562 rows of data, this leaves plenty space for us to narrow down and look into some specific categories. I've also noticed and NA values are very common in the dataset, so data cleaning could be a tedious task needing to be considered.\n",
    "\n",
    "I would also like to note that many of the analysis and visualization methods overlap with each other. So I might not go into much detail for those."
   ]
  },
  {
   "cell_type": "markdown",
   "metadata": {},
   "source": [
    "## Proposal 1\n",
    "\n",
    "Research Question: **To what extent might substance use impair a person's ability to form/perform social connections? What aspects might this effect the most? And how might this affect the person's overal psychological status? How might men and women differ in this context?**\n",
    "\n",
    "This research question is mainly in concern of one topic, that is the effect substance use might have on a person's social abilities. There are many variables that can be considered in for this questions, however how to use them might need further investigation.\n",
    "\n",
    "List of variables that might be used and why (in siginificance order):\n",
    "\n",
    "- Q130-Q131, SUBSTANCE_USE_*** - Substance use status of the recipient.\n",
    "\n",
    "- Q17-Q18, and more, LONELY_*** - Measurement of social wellness of the recipient.\n",
    "\n",
    "- Q117, Q19, Q20, Q24, Q27, Q105, Q25, Q29, Q31, and more, CONNECTION_*** - How common are recipients taking part in the social connection activities.\n",
    "\n",
    "- Q60-Q61, and more, WELLNESS_self_rated_*** - Self rated Social and Physical health status of the recipient.\n",
    "\n",
    "\n",
    "Visualization and Brief analysis methods:\n",
    "\n",
    "- Many of the data categories are split into many (MANY) questions each with different values. Exactly how to move on with this might need more on-hands testing, but my current idea is **to give a \"categorical score\" for each category, by taking down how many (percent/ratio) of the questions in the current category are yield a positive (non-zero) value**. For example, in the CONNECT_activity category, any responses that aren't a value of \"Not at all\" or any response that represent a non-zero status can be added together.\n",
    "\n",
    "- Alternatively, since many questions include a scale (\"how often\", \"to what extent\"), **we can give integer score representations to each, with \"not at all\" being a 0, and each scale interval up a 1 increment in \"score\". This score could be added up instead.**\n",
    "\n",
    "- I notice some categories, such as PSYCH, include questions both in the \"negative\" and \"positive\" spectrum. **Somehow I should be able to make a positive or negative conclusion with a \"raw\" score, adding and subtracting the \"scores\"**\n",
    "\n",
    "- Since we are looking at the effect that substance use has, **we can directly isolate those who have substance use with those who do not**, and do analysis and visualizations on each with same processes to create a **comparison.**\n",
    "\n",
    "- **A hypothesis test may be done to look at whether or not substance use really has an effect on mental health and social abilities.** There are two ways this may be approached: We might take the amount of people that had a negative impact on their mental health and social abilities and of all people that have had substance use. In this case, there would be a null hypothesis of 0.5, where half of the people that have substance use have had a negative impact. We might also take the average of all net \"impact scores\" (as previously explained), where our null hypothesis would be 0, meaning no impact or no change in mental health and social abilities.\n",
    "\n",
    "- Visualizations can be made on each aforementioned categories, **such as a bar graph** looking at the least performed social activity in CONNECTION. We can also **use a scatterplot and even do linear regression on it** to look at the relationship between the degree of substance use and the PSYCH, WELLNESS, and CONNECTION statuses. **A histogram may also be used** to see how people most commonly do in terms fo mental wellness and social activeness (on \"impact score\")."
   ]
  },
  {
   "cell_type": "markdown",
   "metadata": {},
   "source": [
    "## Proposal 2\n",
    "\n",
    "Research Question: **To what extent does the use of social media (network) websites impair a person's ability to perform in-person social activities? How might this effect a person's psychological status?**\n",
    "\n",
    "This question is largely in common with the first proposed question, both looking at how a certain activity might impact a person's social abilities.\n",
    "\n",
    "List of variables that might be used and why (in significance order):\n",
    "\n",
    "- Q54-Q55, CONNECTION_social_media_*** - How much/how often does the recipient use social media/network websites.\n",
    "\n",
    "- Q117, Q19, Q20, Q24, Q27, Q105, Q25, Q29, Q31, and more, CONNECTION_*** - How common are recipients taking part in the social connection activities.\n",
    "\n",
    "- Q60-Q61, and more, WELLNESS_self_rated_*** - Self rated Social and Physical health status of the recipient.\n",
    "\n",
    "Many of the analysis might be overlapping with the previous proposal, but since the CONNECTION_social_media_*** actually give more meaningful values now (unlike the substance use questions), it might be somewhat easier to do more meaningful analysis:\n",
    "\n",
    "- **The \"impact score\" calculation may be common with the previous proposal**, and we will still be using this later.\n",
    "\n",
    "- **A histogram**, giving a visualization of how long people spend on social media platforms. **A scatterplot,** relating the levels of social media use with the impact score, **and linear regression** giving an estimation of the trend.\n",
    "\n",
    "- **A null hypothesis can also be done on this question.** For example, we might find the average level of social media usage, and **define \"excess use\" as any values higher than this average**. We therefore take all the \"excess use\" entries and do a hypothesis test similar to the previous proposal."
   ]
  },
  {
   "cell_type": "markdown",
   "metadata": {},
   "source": [
    "## Proposal 3\n",
    "\n",
    "Research Question: **How effective do different types of COVID-19 prevention practices contribute to the physical and mental wellness of a person?**\n",
    "\n",
    "Might be the most boring one, but could be interesting to look into. I notice that the survey mentions many COVID-19 related questions, such as Q12-Q14, and Q60-61, like previously, mentioned, are self-rated physical and mental statuses. I could use these to give an evaluation on how COVID-19 prevention practices contribute to any effects in physical and mental statuses.\n",
    "\n",
    "List of variables that might be used and why (in significance order):\n",
    "\n",
    "- Q12-Q14, COVID_***, COVID-19 precautions the recipient has taken, as well as COVID-19 vaccination status.\n",
    "\n",
    "- Q60-Q61, and more, WELLNESS_self_rated_*** - Self rated Social and Physical health status of the recipient.\n",
    "\n",
    "- Q117, Q19, Q20, Q24, Q27, Q105, Q25, Q29, Q31, and more, CONNECTION_*** - How common are recipients taking part in the social connection activities. (Low priority)\n",
    "\n",
    "I notice that the dataset includes data from 2021, which is still a time where the COVID-19 influence still exists, as well as data from 2023, where COVID-19 influences aren't quite significant anymore. Therefore we might only look at the 2021 data by itself, or look at each year separately to form a comparison.\n",
    "\n",
    "Possible visualization and analysis methods:\n",
    "\n",
    "- **A bar graph**, to look at the most commonly still practiced COVID-19 prevention practices. **A scatterplot**, to look at how \"level of COVID-19 precaution\" related to physical and mental wellness. **A histogram**, to look at how well people who are doing \"above average\" or \"below average\" levels of COVID-19 precaution in terms of CONNECTION, physical and mental statuses.\n",
    "\n",
    "- Similarly, **a null hypothesis test** looking at whether or not COVID-19 precautions have an effect on physical and mental wellness, as well as a person's social abilities."
   ]
  }
 ],
 "metadata": {
  "kernelspec": {
   "display_name": ".venv",
   "language": "python",
   "name": "python3"
  },
  "language_info": {
   "name": "python",
   "version": "3.11.5"
  }
 },
 "nbformat": 4,
 "nbformat_minor": 2
}
