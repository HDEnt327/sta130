{
 "cells": [
  {
   "cell_type": "markdown",
   "metadata": {},
   "source": [
    "# STA130 Course Project Proposals"
   ]
  },
  {
   "cell_type": "markdown",
   "metadata": {},
   "source": [
    "I want to first mark down a couple of things I noticed in the dataset, such as interesting facts and things that may become useful in analysis are proposing ideas (I will be referncing the \"old_var\" name instead of the \"new_var\" name for simplicity):\n",
    "\n",
    "- Q13 asks about whether the recipient has taken a COVID-19 vaccine, and Q14 asks whether the recipient took it more than two weeks ago. According to John Hopkins Medicine, it takes just around two weeks for a vaccine to take effect.\n",
    "\n",
    "- Questions such as Q17 and Q57 ask about the loneliness levels of the recipient, while many other parts of the suvey, such as Q117, Q19, Q20, Q24, and Q25, Q105 ask about connections and how the recipient might \"cope\" with the loneliness. Maybe something can be done here.\n",
    "\n",
    "- Q131 asks about substance use, Q13 asks about COVID-19 vaccine status, this could be something meaningful to investigate! (How substance use/COVID-19 status effects the mental/social status of the recipient)"
   ]
  },
  {
   "cell_type": "markdown",
   "metadata": {},
   "source": [
    "## Proposal 1\n",
    "\n",
    "Research Question: **To what extent might substance use impair a person's ability to form/perform social connections? And how might this affect the person's overal psychological status? How might men and women differ in this context?**\n",
    "\n",
    "This research question is mainly in concern of one topic, that is the effect substance use might have on a person's social abilities. There are many variables that can be considered in for this questions, however how to use them might need further investigation.\n",
    "\n",
    "List of variables eligible for investigation and why (in siginificance order):\n",
    "\n",
    "- Q130-Q131, SUBSTANCE_USE_*** - Substance use status of the recipient\n",
    "\n",
    "- Q17-Q18, and more, LONELY_*** - \n",
    "\n",
    "- Q117, Q19, Q20, Q24, Q27, Q105, Q25, Q29, Q31, and more, CONNECTION_*** - How\n",
    "\n",
    "Visualization and Brief analysis methods:\n",
    "\n",
    "- To deal with the "
   ]
  },
  {
   "cell_type": "markdown",
   "metadata": {},
   "source": [
    "## Proposal 2\n",
    "\n",
    "Research Question: ****"
   ]
  }
 ],
 "metadata": {
  "kernelspec": {
   "display_name": ".venv",
   "language": "python",
   "name": "python3"
  },
  "language_info": {
   "name": "python",
   "version": "3.11.5"
  }
 },
 "nbformat": 4,
 "nbformat_minor": 2
}
