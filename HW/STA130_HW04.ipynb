{
 "cells": [
  {
   "cell_type": "markdown",
   "metadata": {},
   "source": [
    "# STA130 Week 04 Homework (Prelecture)"
   ]
  },
  {
   "cell_type": "markdown",
   "metadata": {},
   "source": [
    "## Question 1\n",
    "\n",
    "Link to chat history with ChatGPT:\n",
    "\n",
    "https://chatgpt.com/share/66ff5c23-af90-800d-92ad-e34a09f72bfd\n",
    "\n",
    "<br>\n",
    "\n",
    "Both Standard Deviation (SD) and Standard Error of the Mean (SEM) are measures that evaluate variability, but they serve very different purposes. Standard Deviation measures how dispersed a distribution is from a dataset, while Standard Error of the Mean measure how dispersed (the variabiltiy) of the means taken from the sample are.\n",
    "\n",
    "Methodogically, SD and SEM are calculated differently, but the calculation of SEM involves some calculation of SD. Standard deviation is calculated by taking the square root of the sum of all mean differences divided by the number of data point minus one:\n",
    "\n",
    "$$SD=\\sqrt{\\frac{\\Sigma(X_i-\\bar X)^2}{n-1}}$$\n",
    "\n",
    "And again, which measures how spread out data points are from each other.\n",
    "\n",
    "And SEM is calculated by dividing the **Standard Deviation of All Bootstrapped Means** by **Square root of the amount of data points**:\n",
    "\n",
    "$$SEM=\\frac{SD}{\\sqrt{n}}$$\n",
    "\n",
    "Which, measures how spread out the bootstrapped means are (under the context of bootstrapping, of course)\n",
    "\n",
    "Ok, so now I know what SD and SEM measure, but what can I tell from SD and SEM and how are they different?\n",
    "\n",
    "Standard deviation mostly speaks for itself, since it measures how dispersed the data points are, it really is just a measurement for that, vairability. When SD is low, it means that the data is less spread out, and more tightly packed around the mean, where a higher SD would mean the data is more dispersed, more spread out away from the mean.\n",
    "\n",
    "On the other hand, Standard Error of the Mean tells us how accurately the sample/bootstrapped mean represents the entire population, and therefore tells us how reliable the inferences made from the sample are. A low SEM indicates that the sample relatively accurately represents the population, while a higher SEM indicates there is more uncertainty, and the sample might not give a good representation of the real population.\n",
    "\n",
    "In other words, SEM measures the quality of the sampled data or the bootstrapped mean, as in how precisely the sample/bootstrapped mean represents the real population."
   ]
  },
  {
   "cell_type": "markdown",
   "metadata": {},
   "source": [
    "## Question 2\n",
    "\n",
    "Chat History with ChatGPT continued from Question 1:\n",
    "\n",
    "https://chatgpt.com/share/66ff5c23-af90-800d-92ad-e34a09f72bfd\n",
    "\n",
    "<br>\n",
    "\n",
    "First I want to explain what a confidence interval is. A confidence interval describes a range of values, where we are 95% sure the real value lies within. Under the context of bootstrapping, having a 95% confidence interval that covers 95% of the bootstrapped sample means, means that we are 95% sure that the true population mean is within this interval, and that if we were to do the bootstrapping process again, 95% of the means would fall within the interval."
   ]
  }
 ],
 "metadata": {
  "kernelspec": {
   "display_name": ".venv",
   "language": "python",
   "name": "python3"
  },
  "language_info": {
   "name": "python",
   "version": "3.11.5"
  }
 },
 "nbformat": 4,
 "nbformat_minor": 2
}
