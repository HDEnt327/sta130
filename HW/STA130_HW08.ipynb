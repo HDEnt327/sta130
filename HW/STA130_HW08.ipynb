{
 "cells": [
  {
   "cell_type": "markdown",
   "metadata": {},
   "source": [
    "# STA130 Homework 08\n",
    "\n",
    "*So... We have arrived... The final level...*"
   ]
  },
  {
   "cell_type": "markdown",
   "metadata": {},
   "source": [
    "Links to ChatGPT Chat Logs:\n",
    "\n",
    "Questions 1-9 - CDTs\n",
    "\n",
    "https://chatgpt.com/share/6740e242-35dc-800d-8ea4-82112fbbd039\n",
    "\n",
    "Question 3 - EDAs:\n",
    "\n",
    "https://chatgpt.com/share/6740e26c-d2cc-800d-8d84-107d1fac0b8e"
   ]
  },
  {
   "cell_type": "markdown",
   "metadata": {},
   "source": [
    "## Question 1\n",
    "\n",
    "### What are CDTs? What Problems do they address?\n",
    "\n",
    "**Classification Decision Trees (CDTs) are a non-parametric, hierarchial model that attemps to split an original group of predictors into smaller groups** and maximizes homogeneity within each group, with each group represented as some categorical outcome variable. **CDTs attempt to do this by recursively applying decision rules** (sometimes called \"nodes\") that split the predictor entities into one subset or another, making each subset at each \"node\" as distinct as possible in terms of the target outcome variables.\n",
    "\n",
    "CDTs are non-parametric, meaning that the predictors and outcome variables **do not need to take some \"functional\" form**, such as linearity, quadratic, etc. This makes CDTs much more flexible in terms of what can be inputted as predictors as well as outcome variables, and **be more robust when predictors have interactions between them**. (We've seen in previous HWs that interactions can be quite complex and bothersome)\n",
    "\n",
    "In short, CDTs attempt to partition the data into \"regions\", with each region containing discrete predictor \"items\". Each \"region\" corresponds to a \"leaf node\" of the CDT, each represeting one of the outcome (target) variables. The way these regions are partitioned aims to minimize the \"impurity\" of the region, where higher \"purity\" meaning more correctly categorized predictors in each region.\n",
    "\n",
    "**CDTs are designed to and are mainly used to solve classification problems**, to categorize predictors (objects) into categories (or more technically called \"classes\") based on the characteristics of the predictor.\n",
    "\n",
    "**In the real world, CDTs are widely used in medical related fields, such as medical diagnosis.** A CDT can be used to identify whether or not a patient has a certain disease or not based on the characteristics of the patiet, such as symptoms, lab results, or even imaging results. In the modelling *(might be more commonly called \"training\" in the field of machine learning)* process (which we will demonstrate later), the algorithm chooses which characteristics are most useful in distinguishing between one class or another, and chooses the specific value(s) that separate the inputs into the classes.\n",
    "\n",
    "For example, the root (top/first) node might separate patients into two groups based on whether or not they have a fever, then in subsequent nodes, the groups are further split based on other (maybe repeating) characteristics, such as, \"blood pressure > 140mmHg\" into one group, and \"blood pressure <= 140mmHg\" into another group. This process is continued until all patients have been categorized into one group or another, \"has the disease\" or \"does not have the disease\". Then, when we want to use the CDT to categorize a new patient, we simply follow the tree down the path with the patient's features.\n",
    "\n",
    "### CDTs vs MLR models\n",
    "\n",
    "We've previously (in other HWs) looked at Multiple Linear Regression (MLR), and seen how MLRs take in predictors and come up with a prediction of the outcome based on the predictor. We've also seen how MLR models can use both categorical data and numerical data as predictors and also output both types of data. This is similar to a CDT, where both types of data can be used to predict both types of data, but CDTs and MLR models are fundamentally different. CDTs go through the process of classification to come up with outcomes, while MLRs go through the process of regression.\n",
    "\n",
    "For regression, we are finding best values of **coefficients** to fit a **function** to a set of predictors, the final form of a regression model is a **function** (a **linear function** for MLR). This is fundamentally different compared to classification, where **partition (classification) rules** are defined to **partition** a predictor space (a group of predictors) into hierarchial regions, and the final result of a classification model is a **tree** like structure.\n",
    "\n",
    "For MLR, when making a prediction, we input values for predictors, and calculate the final result by multiplying predictor variables with the coefficients. For CDTs, we make predictions by following the rules specified by each node in the tree, and follow the path down until the leaf nodes are reached, where a predictor is finally classified into a particular class."
   ]
  },
  {
   "cell_type": "markdown",
   "metadata": {},
   "source": [
    "## Question 2\n",
    "\n",
    "Before we start, I want to first start by identifying what $TP$, $TN$, $FP$, $FN$ are:\n",
    "\n",
    "$TP$: True Positive, when the prediction is ****positive****, and the real outcome is also ****positive****.\n",
    "\n",
    "$TN$: True Negative, when the prediction is **negative**, and the real outcome is also **negative**.\n",
    "\n",
    "$FP$: False Positive, when the prediction is **positive**, but the real outcome is **negative**.\n",
    "\n",
    "$FN$: False Negative, when the prediction is **negative**, but the real outcome is **positive**.\n",
    "\n",
    "### Accuracy\n",
    "\n",
    "Accuracy measures the overall correctness of the model. It is the propotion of total predictions that the model got correct (both positives and negatives), it is calculated by:\n",
    "\n",
    "$$\\text{Accuracy} = \\frac{TP + TN}{TP + TN + FP + FN}$$\n",
    "\n",
    "A real word example could be spam email filters. For a spam email filtering model, a true positve is when a spam email is correctly identified as a spam, and a true negative is when non-spam email is correctly identified as non-spam.\n",
    "\n",
    "We value accuracy the most in this example the most because we care about the accuracy of both positive and negatives equally. It is equally important that spam email isn't identified as non-spam, as we really just don't want spam email, and that non-spam email isn't identified as spam, as we might not be able to see important email in time.\n",
    "\n",
    "*This may not seen very obvious as of now, but examples for other metrics later we will talk about will show the difference.*\n",
    "\n",
    "### Sensitivity\n",
    "\n",
    "Sensitivity measures how well the model identifies positive cases. It is the proportion of actual positives that the model got correct, it is calculated by:\n",
    "\n",
    "$$\\text{Sensitivity} = \\frac{TP}{TP + FN}$$\n",
    "\n",
    "A real world example could be cancer detection, where a true positive is when a patient that has cancer is correctly identified as a cancer patient, and a false negative is when a patient that doesn't have cancer is falsely identified as a cancer patient.\n",
    "\n",
    "We value sensitivity in this example the most because we care about the model being able to correctly identify patients the most. Cancer patients are in urgent need of treatment, otherwise they may face severe deline in health and even death. Therefore correctly identifying patients is the utmost important thing for such a model, while the other cases, such as false positives, when falsely identifying a patient as a cancer patient, have much less consequences and/or have the least affect on stakeholders of the model.\n",
    "\n",
    "### Specificity\n",
    "\n",
    "Specificity measures how well the model identifies negative cases. It is the proportion of actual negatives that the model got correct, it is calculated by:\n",
    "\n",
    "$$\\text{Specificity} = \\frac{TN}{TN + FP}$$\n",
    "\n",
    "A real world example could be fraud detection, where a true negative is when a transaction that is non-fraudulent is correctly classified as non-fraudulent, and a false positive is when a non-fraudulent transaction is falsely identified as fraudulent. When true negatives are high, leading to higher specificity, the number of false negatives \n",
    "\n",
    "We calue specificity the most in this example when we care the most about ensuring that the customers being able to conveniently complete transactions. Therefore, we value the true negative rate the most, when true negatives are high, it means that most of the non-fraudulent transactions are correctly identified, and the transaction is completed for the customer without obstruction.\n",
    "\n",
    "### Precision\n",
    "\n",
    "Precision measures accuracy of positive predictions. It is the proportion of positive predictions that are actually correct, it is calculated by:\n",
    "\n",
    "$$\\text{Precision} = \\frac{TP}{TP + FP}$$\n",
    "\n",
    "A real world example could be predicting crime risk of individuals, where a true positive is when a person is correctly identified as likely to commit a crime(s), and a false positive is when a person is wrongly identified as likely to commit a crime(s).\n",
    "\n",
    "We value precision in this example the most because we want to ensure that those who are actually going to commit crimes are identified and flagged (possibly put under surveilance), so that they do not continuously pose a risk to society by remaining not flagged. As the same for other cases, the consequences of not being able to identify a person with high crime risks are far higher than other outcomes, such as falsely flagging a person with low crime risks."
   ]
  },
  {
   "cell_type": "markdown",
   "metadata": {},
   "source": [
    "## Question 3\n",
    "\n",
    "I wasn't sure what EDAs were, so I went for a quick search.\n",
    "\n",
    "EDAs aim to summarize, visualize and attempt to understand data to uncover patterns, identify anomalies, and inform further analysis.\n",
    "\n",
    "In the following code I attempt to pre-process the data to meet the requirements and briefly provide initial EDAs."
   ]
  },
  {
   "cell_type": "code",
   "execution_count": 63,
   "metadata": {},
   "outputs": [
    {
     "data": {
      "text/html": [
       "<div>\n",
       "<style scoped>\n",
       "    .dataframe tbody tr th:only-of-type {\n",
       "        vertical-align: middle;\n",
       "    }\n",
       "\n",
       "    .dataframe tbody tr th {\n",
       "        vertical-align: top;\n",
       "    }\n",
       "\n",
       "    .dataframe thead th {\n",
       "        text-align: right;\n",
       "    }\n",
       "</style>\n",
       "<table border=\"1\" class=\"dataframe\">\n",
       "  <thead>\n",
       "    <tr style=\"text-align: right;\">\n",
       "      <th></th>\n",
       "      <th>Title</th>\n",
       "      <th>Author</th>\n",
       "      <th>List Price</th>\n",
       "      <th>Amazon Price</th>\n",
       "      <th>Hard_or_Paper</th>\n",
       "      <th>NumPages</th>\n",
       "      <th>Publisher</th>\n",
       "      <th>Pub year</th>\n",
       "      <th>ISBN-10</th>\n",
       "      <th>Thick</th>\n",
       "    </tr>\n",
       "  </thead>\n",
       "  <tbody>\n",
       "    <tr>\n",
       "      <th>0</th>\n",
       "      <td>1,001 Facts that Will Scare the S#*t Out of Yo...</td>\n",
       "      <td>Cary McNeal</td>\n",
       "      <td>12.95</td>\n",
       "      <td>5.18</td>\n",
       "      <td>P</td>\n",
       "      <td>304</td>\n",
       "      <td>Adams Media</td>\n",
       "      <td>2010</td>\n",
       "      <td>1605506249</td>\n",
       "      <td>0.8</td>\n",
       "    </tr>\n",
       "    <tr>\n",
       "      <th>1</th>\n",
       "      <td>21: Bringing Down the House - Movie Tie-In: Th...</td>\n",
       "      <td>Ben Mezrich</td>\n",
       "      <td>15.00</td>\n",
       "      <td>10.20</td>\n",
       "      <td>P</td>\n",
       "      <td>273</td>\n",
       "      <td>Free Press</td>\n",
       "      <td>2008</td>\n",
       "      <td>1416564195</td>\n",
       "      <td>0.7</td>\n",
       "    </tr>\n",
       "    <tr>\n",
       "      <th>2</th>\n",
       "      <td>100 Best-Loved Poems (Dover Thrift Editions)</td>\n",
       "      <td>Smith</td>\n",
       "      <td>1.50</td>\n",
       "      <td>1.50</td>\n",
       "      <td>P</td>\n",
       "      <td>96</td>\n",
       "      <td>Dover Publications</td>\n",
       "      <td>1995</td>\n",
       "      <td>486285537</td>\n",
       "      <td>0.3</td>\n",
       "    </tr>\n",
       "    <tr>\n",
       "      <th>3</th>\n",
       "      <td>1421: The Year China Discovered America</td>\n",
       "      <td>Gavin Menzies</td>\n",
       "      <td>15.99</td>\n",
       "      <td>10.87</td>\n",
       "      <td>P</td>\n",
       "      <td>672</td>\n",
       "      <td>Harper Perennial</td>\n",
       "      <td>2008</td>\n",
       "      <td>61564893</td>\n",
       "      <td>1.6</td>\n",
       "    </tr>\n",
       "    <tr>\n",
       "      <th>4</th>\n",
       "      <td>1493: Uncovering the New World Columbus Created</td>\n",
       "      <td>Charles C. Mann</td>\n",
       "      <td>30.50</td>\n",
       "      <td>16.77</td>\n",
       "      <td>P</td>\n",
       "      <td>720</td>\n",
       "      <td>Knopf</td>\n",
       "      <td>2011</td>\n",
       "      <td>307265722</td>\n",
       "      <td>1.4</td>\n",
       "    </tr>\n",
       "    <tr>\n",
       "      <th>...</th>\n",
       "      <td>...</td>\n",
       "      <td>...</td>\n",
       "      <td>...</td>\n",
       "      <td>...</td>\n",
       "      <td>...</td>\n",
       "      <td>...</td>\n",
       "      <td>...</td>\n",
       "      <td>...</td>\n",
       "      <td>...</td>\n",
       "      <td>...</td>\n",
       "    </tr>\n",
       "    <tr>\n",
       "      <th>314</th>\n",
       "      <td>Where the Sidewalk Ends</td>\n",
       "      <td>Shel Silverstein</td>\n",
       "      <td>18.99</td>\n",
       "      <td>12.24</td>\n",
       "      <td>H</td>\n",
       "      <td>192</td>\n",
       "      <td>HarperCollins</td>\n",
       "      <td>2004</td>\n",
       "      <td>60572345</td>\n",
       "      <td>1.1</td>\n",
       "    </tr>\n",
       "    <tr>\n",
       "      <th>315</th>\n",
       "      <td>White Privilege</td>\n",
       "      <td>Paula S. Rothenberg</td>\n",
       "      <td>27.55</td>\n",
       "      <td>27.55</td>\n",
       "      <td>P</td>\n",
       "      <td>160</td>\n",
       "      <td>Worth Publishers</td>\n",
       "      <td>2011</td>\n",
       "      <td>1429233443</td>\n",
       "      <td>0.7</td>\n",
       "    </tr>\n",
       "    <tr>\n",
       "      <th>316</th>\n",
       "      <td>Why I wore lipstick</td>\n",
       "      <td>Geralyn Lucas</td>\n",
       "      <td>12.95</td>\n",
       "      <td>5.18</td>\n",
       "      <td>P</td>\n",
       "      <td>224</td>\n",
       "      <td>St Martin's Griffin</td>\n",
       "      <td>2005</td>\n",
       "      <td>031233446X</td>\n",
       "      <td>0.7</td>\n",
       "    </tr>\n",
       "    <tr>\n",
       "      <th>317</th>\n",
       "      <td>Worlds Together, Worlds Apart: A History of th...</td>\n",
       "      <td>Robert Tignor</td>\n",
       "      <td>97.50</td>\n",
       "      <td>97.50</td>\n",
       "      <td>P</td>\n",
       "      <td>480</td>\n",
       "      <td>W. W. Norton &amp; Company</td>\n",
       "      <td>2010</td>\n",
       "      <td>393934942</td>\n",
       "      <td>0.9</td>\n",
       "    </tr>\n",
       "    <tr>\n",
       "      <th>318</th>\n",
       "      <td>Wuthering Heights</td>\n",
       "      <td>Emily Bronte</td>\n",
       "      <td>16.99</td>\n",
       "      <td>4.95</td>\n",
       "      <td>P</td>\n",
       "      <td>344</td>\n",
       "      <td>CreatSpace</td>\n",
       "      <td>2011</td>\n",
       "      <td>1463533411</td>\n",
       "      <td>1.0</td>\n",
       "    </tr>\n",
       "  </tbody>\n",
       "</table>\n",
       "<p>319 rows × 10 columns</p>\n",
       "</div>"
      ],
      "text/plain": [
       "                                                 Title               Author  \\\n",
       "0    1,001 Facts that Will Scare the S#*t Out of Yo...          Cary McNeal   \n",
       "1    21: Bringing Down the House - Movie Tie-In: Th...          Ben Mezrich   \n",
       "2         100 Best-Loved Poems (Dover Thrift Editions)                Smith   \n",
       "3              1421: The Year China Discovered America        Gavin Menzies   \n",
       "4      1493: Uncovering the New World Columbus Created      Charles C. Mann   \n",
       "..                                                 ...                  ...   \n",
       "314                            Where the Sidewalk Ends     Shel Silverstein   \n",
       "315                                    White Privilege  Paula S. Rothenberg   \n",
       "316                                Why I wore lipstick        Geralyn Lucas   \n",
       "317  Worlds Together, Worlds Apart: A History of th...        Robert Tignor   \n",
       "318                                  Wuthering Heights         Emily Bronte   \n",
       "\n",
       "     List Price  Amazon Price Hard_or_Paper  NumPages               Publisher  \\\n",
       "0         12.95          5.18             P       304             Adams Media   \n",
       "1         15.00         10.20             P       273              Free Press   \n",
       "2          1.50          1.50             P        96      Dover Publications   \n",
       "3         15.99         10.87             P       672        Harper Perennial   \n",
       "4         30.50         16.77             P       720                   Knopf   \n",
       "..          ...           ...           ...       ...                     ...   \n",
       "314       18.99         12.24             H       192           HarperCollins   \n",
       "315       27.55         27.55             P       160        Worth Publishers   \n",
       "316       12.95          5.18             P       224     St Martin's Griffin   \n",
       "317       97.50         97.50             P       480  W. W. Norton & Company   \n",
       "318       16.99          4.95             P       344              CreatSpace   \n",
       "\n",
       "     Pub year     ISBN-10  Thick  \n",
       "0        2010  1605506249    0.8  \n",
       "1        2008  1416564195    0.7  \n",
       "2        1995   486285537    0.3  \n",
       "3        2008    61564893    1.6  \n",
       "4        2011   307265722    1.4  \n",
       "..        ...         ...    ...  \n",
       "314      2004    60572345    1.1  \n",
       "315      2011  1429233443    0.7  \n",
       "316      2005  031233446X    0.7  \n",
       "317      2010   393934942    0.9  \n",
       "318      2011  1463533411    1.0  \n",
       "\n",
       "[319 rows x 10 columns]"
      ]
     },
     "execution_count": 63,
     "metadata": {},
     "output_type": "execute_result"
    }
   ],
   "source": [
    "import pandas as pd\n",
    "import numpy as np\n",
    "import plotly.express as px\n",
    "from sklearn import tree\n",
    "from sklearn.model_selection import train_test_split\n",
    "from sklearn.metrics import confusion_matrix, ConfusionMatrixDisplay\n",
    "from sklearn.metrics import accuracy_score, recall_score, make_scorer\n",
    "import graphviz as gv\n",
    "\n",
    "url = \"https://raw.githubusercontent.com/pointOfive/STA130_F23/main/Data/amazonbooks.csv\"\n",
    "ab = pd.read_csv(url, encoding=\"ISO-8859-1\")\n",
    "\n",
    "# Drop unwanted columns and rows\n",
    "unwanted_columns = ['Weight_oz', 'Width', 'Height']\n",
    "ab_reduced = ab.drop(unwanted_columns, axis=1)\n",
    "ab_reduced_noNaN = ab_reduced.dropna(ignore_index=True)\n",
    "\n",
    "# Specify column and type to convert to\n",
    "convert_types = {'Pub year': 'int',\n",
    "                 'NumPages': 'int',\n",
    "                 'Hard_or_Paper': 'category'}\n",
    "\n",
    "# Set type\n",
    "ab_reduced_noNaN = ab_reduced_noNaN.astype(convert_types)\n",
    "ab_reduced_noNaN"
   ]
  },
  {
   "cell_type": "code",
   "execution_count": 27,
   "metadata": {},
   "outputs": [
    {
     "data": {
      "text/plain": [
       "(319, 10)"
      ]
     },
     "execution_count": 27,
     "metadata": {},
     "output_type": "execute_result"
    }
   ],
   "source": [
    "ab_reduced_noNaN.shape"
   ]
  },
  {
   "cell_type": "code",
   "execution_count": 28,
   "metadata": {},
   "outputs": [
    {
     "data": {
      "text/html": [
       "<div>\n",
       "<style scoped>\n",
       "    .dataframe tbody tr th:only-of-type {\n",
       "        vertical-align: middle;\n",
       "    }\n",
       "\n",
       "    .dataframe tbody tr th {\n",
       "        vertical-align: top;\n",
       "    }\n",
       "\n",
       "    .dataframe thead th {\n",
       "        text-align: right;\n",
       "    }\n",
       "</style>\n",
       "<table border=\"1\" class=\"dataframe\">\n",
       "  <thead>\n",
       "    <tr style=\"text-align: right;\">\n",
       "      <th></th>\n",
       "      <th>List Price</th>\n",
       "      <th>Amazon Price</th>\n",
       "      <th>NumPages</th>\n",
       "      <th>Pub year</th>\n",
       "      <th>Thick</th>\n",
       "    </tr>\n",
       "  </thead>\n",
       "  <tbody>\n",
       "    <tr>\n",
       "      <th>count</th>\n",
       "      <td>319.000000</td>\n",
       "      <td>319.000000</td>\n",
       "      <td>319.000000</td>\n",
       "      <td>319.000000</td>\n",
       "      <td>319.000000</td>\n",
       "    </tr>\n",
       "    <tr>\n",
       "      <th>mean</th>\n",
       "      <td>18.362978</td>\n",
       "      <td>12.941034</td>\n",
       "      <td>334.272727</td>\n",
       "      <td>2002.175549</td>\n",
       "      <td>0.903448</td>\n",
       "    </tr>\n",
       "    <tr>\n",
       "      <th>std</th>\n",
       "      <td>13.976755</td>\n",
       "      <td>12.436673</td>\n",
       "      <td>161.601510</td>\n",
       "      <td>10.646133</td>\n",
       "      <td>0.365261</td>\n",
       "    </tr>\n",
       "    <tr>\n",
       "      <th>min</th>\n",
       "      <td>1.500000</td>\n",
       "      <td>0.770000</td>\n",
       "      <td>24.000000</td>\n",
       "      <td>1936.000000</td>\n",
       "      <td>0.100000</td>\n",
       "    </tr>\n",
       "    <tr>\n",
       "      <th>25%</th>\n",
       "      <td>13.890000</td>\n",
       "      <td>8.600000</td>\n",
       "      <td>208.000000</td>\n",
       "      <td>1998.000000</td>\n",
       "      <td>0.600000</td>\n",
       "    </tr>\n",
       "    <tr>\n",
       "      <th>50%</th>\n",
       "      <td>15.000000</td>\n",
       "      <td>10.200000</td>\n",
       "      <td>320.000000</td>\n",
       "      <td>2005.000000</td>\n",
       "      <td>0.900000</td>\n",
       "    </tr>\n",
       "    <tr>\n",
       "      <th>75%</th>\n",
       "      <td>19.360000</td>\n",
       "      <td>12.560000</td>\n",
       "      <td>416.000000</td>\n",
       "      <td>2010.000000</td>\n",
       "      <td>1.100000</td>\n",
       "    </tr>\n",
       "    <tr>\n",
       "      <th>max</th>\n",
       "      <td>139.950000</td>\n",
       "      <td>139.950000</td>\n",
       "      <td>896.000000</td>\n",
       "      <td>2011.000000</td>\n",
       "      <td>2.100000</td>\n",
       "    </tr>\n",
       "  </tbody>\n",
       "</table>\n",
       "</div>"
      ],
      "text/plain": [
       "       List Price  Amazon Price    NumPages     Pub year       Thick\n",
       "count  319.000000    319.000000  319.000000   319.000000  319.000000\n",
       "mean    18.362978     12.941034  334.272727  2002.175549    0.903448\n",
       "std     13.976755     12.436673  161.601510    10.646133    0.365261\n",
       "min      1.500000      0.770000   24.000000  1936.000000    0.100000\n",
       "25%     13.890000      8.600000  208.000000  1998.000000    0.600000\n",
       "50%     15.000000     10.200000  320.000000  2005.000000    0.900000\n",
       "75%     19.360000     12.560000  416.000000  2010.000000    1.100000\n",
       "max    139.950000    139.950000  896.000000  2011.000000    2.100000"
      ]
     },
     "execution_count": 28,
     "metadata": {},
     "output_type": "execute_result"
    }
   ],
   "source": [
    "ab_reduced_noNaN.describe()"
   ]
  },
  {
   "cell_type": "code",
   "execution_count": 29,
   "metadata": {},
   "outputs": [
    {
     "data": {
      "text/html": [
       "<div>\n",
       "<style scoped>\n",
       "    .dataframe tbody tr th:only-of-type {\n",
       "        vertical-align: middle;\n",
       "    }\n",
       "\n",
       "    .dataframe tbody tr th {\n",
       "        vertical-align: top;\n",
       "    }\n",
       "\n",
       "    .dataframe thead th {\n",
       "        text-align: right;\n",
       "    }\n",
       "</style>\n",
       "<table border=\"1\" class=\"dataframe\">\n",
       "  <thead>\n",
       "    <tr style=\"text-align: right;\">\n",
       "      <th></th>\n",
       "      <th>Title</th>\n",
       "      <th>Author</th>\n",
       "      <th>Publisher</th>\n",
       "      <th>ISBN-10</th>\n",
       "    </tr>\n",
       "  </thead>\n",
       "  <tbody>\n",
       "    <tr>\n",
       "      <th>count</th>\n",
       "      <td>319</td>\n",
       "      <td>319</td>\n",
       "      <td>319</td>\n",
       "      <td>319</td>\n",
       "    </tr>\n",
       "    <tr>\n",
       "      <th>unique</th>\n",
       "      <td>309</td>\n",
       "      <td>251</td>\n",
       "      <td>158</td>\n",
       "      <td>316</td>\n",
       "    </tr>\n",
       "    <tr>\n",
       "      <th>top</th>\n",
       "      <td>The Great Gatsby</td>\n",
       "      <td>Jodi Picoult</td>\n",
       "      <td>Vintage</td>\n",
       "      <td>743273567</td>\n",
       "    </tr>\n",
       "    <tr>\n",
       "      <th>freq</th>\n",
       "      <td>3</td>\n",
       "      <td>7</td>\n",
       "      <td>37</td>\n",
       "      <td>2</td>\n",
       "    </tr>\n",
       "  </tbody>\n",
       "</table>\n",
       "</div>"
      ],
      "text/plain": [
       "                   Title        Author Publisher    ISBN-10\n",
       "count                319           319       319        319\n",
       "unique               309           251       158        316\n",
       "top     The Great Gatsby  Jodi Picoult   Vintage  743273567\n",
       "freq                   3             7        37          2"
      ]
     },
     "execution_count": 29,
     "metadata": {},
     "output_type": "execute_result"
    }
   ],
   "source": [
    "ab_reduced_noNaN.describe(include='object')"
   ]
  },
  {
   "cell_type": "code",
   "execution_count": 65,
   "metadata": {},
   "outputs": [
    {
     "data": {
      "image/png": "[encoded data removed]"
     },
     "metadata": {},
     "output_type": "display_data"
    }
   ],
   "source": [
    "# px bot plox?\n",
    "fig = px.histogram(ab_reduced_noNaN, x='Hard_or_Paper')\n",
    "fig.show(renderer='png')"
   ]
  },
  {
   "cell_type": "markdown",
   "metadata": {},
   "source": [
    "A lot more paperback books compared to hard covers..."
   ]
  },
  {
   "cell_type": "code",
   "execution_count": 70,
   "metadata": {},
   "outputs": [
    {
     "data": {
      "image/png": "[encoded data removed]"
     },
     "metadata": {},
     "output_type": "display_data"
    }
   ],
   "source": [
    "# histogram of Pub year\n",
    "fig = px.histogram(ab_reduced_noNaN, x='List Price')\n",
    "fig.show(renderer='png')"
   ]
  },
  {
   "cell_type": "markdown",
   "metadata": {},
   "source": [
    "Wow, lots of books in the 15-20 price range...\n",
    "\n",
    "Oh! I wanna try the really cool scatter plot with a slider thing! There are enough variables here to make that I think, let's try:"
   ]
  },
  {
   "cell_type": "code",
   "execution_count": null,
   "metadata": {},
   "outputs": [
    {
     "data": {
      "application/vnd.plotly.v1+json": {
       "config": {
        "plotlyServerURL": "https://plot.ly"
       },
       "data": [
        {
         "hovertemplate": "<b>%{hovertext}</b><br><br>Publisher=Adams Media<br>Publication Year=2010.0<br>List Price ($)=%{x}<br>Weight (oz)=%{y}<br>Number of Pages=%{marker.size}<extra></extra>",
         "hovertext": [
          "1,001 Facts that Will Scare the S#*t Out of You: The Ultimate Bathroom Reader"
         ],
         "legendgroup": "Adams Media",
         "marker": {
          "color": "#636efa",
          "size": [
           304
          ],
          "sizemode": "area",
          "sizeref": 0.9955555555555555,
          "symbol": "circle"
         },
         "mode": "markers",
         "name": "Adams Media",
         "orientation": "v",
         "showlegend": true,
         "type": "scatter",
         "x": [
          12.95
         ],
         "xaxis": "x",
         "y": [
          11.2
         ],
         "yaxis": "y"
        },
        {
         "hovertemplate": "<b>%{hovertext}</b><br><br>Publisher=Penguin Classics Hardcover<br>Publication Year=2010.0<br>List Price ($)=%{x}<br>Weight (oz)=%{y}<br>Number of Pages=%{marker.size}<extra></extra>",
         "hovertext": [
          "A Christmas Carol and Other Christmas Writings (Penguin Classics)"
         ],
         "legendgroup": "Penguin Classics Hardcover",
         "marker": {
          "color": "#19d3f3",
          "size": [
           336
          ],
          "sizemode": "area",
          "sizeref": 0.9955555555555555,
          "symbol": "circle"
         },
         "mode": "markers",
         "name": "Penguin Classics Hardcover",
         "orientation": "v",
         "showlegend": true,
         "type": "scatter",
         "x": [
          20
         ],
         "xaxis": "x",
         "y": [
          15.5
         ],
         "yaxis": "y"
        },
        {
         "hovertemplate": "<b>%{hovertext}</b><br><br>Publisher=Vintage<br>Publication Year=2010.0<br>List Price ($)=%{x}<br>Weight (oz)=%{y}<br>Number of Pages=%{marker.size}<extra></extra>",
         "hovertext": [
          "Cutting for Stone",
          "Cutting for Stone"
         ],
         "legendgroup": "Vintage",
         "marker": {
          "color": "#FF97FF",
          "size": [
           667,
           667
          ],
          "sizemode": "area",
          "sizeref": 0.9955555555555555,
          "symbol": "circle"
         },
         "mode": "markers",
         "name": "Vintage",
         "orientation": "v",
         "showlegend": true,
         "type": "scatter",
         "x": [
          15.95,
          15.95
         ],
         "xaxis": "x",
         "y": [
          17.6,
          17.6
         ],
         "yaxis": "y"
        },
        {
         "hovertemplate": "<b>%{hovertext}</b><br><br>Publisher=Bantam<br>Publication Year=2010.0<br>List Price ($)=%{x}<br>Weight (oz)=%{y}<br>Number of Pages=%{marker.size}<extra></extra>",
         "hovertext": [
          "The Grand Design"
         ],
         "legendgroup": "Bantam",
         "marker": {
          "color": "#FECB52",
          "size": [
           208
          ],
          "sizemode": "area",
          "sizeref": 0.9955555555555555,
          "symbol": "circle"
         },
         "mode": "markers",
         "name": "Bantam",
         "orientation": "v",
         "showlegend": true,
         "type": "scatter",
         "x": [
          28
         ],
         "xaxis": "x",
         "y": [
          19.2
         ],
         "yaxis": "y"
        },
        {
         "hovertemplate": "<b>%{hovertext}</b><br><br>Publisher=CreateSpace<br>Publication Year=2010.0<br>List Price ($)=%{x}<br>Weight (oz)=%{y}<br>Number of Pages=%{marker.size}<extra></extra>",
         "hovertext": [
          "Oedipus the King"
         ],
         "legendgroup": "CreateSpace",
         "marker": {
          "color": "#00cc96",
          "size": [
           92
          ],
          "sizemode": "area",
          "sizeref": 0.9955555555555555,
          "symbol": "circle"
         },
         "mode": "markers",
         "name": "CreateSpace",
         "orientation": "v",
         "showlegend": true,
         "type": "scatter",
         "x": [
          6.95
         ],
         "xaxis": "x",
         "y": [
          16
         ],
         "yaxis": "y"
        },
        {
         "hovertemplate": "<b>%{hovertext}</b><br><br>Publisher=Penguin<br>Publication Year=2010.0<br>List Price ($)=%{x}<br>Weight (oz)=%{y}<br>Number of Pages=%{marker.size}<extra></extra>",
         "hovertext": [
          "Saving CeeCee Honeycut",
          "The Audacity to Win: How Obama Won"
         ],
         "legendgroup": "Penguin",
         "marker": {
          "color": "#FFA15A",
          "size": [
           320,
           432
          ],
          "sizemode": "area",
          "sizeref": 0.9955555555555555,
          "symbol": "circle"
         },
         "mode": "markers",
         "name": "Penguin",
         "orientation": "v",
         "showlegend": true,
         "type": "scatter",
         "x": [
          15,
          16
         ],
         "xaxis": "x",
         "y": [
          8,
          12.8
         ],
         "yaxis": "y"
        },
        {
         "hovertemplate": "<b>%{hovertext}</b><br><br>Publisher=Scholastic Press<br>Publication Year=2010.0<br>List Price ($)=%{x}<br>Weight (oz)=%{y}<br>Number of Pages=%{marker.size}<extra></extra>",
         "hovertext": [
          "Mockingjay",
          "The Hunger Games"
         ],
         "legendgroup": "Scholastic Press",
         "marker": {
          "color": "#B6E880",
          "size": [
           400,
           384
          ],
          "sizemode": "area",
          "sizeref": 0.9955555555555555,
          "symbol": "circle"
         },
         "mode": "markers",
         "name": "Scholastic Press",
         "orientation": "v",
         "showlegend": true,
         "type": "scatter",
         "x": [
          17.99,
          8.99
         ],
         "xaxis": "x",
         "y": [
          22.4,
          11.2
         ],
         "yaxis": "y"
        },
        {
         "hovertemplate": "<b>%{hovertext}</b><br><br>Publisher=Longman<br>Publication Year=2010.0<br>List Price ($)=%{x}<br>Weight (oz)=%{y}<br>Number of Pages=%{marker.size}<extra></extra>",
         "hovertext": [
          "Style: Lessons in Clarity and Grace",
          "The Pursuit of History"
         ],
         "legendgroup": "Longman",
         "marker": {
          "color": "#00cc96",
          "size": [
           288,
           368
          ],
          "sizemode": "area",
          "sizeref": 0.9955555555555555,
          "symbol": "circle"
         },
         "mode": "markers",
         "name": "Longman",
         "orientation": "v",
         "showlegend": true,
         "type": "scatter",
         "x": [
          35.75,
          34.8
         ],
         "xaxis": "x",
         "y": [
          12,
          19.2
         ],
         "yaxis": "y"
        },
        {
         "hovertemplate": "<b>%{hovertext}</b><br><br>Publisher=Ballantine Books<br>Publication Year=2010.0<br>List Price ($)=%{x}<br>Weight (oz)=%{y}<br>Number of Pages=%{marker.size}<extra></extra>",
         "hovertext": [
          "Official Book Club Selection: A Memoir According to Kathy Griffin"
         ],
         "legendgroup": "Ballantine Books",
         "marker": {
          "color": "#FFA15A",
          "size": [
           384
          ],
          "sizemode": "area",
          "sizeref": 0.9955555555555555,
          "symbol": "circle"
         },
         "mode": "markers",
         "name": "Ballantine Books",
         "orientation": "v",
         "showlegend": true,
         "type": "scatter",
         "x": [
          15
         ],
         "xaxis": "x",
         "y": [
          9.9
         ],
         "yaxis": "y"
        },
        {
         "hovertemplate": "<b>%{hovertext}</b><br><br>Publisher=Harper<br>Publication Year=2010.0<br>List Price ($)=%{x}<br>Weight (oz)=%{y}<br>Number of Pages=%{marker.size}<extra></extra>",
         "hovertext": [
          "Game Change: Obama and the Clintons, McCain and Palin, and the Race of a Lifetime"
         ],
         "legendgroup": "Harper",
         "marker": {
          "color": "#00cc96",
          "size": [
           464
          ],
          "sizemode": "area",
          "sizeref": 0.9955555555555555,
          "symbol": "circle"
         },
         "mode": "markers",
         "name": "Harper",
         "orientation": "v",
         "showlegend": true,
         "type": "scatter",
         "x": [
          27.99
         ],
         "xaxis": "x",
         "y": [
          1.2
         ],
         "yaxis": "y"
        },
        {
         "hovertemplate": "<b>%{hovertext}</b><br><br>Publisher=Penguin Classics<br>Publication Year=2010.0<br>List Price ($)=%{x}<br>Weight (oz)=%{y}<br>Number of Pages=%{marker.size}<extra></extra>",
         "hovertext": [
          "Olive Twist",
          "The Sonnets and A Lovers Complaint",
          "The Woman in White"
         ],
         "legendgroup": "Penguin Classics",
         "marker": {
          "color": "#FF6692",
          "size": [
           607,
           272,
           720
          ],
          "sizemode": "area",
          "sizeref": 0.9955555555555555,
          "symbol": "circle"
         },
         "mode": "markers",
         "name": "Penguin Classics",
         "orientation": "v",
         "showlegend": true,
         "type": "scatter",
         "x": [
          20,
          20,
          20
         ],
         "xaxis": "x",
         "y": [
          24,
          13.6,
          28.8
         ],
         "yaxis": "y"
        },
        {
         "hovertemplate": "<b>%{hovertext}</b><br><br>Publisher=Little, Brown<br>Publication Year=2010.0<br>List Price ($)=%{x}<br>Weight (oz)=%{y}<br>Number of Pages=%{marker.size}<extra></extra>",
         "hovertext": [
          "Hate List"
         ],
         "legendgroup": "Little, Brown",
         "marker": {
          "color": "#FECB52",
          "size": [
           432
          ],
          "sizemode": "area",
          "sizeref": 0.9955555555555555,
          "symbol": "circle"
         },
         "mode": "markers",
         "name": "Little, Brown",
         "orientation": "v",
         "showlegend": true,
         "type": "scatter",
         "x": [
          8.99
         ],
         "xaxis": "x",
         "y": [
          14.4
         ],
         "yaxis": "y"
        },
        {
         "hovertemplate": "<b>%{hovertext}</b><br><br>Publisher=Bantam Books<br>Publication Year=2010.0<br>List Price ($)=%{x}<br>Weight (oz)=%{y}<br>Number of Pages=%{marker.size}<extra></extra>",
         "hovertext": [
          "Helmet for my pillow"
         ],
         "legendgroup": "Bantam Books",
         "marker": {
          "color": "#636efa",
          "size": [
           305
          ],
          "sizemode": "area",
          "sizeref": 0.9955555555555555,
          "symbol": "circle"
         },
         "mode": "markers",
         "name": "Bantam Books",
         "orientation": "v",
         "showlegend": true,
         "type": "scatter",
         "x": [
          16
         ],
         "xaxis": "x",
         "y": [
          8.8
         ],
         "yaxis": "y"
        },
        {
         "hovertemplate": "<b>%{hovertext}</b><br><br>Publisher=Speak<br>Publication Year=2010.0<br>List Price ($)=%{x}<br>Weight (oz)=%{y}<br>Number of Pages=%{marker.size}<extra></extra>",
         "hovertext": [
          "If I Stay"
         ],
         "legendgroup": "Speak",
         "marker": {
          "color": "#FF6692",
          "size": [
           272
          ],
          "sizemode": "area",
          "sizeref": 0.9955555555555555,
          "symbol": "circle"
         },
         "mode": "markers",
         "name": "Speak",
         "orientation": "v",
         "showlegend": true,
         "type": "scatter",
         "x": [
          6.95
         ],
         "xaxis": "x",
         "y": [
          9.6
         ],
         "yaxis": "y"
        },
        {
         "hovertemplate": "<b>%{hovertext}</b><br><br>Publisher=Crown<br>Publication Year=2010.0<br>List Price ($)=%{x}<br>Weight (oz)=%{y}<br>Number of Pages=%{marker.size}<extra></extra>",
         "hovertext": [
          "Revival: The Struggle for the Survival Inside the Obama White House"
         ],
         "legendgroup": "Crown",
         "marker": {
          "color": "#B6E880",
          "size": [
           320
          ],
          "sizemode": "area",
          "sizeref": 0.9955555555555555,
          "symbol": "circle"
         },
         "mode": "markers",
         "name": "Crown",
         "orientation": "v",
         "showlegend": true,
         "type": "scatter",
         "x": [
          26
         ],
         "xaxis": "x",
         "y": [
          1.2
         ],
         "yaxis": "y"
        },
        {
         "hovertemplate": "<b>%{hovertext}</b><br><br>Publisher=Harvard Business Press<br>Publication Year=2010.0<br>List Price ($)=%{x}<br>Weight (oz)=%{y}<br>Number of Pages=%{marker.size}<extra></extra>",
         "hovertext": [
          "Innovation Killers: How Financial Tools Destroy Your Capacity to Do New Things"
         ],
         "legendgroup": "Harvard Business Press",
         "marker": {
          "color": "#FECB52",
          "size": [
           64
          ],
          "sizemode": "area",
          "sizeref": 0.9955555555555555,
          "symbol": "circle"
         },
         "mode": "markers",
         "name": "Harvard Business Press",
         "orientation": "v",
         "showlegend": true,
         "type": "scatter",
         "x": [
          8.95
         ],
         "xaxis": "x",
         "y": [
          2.4
         ],
         "yaxis": "y"
        },
        {
         "hovertemplate": "<b>%{hovertext}</b><br><br>Publisher=Random House Trade Paperbacks<br>Publication Year=2010.0<br>List Price ($)=%{x}<br>Weight (oz)=%{y}<br>Number of Pages=%{marker.size}<extra></extra>",
         "hovertext": [
          "Major Pettigrew's Last Stand: A Novel"
         ],
         "legendgroup": "Random House Trade Paperbacks",
         "marker": {
          "color": "#00cc96",
          "size": [
           384
          ],
          "sizemode": "area",
          "sizeref": 0.9955555555555555,
          "symbol": "circle"
         },
         "mode": "markers",
         "name": "Random House Trade Paperbacks",
         "orientation": "v",
         "showlegend": true,
         "type": "scatter",
         "x": [
          15
         ],
         "xaxis": "x",
         "y": [
          10.4
         ],
         "yaxis": "y"
        },
        {
         "hovertemplate": "<b>%{hovertext}</b><br><br>Publisher=Dutton Juvenile<br>Publication Year=2010.0<br>List Price ($)=%{x}<br>Weight (oz)=%{y}<br>Number of Pages=%{marker.size}<extra></extra>",
         "hovertext": [
          "Matched"
         ],
         "legendgroup": "Dutton Juvenile",
         "marker": {
          "color": "#EF553B",
          "size": [
           384
          ],
          "sizemode": "area",
          "sizeref": 0.9955555555555555,
          "symbol": "circle"
         },
         "mode": "markers",
         "name": "Dutton Juvenile",
         "orientation": "v",
         "showlegend": true,
         "type": "scatter",
         "x": [
          17.99
         ],
         "xaxis": "x",
         "y": [
          16
         ],
         "yaxis": "y"
        },
        {
         "hovertemplate": "<b>%{hovertext}</b><br><br>Publisher=Washington Square Press<br>Publication Year=2010.0<br>List Price ($)=%{x}<br>Weight (oz)=%{y}<br>Number of Pages=%{marker.size}<extra></extra>",
         "hovertext": [
          "The Forgotten Garden"
         ],
         "legendgroup": "Washington Square Press",
         "marker": {
          "color": "#00cc96",
          "size": [
           560
          ],
          "sizemode": "area",
          "sizeref": 0.9955555555555555,
          "symbol": "circle"
         },
         "mode": "markers",
         "name": "Washington Square Press",
         "orientation": "v",
         "showlegend": true,
         "type": "scatter",
         "x": [
          15
         ],
         "xaxis": "x",
         "y": [
          16
         ],
         "yaxis": "y"
        },
        {
         "hovertemplate": "<b>%{hovertext}</b><br><br>Publisher=W. W. Norton & Company<br>Publication Year=2010.0<br>List Price ($)=%{x}<br>Weight (oz)=%{y}<br>Number of Pages=%{marker.size}<extra></extra>",
         "hovertext": [
          "Worlds Together, Worlds Apart: A History of the World: From 1000 CE to the Present"
         ],
         "legendgroup": "W. W. Norton & Company",
         "marker": {
          "color": "#19d3f3",
          "size": [
           480
          ],
          "sizemode": "area",
          "sizeref": 0.9955555555555555,
          "symbol": "circle"
         },
         "mode": "markers",
         "name": "W. W. Norton & Company",
         "orientation": "v",
         "showlegend": true,
         "type": "scatter",
         "x": [
          97.5
         ],
         "xaxis": "x",
         "y": [
          14.4
         ],
         "yaxis": "y"
        },
        {
         "hovertemplate": "<b>%{hovertext}</b><br><br>Publisher=Nabu Press<br>Publication Year=2010.0<br>List Price ($)=%{x}<br>Weight (oz)=%{y}<br>Number of Pages=%{marker.size}<extra></extra>",
         "hovertext": [
          "Pudd'nhead Wilson"
         ],
         "legendgroup": "Nabu Press",
         "marker": {
          "color": "#00cc96",
          "size": [
           436
          ],
          "sizemode": "area",
          "sizeref": 0.9955555555555555,
          "symbol": "circle"
         },
         "mode": "markers",
         "name": "Nabu Press",
         "orientation": "v",
         "showlegend": true,
         "type": "scatter",
         "x": [
          35.75
         ],
         "xaxis": "x",
         "y": [
          25.6
         ],
         "yaxis": "y"
        },
        {
         "hovertemplate": "<b>%{hovertext}</b><br><br>Publisher=Vision<br>Publication Year=2010.0<br>List Price ($)=%{x}<br>Weight (oz)=%{y}<br>Number of Pages=%{marker.size}<extra></extra>",
         "hovertext": [
          "Run For Your Life"
         ],
         "legendgroup": "Vision",
         "marker": {
          "color": "#19d3f3",
          "size": [
           368
          ],
          "sizemode": "area",
          "sizeref": 0.9955555555555555,
          "symbol": "circle"
         },
         "mode": "markers",
         "name": "Vision",
         "orientation": "v",
         "showlegend": true,
         "type": "scatter",
         "x": [
          9.99
         ],
         "xaxis": "x",
         "y": [
          6.4
         ],
         "yaxis": "y"
        },
        {
         "hovertemplate": "<b>%{hovertext}</b><br><br>Publisher=It Books<br>Publication Year=2010.0<br>List Price ($)=%{x}<br>Weight (oz)=%{y}<br>Number of Pages=%{marker.size}<extra></extra>",
         "hovertext": [
          "Sh*t My Dad Says"
         ],
         "legendgroup": "It Books",
         "marker": {
          "color": "#FF97FF",
          "size": [
           176
          ],
          "sizemode": "area",
          "sizeref": 0.9955555555555555,
          "symbol": "circle"
         },
         "mode": "markers",
         "name": "It Books",
         "orientation": "v",
         "showlegend": true,
         "type": "scatter",
         "x": [
          15.99
         ],
         "xaxis": "x",
         "y": [
          8.8
         ],
         "yaxis": "y"
        },
        {
         "hovertemplate": "<b>%{hovertext}</b><br><br>Publisher=Author Solutions<br>Publication Year=2010.0<br>List Price ($)=%{x}<br>Weight (oz)=%{y}<br>Number of Pages=%{marker.size}<extra></extra>",
         "hovertext": [
          "Sleep for Success: Everything You Must Know About Sleep but Are too Tired to Ask"
         ],
         "legendgroup": "Author Solutions",
         "marker": {
          "color": "#636efa",
          "size": [
           242
          ],
          "sizemode": "area",
          "sizeref": 0.9955555555555555,
          "symbol": "circle"
         },
         "mode": "markers",
         "name": "Author Solutions",
         "orientation": "v",
         "showlegend": true,
         "type": "scatter",
         "x": [
          24
         ],
         "xaxis": "x",
         "y": [
          17.6
         ],
         "yaxis": "y"
        },
        {
         "hovertemplate": "<b>%{hovertext}</b><br><br>Publisher=Princeton University Press<br>Publication Year=2010.0<br>List Price ($)=%{x}<br>Weight (oz)=%{y}<br>Number of Pages=%{marker.size}<extra></extra>",
         "hovertext": [
          "Stalin's Genocides (Human Rights and Crimes Against Humanity)"
         ],
         "legendgroup": "Princeton University Press",
         "marker": {
          "color": "#ab63fa",
          "size": [
           176
          ],
          "sizemode": "area",
          "sizeref": 0.9955555555555555,
          "symbol": "circle"
         },
         "mode": "markers",
         "name": "Princeton University Press",
         "orientation": "v",
         "showlegend": true,
         "type": "scatter",
         "x": [
          26.95
         ],
         "xaxis": "x",
         "y": [
          12.6
         ],
         "yaxis": "y"
        },
        {
         "hovertemplate": "<b>%{hovertext}</b><br><br>Publisher=DA CAPO PRESS<br>Publication Year=2010.0<br>List Price ($)=%{x}<br>Weight (oz)=%{y}<br>Number of Pages=%{marker.size}<extra></extra>",
         "hovertext": [
          "Strong Men Armed"
         ],
         "legendgroup": "DA CAPO PRESS",
         "marker": {
          "color": "#FFA15A",
          "size": [
           600
          ],
          "sizemode": "area",
          "sizeref": 0.9955555555555555,
          "symbol": "circle"
         },
         "mode": "markers",
         "name": "DA CAPO PRESS",
         "orientation": "v",
         "showlegend": true,
         "type": "scatter",
         "x": [
          17.95
         ],
         "xaxis": "x",
         "y": [
          20.8
         ],
         "yaxis": "y"
        },
        {
         "hovertemplate": "<b>%{hovertext}</b><br><br>Publisher=Gotham<br>Publication Year=2010.0<br>List Price ($)=%{x}<br>Weight (oz)=%{y}<br>Number of Pages=%{marker.size}<extra></extra>",
         "hovertext": [
          "Texts From Last Night: All the Texts No One Remembers Sending"
         ],
         "legendgroup": "Gotham",
         "marker": {
          "color": "#FF6692",
          "size": [
           192
          ],
          "sizemode": "area",
          "sizeref": 0.9955555555555555,
          "symbol": "circle"
         },
         "mode": "markers",
         "name": "Gotham",
         "orientation": "v",
         "showlegend": true,
         "type": "scatter",
         "x": [
          15
         ],
         "xaxis": "x",
         "y": [
          9.1
         ],
         "yaxis": "y"
        },
        {
         "hovertemplate": "<b>%{hovertext}</b><br><br>Publisher=Delacorte Books for Young Readers<br>Publication Year=2010.0<br>List Price ($)=%{x}<br>Weight (oz)=%{y}<br>Number of Pages=%{marker.size}<extra></extra>",
         "hovertext": [
          "The Forest of Hands and Teeth"
         ],
         "legendgroup": "Delacorte Books for Young Readers",
         "marker": {
          "color": "#FF6692",
          "size": [
           336
          ],
          "sizemode": "area",
          "sizeref": 0.9955555555555555,
          "symbol": "circle"
         },
         "mode": "markers",
         "name": "Delacorte Books for Young Readers",
         "orientation": "v",
         "showlegend": true,
         "type": "scatter",
         "x": [
          9.99
         ],
         "xaxis": "x",
         "y": [
          8.5
         ],
         "yaxis": "y"
        },
        {
         "hovertemplate": "<b>%{hovertext}</b><br><br>Publisher=Touchstone<br>Publication Year=2010.0<br>List Price ($)=%{x}<br>Weight (oz)=%{y}<br>Number of Pages=%{marker.size}<extra></extra>",
         "hovertext": [
          "The Kitchen House"
         ],
         "legendgroup": "Touchstone",
         "marker": {
          "color": "#FF97FF",
          "size": [
           384
          ],
          "sizemode": "area",
          "sizeref": 0.9955555555555555,
          "symbol": "circle"
         },
         "mode": "markers",
         "name": "Touchstone",
         "orientation": "v",
         "showlegend": true,
         "type": "scatter",
         "x": [
          16
         ],
         "xaxis": "x",
         "y": [
          12.6
         ],
         "yaxis": "y"
        },
        {
         "hovertemplate": "<b>%{hovertext}</b><br><br>Publisher=Arthur A. Levine Books; 1 edition<br>Publication Year=2010.0<br>List Price ($)=%{x}<br>Weight (oz)=%{y}<br>Number of Pages=%{marker.size}<extra></extra>",
         "hovertext": [
          "The Last Summer Of The Death Warriors"
         ],
         "legendgroup": "Arthur A. Levine Books; 1 edition",
         "marker": {
          "color": "#FECB52",
          "size": [
           352
          ],
          "sizemode": "area",
          "sizeref": 0.9955555555555555,
          "symbol": "circle"
         },
         "mode": "markers",
         "name": "Arthur A. Levine Books; 1 edition",
         "orientation": "v",
         "showlegend": true,
         "type": "scatter",
         "x": [
          10.65
         ],
         "xaxis": "x",
         "y": [
          15.2
         ],
         "yaxis": "y"
        },
        {
         "hovertemplate": "<b>%{hovertext}</b><br><br>Publisher=Wiley<br>Publication Year=2010.0<br>List Price ($)=%{x}<br>Weight (oz)=%{y}<br>Number of Pages=%{marker.size}<extra></extra>",
         "hovertext": [
          "The Little Book That Still Beats the Market: 1st edition"
         ],
         "legendgroup": "Wiley",
         "marker": {
          "color": "#636efa",
          "size": [
           183
          ],
          "sizemode": "area",
          "sizeref": 0.9955555555555555,
          "symbol": "circle"
         },
         "mode": "markers",
         "name": "Wiley",
         "orientation": "v",
         "showlegend": true,
         "type": "scatter",
         "x": [
          19.95
         ],
         "xaxis": "x",
         "y": [
          9.1
         ],
         "yaxis": "y"
        },
        {
         "hovertemplate": "<b>%{hovertext}</b><br><br>Publisher=Delacorte Press<br>Publication Year=2010.0<br>List Price ($)=%{x}<br>Weight (oz)=%{y}<br>Number of Pages=%{marker.size}<extra></extra>",
         "hovertext": [
          "The Maze Runner"
         ],
         "legendgroup": "Delacorte Press",
         "marker": {
          "color": "#EF553B",
          "size": [
           400
          ],
          "sizemode": "area",
          "sizeref": 0.9955555555555555,
          "symbol": "circle"
         },
         "mode": "markers",
         "name": "Delacorte Press",
         "orientation": "v",
         "showlegend": true,
         "type": "scatter",
         "x": [
          9.99
         ],
         "xaxis": "x",
         "y": [
          13.4
         ],
         "yaxis": "y"
        },
        {
         "hovertemplate": "<b>%{hovertext}</b><br><br>Publisher=Sterling Innovation<br>Publication Year=2010.0<br>List Price ($)=%{x}<br>Weight (oz)=%{y}<br>Number of Pages=%{marker.size}<extra></extra>",
         "hovertext": [
          "The Official Dictionary of Sarcasm: A Lexicon for Those of Us Who Are Better and Smarter Than the Rest of You"
         ],
         "legendgroup": "Sterling Innovation",
         "marker": {
          "color": "#FFA15A",
          "size": [
           368
          ],
          "sizemode": "area",
          "sizeref": 0.9955555555555555,
          "symbol": "circle"
         },
         "mode": "markers",
         "name": "Sterling Innovation",
         "orientation": "v",
         "showlegend": true,
         "type": "scatter",
         "x": [
          14.95
         ],
         "xaxis": "x",
         "y": [
          26.4
         ],
         "yaxis": "y"
        },
        {
         "hovertemplate": "<b>%{hovertext}</b><br><br>Publisher=Random House<br>Publication Year=2010.0<br>List Price ($)=%{x}<br>Weight (oz)=%{y}<br>Number of Pages=%{marker.size}<extra></extra>",
         "hovertext": [
          "Unbroken"
         ],
         "legendgroup": "Random House",
         "marker": {
          "color": "#00cc96",
          "size": [
           496
          ],
          "sizemode": "area",
          "sizeref": 0.9955555555555555,
          "symbol": "circle"
         },
         "mode": "markers",
         "name": "Random House",
         "orientation": "v",
         "showlegend": true,
         "type": "scatter",
         "x": [
          27
         ],
         "xaxis": "x",
         "y": [
          28
         ],
         "yaxis": "y"
        }
       ],
       "frames": [
        {
         "data": [
          {
           "hovertemplate": "<b>%{hovertext}</b><br><br>Publisher=Adams Media<br>Publication Year=2010.0<br>List Price ($)=%{x}<br>Weight (oz)=%{y}<br>Number of Pages=%{marker.size}<extra></extra>",
           "hovertext": [
            "1,001 Facts that Will Scare the S#*t Out of You: The Ultimate Bathroom Reader"
           ],
           "legendgroup": "Adams Media",
           "marker": {
            "color": "#636efa",
            "size": [
             304
            ],
            "sizemode": "area",
            "sizeref": 0.9955555555555555,
            "symbol": "circle"
           },
           "mode": "markers",
           "name": "Adams Media",
           "orientation": "v",
           "showlegend": true,
           "type": "scatter",
           "x": [
            12.95
           ],
           "xaxis": "x",
           "y": [
            11.2
           ],
           "yaxis": "y"
          },
          {
           "hovertemplate": "<b>%{hovertext}</b><br><br>Publisher=Penguin Classics Hardcover<br>Publication Year=2010.0<br>List Price ($)=%{x}<br>Weight (oz)=%{y}<br>Number of Pages=%{marker.size}<extra></extra>",
           "hovertext": [
            "A Christmas Carol and Other Christmas Writings (Penguin Classics)"
           ],
           "legendgroup": "Penguin Classics Hardcover",
           "marker": {
            "color": "#19d3f3",
            "size": [
             336
            ],
            "sizemode": "area",
            "sizeref": 0.9955555555555555,
            "symbol": "circle"
           },
           "mode": "markers",
           "name": "Penguin Classics Hardcover",
           "orientation": "v",
           "showlegend": true,
           "type": "scatter",
           "x": [
            20
           ],
           "xaxis": "x",
           "y": [
            15.5
           ],
           "yaxis": "y"
          },
          {
           "hovertemplate": "<b>%{hovertext}</b><br><br>Publisher=Vintage<br>Publication Year=2010.0<br>List Price ($)=%{x}<br>Weight (oz)=%{y}<br>Number of Pages=%{marker.size}<extra></extra>",
           "hovertext": [
            "Cutting for Stone",
            "Cutting for Stone"
           ],
           "legendgroup": "Vintage",
           "marker": {
            "color": "#FF97FF",
            "size": [
             667,
             667
            ],
            "sizemode": "area",
            "sizeref": 0.9955555555555555,
            "symbol": "circle"
           },
           "mode": "markers",
           "name": "Vintage",
           "orientation": "v",
           "showlegend": true,
           "type": "scatter",
           "x": [
            15.95,
            15.95
           ],
           "xaxis": "x",
           "y": [
            17.6,
            17.6
           ],
           "yaxis": "y"
          },
          {
           "hovertemplate": "<b>%{hovertext}</b><br><br>Publisher=Bantam<br>Publication Year=2010.0<br>List Price ($)=%{x}<br>Weight (oz)=%{y}<br>Number of Pages=%{marker.size}<extra></extra>",
           "hovertext": [
            "The Grand Design"
           ],
           "legendgroup": "Bantam",
           "marker": {
            "color": "#FECB52",
            "size": [
             208
            ],
            "sizemode": "area",
            "sizeref": 0.9955555555555555,
            "symbol": "circle"
           },
           "mode": "markers",
           "name": "Bantam",
           "orientation": "v",
           "showlegend": true,
           "type": "scatter",
           "x": [
            28
           ],
           "xaxis": "x",
           "y": [
            19.2
           ],
           "yaxis": "y"
          },
          {
           "hovertemplate": "<b>%{hovertext}</b><br><br>Publisher=CreateSpace<br>Publication Year=2010.0<br>List Price ($)=%{x}<br>Weight (oz)=%{y}<br>Number of Pages=%{marker.size}<extra></extra>",
           "hovertext": [
            "Oedipus the King"
           ],
           "legendgroup": "CreateSpace",
           "marker": {
            "color": "#00cc96",
            "size": [
             92
            ],
            "sizemode": "area",
            "sizeref": 0.9955555555555555,
            "symbol": "circle"
           },
           "mode": "markers",
           "name": "CreateSpace",
           "orientation": "v",
           "showlegend": true,
           "type": "scatter",
           "x": [
            6.95
           ],
           "xaxis": "x",
           "y": [
            16
           ],
           "yaxis": "y"
          },
          {
           "hovertemplate": "<b>%{hovertext}</b><br><br>Publisher=Penguin<br>Publication Year=2010.0<br>List Price ($)=%{x}<br>Weight (oz)=%{y}<br>Number of Pages=%{marker.size}<extra></extra>",
           "hovertext": [
            "Saving CeeCee Honeycut",
            "The Audacity to Win: How Obama Won"
           ],
           "legendgroup": "Penguin",
           "marker": {
            "color": "#FFA15A",
            "size": [
             320,
             432
            ],
            "sizemode": "area",
            "sizeref": 0.9955555555555555,
            "symbol": "circle"
           },
           "mode": "markers",
           "name": "Penguin",
           "orientation": "v",
           "showlegend": true,
           "type": "scatter",
           "x": [
            15,
            16
           ],
           "xaxis": "x",
           "y": [
            8,
            12.8
           ],
           "yaxis": "y"
          },
          {
           "hovertemplate": "<b>%{hovertext}</b><br><br>Publisher=Scholastic Press<br>Publication Year=2010.0<br>List Price ($)=%{x}<br>Weight (oz)=%{y}<br>Number of Pages=%{marker.size}<extra></extra>",
           "hovertext": [
            "Mockingjay",
            "The Hunger Games"
           ],
           "legendgroup": "Scholastic Press",
           "marker": {
            "color": "#B6E880",
            "size": [
             400,
             384
            ],
            "sizemode": "area",
            "sizeref": 0.9955555555555555,
            "symbol": "circle"
           },
           "mode": "markers",
           "name": "Scholastic Press",
           "orientation": "v",
           "showlegend": true,
           "type": "scatter",
           "x": [
            17.99,
            8.99
           ],
           "xaxis": "x",
           "y": [
            22.4,
            11.2
           ],
           "yaxis": "y"
          },
          {
           "hovertemplate": "<b>%{hovertext}</b><br><br>Publisher=Longman<br>Publication Year=2010.0<br>List Price ($)=%{x}<br>Weight (oz)=%{y}<br>Number of Pages=%{marker.size}<extra></extra>",
           "hovertext": [
            "Style: Lessons in Clarity and Grace",
            "The Pursuit of History"
           ],
           "legendgroup": "Longman",
           "marker": {
            "color": "#00cc96",
            "size": [
             288,
             368
            ],
            "sizemode": "area",
            "sizeref": 0.9955555555555555,
            "symbol": "circle"
           },
           "mode": "markers",
           "name": "Longman",
           "orientation": "v",
           "showlegend": true,
           "type": "scatter",
           "x": [
            35.75,
            34.8
           ],
           "xaxis": "x",
           "y": [
            12,
            19.2
           ],
           "yaxis": "y"
          },
          {
           "hovertemplate": "<b>%{hovertext}</b><br><br>Publisher=Ballantine Books<br>Publication Year=2010.0<br>List Price ($)=%{x}<br>Weight (oz)=%{y}<br>Number of Pages=%{marker.size}<extra></extra>",
           "hovertext": [
            "Official Book Club Selection: A Memoir According to Kathy Griffin"
           ],
           "legendgroup": "Ballantine Books",
           "marker": {
            "color": "#FFA15A",
            "size": [
             384
            ],
            "sizemode": "area",
            "sizeref": 0.9955555555555555,
            "symbol": "circle"
           },
           "mode": "markers",
           "name": "Ballantine Books",
           "orientation": "v",
           "showlegend": true,
           "type": "scatter",
           "x": [
            15
           ],
           "xaxis": "x",
           "y": [
            9.9
           ],
           "yaxis": "y"
          },
          {
           "hovertemplate": "<b>%{hovertext}</b><br><br>Publisher=Harper<br>Publication Year=2010.0<br>List Price ($)=%{x}<br>Weight (oz)=%{y}<br>Number of Pages=%{marker.size}<extra></extra>",
           "hovertext": [
            "Game Change: Obama and the Clintons, McCain and Palin, and the Race of a Lifetime"
           ],
           "legendgroup": "Harper",
           "marker": {
            "color": "#00cc96",
            "size": [
             464
            ],
            "sizemode": "area",
            "sizeref": 0.9955555555555555,
            "symbol": "circle"
           },
           "mode": "markers",
           "name": "Harper",
           "orientation": "v",
           "showlegend": true,
           "type": "scatter",
           "x": [
            27.99
           ],
           "xaxis": "x",
           "y": [
            1.2
           ],
           "yaxis": "y"
          },
          {
           "hovertemplate": "<b>%{hovertext}</b><br><br>Publisher=Penguin Classics<br>Publication Year=2010.0<br>List Price ($)=%{x}<br>Weight (oz)=%{y}<br>Number of Pages=%{marker.size}<extra></extra>",
           "hovertext": [
            "Olive Twist",
            "The Sonnets and A Lovers Complaint",
            "The Woman in White"
           ],
           "legendgroup": "Penguin Classics",
           "marker": {
            "color": "#FF6692",
            "size": [
             607,
             272,
             720
            ],
            "sizemode": "area",
            "sizeref": 0.9955555555555555,
            "symbol": "circle"
           },
           "mode": "markers",
           "name": "Penguin Classics",
           "orientation": "v",
           "showlegend": true,
           "type": "scatter",
           "x": [
            20,
            20,
            20
           ],
           "xaxis": "x",
           "y": [
            24,
            13.6,
            28.8
           ],
           "yaxis": "y"
          },
          {
           "hovertemplate": "<b>%{hovertext}</b><br><br>Publisher=Little, Brown<br>Publication Year=2010.0<br>List Price ($)=%{x}<br>Weight (oz)=%{y}<br>Number of Pages=%{marker.size}<extra></extra>",
           "hovertext": [
            "Hate List"
           ],
           "legendgroup": "Little, Brown",
           "marker": {
            "color": "#FECB52",
            "size": [
             432
            ],
            "sizemode": "area",
            "sizeref": 0.9955555555555555,
            "symbol": "circle"
           },
           "mode": "markers",
           "name": "Little, Brown",
           "orientation": "v",
           "showlegend": true,
           "type": "scatter",
           "x": [
            8.99
           ],
           "xaxis": "x",
           "y": [
            14.4
           ],
           "yaxis": "y"
          },
          {
           "hovertemplate": "<b>%{hovertext}</b><br><br>Publisher=Bantam Books<br>Publication Year=2010.0<br>List Price ($)=%{x}<br>Weight (oz)=%{y}<br>Number of Pages=%{marker.size}<extra></extra>",
           "hovertext": [
            "Helmet for my pillow"
           ],
           "legendgroup": "Bantam Books",
           "marker": {
            "color": "#636efa",
            "size": [
             305
            ],
            "sizemode": "area",
            "sizeref": 0.9955555555555555,
            "symbol": "circle"
           },
           "mode": "markers",
           "name": "Bantam Books",
           "orientation": "v",
           "showlegend": true,
           "type": "scatter",
           "x": [
            16
           ],
           "xaxis": "x",
           "y": [
            8.8
           ],
           "yaxis": "y"
          },
          {
           "hovertemplate": "<b>%{hovertext}</b><br><br>Publisher=Speak<br>Publication Year=2010.0<br>List Price ($)=%{x}<br>Weight (oz)=%{y}<br>Number of Pages=%{marker.size}<extra></extra>",
           "hovertext": [
            "If I Stay"
           ],
           "legendgroup": "Speak",
           "marker": {
            "color": "#FF6692",
            "size": [
             272
            ],
            "sizemode": "area",
            "sizeref": 0.9955555555555555,
            "symbol": "circle"
           },
           "mode": "markers",
           "name": "Speak",
           "orientation": "v",
           "showlegend": true,
           "type": "scatter",
           "x": [
            6.95
           ],
           "xaxis": "x",
           "y": [
            9.6
           ],
           "yaxis": "y"
          },
          {
           "hovertemplate": "<b>%{hovertext}</b><br><br>Publisher=Crown<br>Publication Year=2010.0<br>List Price ($)=%{x}<br>Weight (oz)=%{y}<br>Number of Pages=%{marker.size}<extra></extra>",
           "hovertext": [
            "Revival: The Struggle for the Survival Inside the Obama White House"
           ],
           "legendgroup": "Crown",
           "marker": {
            "color": "#B6E880",
            "size": [
             320
            ],
            "sizemode": "area",
            "sizeref": 0.9955555555555555,
            "symbol": "circle"
           },
           "mode": "markers",
           "name": "Crown",
           "orientation": "v",
           "showlegend": true,
           "type": "scatter",
           "x": [
            26
           ],
           "xaxis": "x",
           "y": [
            1.2
           ],
           "yaxis": "y"
          },
          {
           "hovertemplate": "<b>%{hovertext}</b><br><br>Publisher=Harvard Business Press<br>Publication Year=2010.0<br>List Price ($)=%{x}<br>Weight (oz)=%{y}<br>Number of Pages=%{marker.size}<extra></extra>",
           "hovertext": [
            "Innovation Killers: How Financial Tools Destroy Your Capacity to Do New Things"
           ],
           "legendgroup": "Harvard Business Press",
           "marker": {
            "color": "#FECB52",
            "size": [
             64
            ],
            "sizemode": "area",
            "sizeref": 0.9955555555555555,
            "symbol": "circle"
           },
           "mode": "markers",
           "name": "Harvard Business Press",
           "orientation": "v",
           "showlegend": true,
           "type": "scatter",
           "x": [
            8.95
           ],
           "xaxis": "x",
           "y": [
            2.4
           ],
           "yaxis": "y"
          },
          {
           "hovertemplate": "<b>%{hovertext}</b><br><br>Publisher=Random House Trade Paperbacks<br>Publication Year=2010.0<br>List Price ($)=%{x}<br>Weight (oz)=%{y}<br>Number of Pages=%{marker.size}<extra></extra>",
           "hovertext": [
            "Major Pettigrew's Last Stand: A Novel"
           ],
           "legendgroup": "Random House Trade Paperbacks",
           "marker": {
            "color": "#00cc96",
            "size": [
             384
            ],
            "sizemode": "area",
            "sizeref": 0.9955555555555555,
            "symbol": "circle"
           },
           "mode": "markers",
           "name": "Random House Trade Paperbacks",
           "orientation": "v",
           "showlegend": true,
           "type": "scatter",
           "x": [
            15
           ],
           "xaxis": "x",
           "y": [
            10.4
           ],
           "yaxis": "y"
          },
          {
           "hovertemplate": "<b>%{hovertext}</b><br><br>Publisher=Dutton Juvenile<br>Publication Year=2010.0<br>List Price ($)=%{x}<br>Weight (oz)=%{y}<br>Number of Pages=%{marker.size}<extra></extra>",
           "hovertext": [
            "Matched"
           ],
           "legendgroup": "Dutton Juvenile",
           "marker": {
            "color": "#EF553B",
            "size": [
             384
            ],
            "sizemode": "area",
            "sizeref": 0.9955555555555555,
            "symbol": "circle"
           },
           "mode": "markers",
           "name": "Dutton Juvenile",
           "orientation": "v",
           "showlegend": true,
           "type": "scatter",
           "x": [
            17.99
           ],
           "xaxis": "x",
           "y": [
            16
           ],
           "yaxis": "y"
          },
          {
           "hovertemplate": "<b>%{hovertext}</b><br><br>Publisher=Washington Square Press<br>Publication Year=2010.0<br>List Price ($)=%{x}<br>Weight (oz)=%{y}<br>Number of Pages=%{marker.size}<extra></extra>",
           "hovertext": [
            "The Forgotten Garden"
           ],
           "legendgroup": "Washington Square Press",
           "marker": {
            "color": "#00cc96",
            "size": [
             560
            ],
            "sizemode": "area",
            "sizeref": 0.9955555555555555,
            "symbol": "circle"
           },
           "mode": "markers",
           "name": "Washington Square Press",
           "orientation": "v",
           "showlegend": true,
           "type": "scatter",
           "x": [
            15
           ],
           "xaxis": "x",
           "y": [
            16
           ],
           "yaxis": "y"
          },
          {
           "hovertemplate": "<b>%{hovertext}</b><br><br>Publisher=W. W. Norton & Company<br>Publication Year=2010.0<br>List Price ($)=%{x}<br>Weight (oz)=%{y}<br>Number of Pages=%{marker.size}<extra></extra>",
           "hovertext": [
            "Worlds Together, Worlds Apart: A History of the World: From 1000 CE to the Present"
           ],
           "legendgroup": "W. W. Norton & Company",
           "marker": {
            "color": "#19d3f3",
            "size": [
             480
            ],
            "sizemode": "area",
            "sizeref": 0.9955555555555555,
            "symbol": "circle"
           },
           "mode": "markers",
           "name": "W. W. Norton & Company",
           "orientation": "v",
           "showlegend": true,
           "type": "scatter",
           "x": [
            97.5
           ],
           "xaxis": "x",
           "y": [
            14.4
           ],
           "yaxis": "y"
          },
          {
           "hovertemplate": "<b>%{hovertext}</b><br><br>Publisher=Nabu Press<br>Publication Year=2010.0<br>List Price ($)=%{x}<br>Weight (oz)=%{y}<br>Number of Pages=%{marker.size}<extra></extra>",
           "hovertext": [
            "Pudd'nhead Wilson"
           ],
           "legendgroup": "Nabu Press",
           "marker": {
            "color": "#00cc96",
            "size": [
             436
            ],
            "sizemode": "area",
            "sizeref": 0.9955555555555555,
            "symbol": "circle"
           },
           "mode": "markers",
           "name": "Nabu Press",
           "orientation": "v",
           "showlegend": true,
           "type": "scatter",
           "x": [
            35.75
           ],
           "xaxis": "x",
           "y": [
            25.6
           ],
           "yaxis": "y"
          },
          {
           "hovertemplate": "<b>%{hovertext}</b><br><br>Publisher=Vision<br>Publication Year=2010.0<br>List Price ($)=%{x}<br>Weight (oz)=%{y}<br>Number of Pages=%{marker.size}<extra></extra>",
           "hovertext": [
            "Run For Your Life"
           ],
           "legendgroup": "Vision",
           "marker": {
            "color": "#19d3f3",
            "size": [
             368
            ],
            "sizemode": "area",
            "sizeref": 0.9955555555555555,
            "symbol": "circle"
           },
           "mode": "markers",
           "name": "Vision",
           "orientation": "v",
           "showlegend": true,
           "type": "scatter",
           "x": [
            9.99
           ],
           "xaxis": "x",
           "y": [
            6.4
           ],
           "yaxis": "y"
          },
          {
           "hovertemplate": "<b>%{hovertext}</b><br><br>Publisher=It Books<br>Publication Year=2010.0<br>List Price ($)=%{x}<br>Weight (oz)=%{y}<br>Number of Pages=%{marker.size}<extra></extra>",
           "hovertext": [
            "Sh*t My Dad Says"
           ],
           "legendgroup": "It Books",
           "marker": {
            "color": "#FF97FF",
            "size": [
             176
            ],
            "sizemode": "area",
            "sizeref": 0.9955555555555555,
            "symbol": "circle"
           },
           "mode": "markers",
           "name": "It Books",
           "orientation": "v",
           "showlegend": true,
           "type": "scatter",
           "x": [
            15.99
           ],
           "xaxis": "x",
           "y": [
            8.8
           ],
           "yaxis": "y"
          },
          {
           "hovertemplate": "<b>%{hovertext}</b><br><br>Publisher=Author Solutions<br>Publication Year=2010.0<br>List Price ($)=%{x}<br>Weight (oz)=%{y}<br>Number of Pages=%{marker.size}<extra></extra>",
           "hovertext": [
            "Sleep for Success: Everything You Must Know About Sleep but Are too Tired to Ask"
           ],
           "legendgroup": "Author Solutions",
           "marker": {
            "color": "#636efa",
            "size": [
             242
            ],
            "sizemode": "area",
            "sizeref": 0.9955555555555555,
            "symbol": "circle"
           },
           "mode": "markers",
           "name": "Author Solutions",
           "orientation": "v",
           "showlegend": true,
           "type": "scatter",
           "x": [
            24
           ],
           "xaxis": "x",
           "y": [
            17.6
           ],
           "yaxis": "y"
          },
          {
           "hovertemplate": "<b>%{hovertext}</b><br><br>Publisher=Princeton University Press<br>Publication Year=2010.0<br>List Price ($)=%{x}<br>Weight (oz)=%{y}<br>Number of Pages=%{marker.size}<extra></extra>",
           "hovertext": [
            "Stalin's Genocides (Human Rights and Crimes Against Humanity)"
           ],
           "legendgroup": "Princeton University Press",
           "marker": {
            "color": "#ab63fa",
            "size": [
             176
            ],
            "sizemode": "area",
            "sizeref": 0.9955555555555555,
            "symbol": "circle"
           },
           "mode": "markers",
           "name": "Princeton University Press",
           "orientation": "v",
           "showlegend": true,
           "type": "scatter",
           "x": [
            26.95
           ],
           "xaxis": "x",
           "y": [
            12.6
           ],
           "yaxis": "y"
          },
          {
           "hovertemplate": "<b>%{hovertext}</b><br><br>Publisher=DA CAPO PRESS<br>Publication Year=2010.0<br>List Price ($)=%{x}<br>Weight (oz)=%{y}<br>Number of Pages=%{marker.size}<extra></extra>",
           "hovertext": [
            "Strong Men Armed"
           ],
           "legendgroup": "DA CAPO PRESS",
           "marker": {
            "color": "#FFA15A",
            "size": [
             600
            ],
            "sizemode": "area",
            "sizeref": 0.9955555555555555,
            "symbol": "circle"
           },
           "mode": "markers",
           "name": "DA CAPO PRESS",
           "orientation": "v",
           "showlegend": true,
           "type": "scatter",
           "x": [
            17.95
           ],
           "xaxis": "x",
           "y": [
            20.8
           ],
           "yaxis": "y"
          },
          {
           "hovertemplate": "<b>%{hovertext}</b><br><br>Publisher=Gotham<br>Publication Year=2010.0<br>List Price ($)=%{x}<br>Weight (oz)=%{y}<br>Number of Pages=%{marker.size}<extra></extra>",
           "hovertext": [
            "Texts From Last Night: All the Texts No One Remembers Sending"
           ],
           "legendgroup": "Gotham",
           "marker": {
            "color": "#FF6692",
            "size": [
             192
            ],
            "sizemode": "area",
            "sizeref": 0.9955555555555555,
            "symbol": "circle"
           },
           "mode": "markers",
           "name": "Gotham",
           "orientation": "v",
           "showlegend": true,
           "type": "scatter",
           "x": [
            15
           ],
           "xaxis": "x",
           "y": [
            9.1
           ],
           "yaxis": "y"
          },
          {
           "hovertemplate": "<b>%{hovertext}</b><br><br>Publisher=Delacorte Books for Young Readers<br>Publication Year=2010.0<br>List Price ($)=%{x}<br>Weight (oz)=%{y}<br>Number of Pages=%{marker.size}<extra></extra>",
           "hovertext": [
            "The Forest of Hands and Teeth"
           ],
           "legendgroup": "Delacorte Books for Young Readers",
           "marker": {
            "color": "#FF6692",
            "size": [
             336
            ],
            "sizemode": "area",
            "sizeref": 0.9955555555555555,
            "symbol": "circle"
           },
           "mode": "markers",
           "name": "Delacorte Books for Young Readers",
           "orientation": "v",
           "showlegend": true,
           "type": "scatter",
           "x": [
            9.99
           ],
           "xaxis": "x",
           "y": [
            8.5
           ],
           "yaxis": "y"
          },
          {
           "hovertemplate": "<b>%{hovertext}</b><br><br>Publisher=Touchstone<br>Publication Year=2010.0<br>List Price ($)=%{x}<br>Weight (oz)=%{y}<br>Number of Pages=%{marker.size}<extra></extra>",
           "hovertext": [
            "The Kitchen House"
           ],
           "legendgroup": "Touchstone",
           "marker": {
            "color": "#FF97FF",
            "size": [
             384
            ],
            "sizemode": "area",
            "sizeref": 0.9955555555555555,
            "symbol": "circle"
           },
           "mode": "markers",
           "name": "Touchstone",
           "orientation": "v",
           "showlegend": true,
           "type": "scatter",
           "x": [
            16
           ],
           "xaxis": "x",
           "y": [
            12.6
           ],
           "yaxis": "y"
          },
          {
           "hovertemplate": "<b>%{hovertext}</b><br><br>Publisher=Arthur A. Levine Books; 1 edition<br>Publication Year=2010.0<br>List Price ($)=%{x}<br>Weight (oz)=%{y}<br>Number of Pages=%{marker.size}<extra></extra>",
           "hovertext": [
            "The Last Summer Of The Death Warriors"
           ],
           "legendgroup": "Arthur A. Levine Books; 1 edition",
           "marker": {
            "color": "#FECB52",
            "size": [
             352
            ],
            "sizemode": "area",
            "sizeref": 0.9955555555555555,
            "symbol": "circle"
           },
           "mode": "markers",
           "name": "Arthur A. Levine Books; 1 edition",
           "orientation": "v",
           "showlegend": true,
           "type": "scatter",
           "x": [
            10.65
           ],
           "xaxis": "x",
           "y": [
            15.2
           ],
           "yaxis": "y"
          },
          {
           "hovertemplate": "<b>%{hovertext}</b><br><br>Publisher=Wiley<br>Publication Year=2010.0<br>List Price ($)=%{x}<br>Weight (oz)=%{y}<br>Number of Pages=%{marker.size}<extra></extra>",
           "hovertext": [
            "The Little Book That Still Beats the Market: 1st edition"
           ],
           "legendgroup": "Wiley",
           "marker": {
            "color": "#636efa",
            "size": [
             183
            ],
            "sizemode": "area",
            "sizeref": 0.9955555555555555,
            "symbol": "circle"
           },
           "mode": "markers",
           "name": "Wiley",
           "orientation": "v",
           "showlegend": true,
           "type": "scatter",
           "x": [
            19.95
           ],
           "xaxis": "x",
           "y": [
            9.1
           ],
           "yaxis": "y"
          },
          {
           "hovertemplate": "<b>%{hovertext}</b><br><br>Publisher=Delacorte Press<br>Publication Year=2010.0<br>List Price ($)=%{x}<br>Weight (oz)=%{y}<br>Number of Pages=%{marker.size}<extra></extra>",
           "hovertext": [
            "The Maze Runner"
           ],
           "legendgroup": "Delacorte Press",
           "marker": {
            "color": "#EF553B",
            "size": [
             400
            ],
            "sizemode": "area",
            "sizeref": 0.9955555555555555,
            "symbol": "circle"
           },
           "mode": "markers",
           "name": "Delacorte Press",
           "orientation": "v",
           "showlegend": true,
           "type": "scatter",
           "x": [
            9.99
           ],
           "xaxis": "x",
           "y": [
            13.4
           ],
           "yaxis": "y"
          },
          {
           "hovertemplate": "<b>%{hovertext}</b><br><br>Publisher=Sterling Innovation<br>Publication Year=2010.0<br>List Price ($)=%{x}<br>Weight (oz)=%{y}<br>Number of Pages=%{marker.size}<extra></extra>",
           "hovertext": [
            "The Official Dictionary of Sarcasm: A Lexicon for Those of Us Who Are Better and Smarter Than the Rest of You"
           ],
           "legendgroup": "Sterling Innovation",
           "marker": {
            "color": "#FFA15A",
            "size": [
             368
            ],
            "sizemode": "area",
            "sizeref": 0.9955555555555555,
            "symbol": "circle"
           },
           "mode": "markers",
           "name": "Sterling Innovation",
           "orientation": "v",
           "showlegend": true,
           "type": "scatter",
           "x": [
            14.95
           ],
           "xaxis": "x",
           "y": [
            26.4
           ],
           "yaxis": "y"
          },
          {
           "hovertemplate": "<b>%{hovertext}</b><br><br>Publisher=Random House<br>Publication Year=2010.0<br>List Price ($)=%{x}<br>Weight (oz)=%{y}<br>Number of Pages=%{marker.size}<extra></extra>",
           "hovertext": [
            "Unbroken"
           ],
           "legendgroup": "Random House",
           "marker": {
            "color": "#00cc96",
            "size": [
             496
            ],
            "sizemode": "area",
            "sizeref": 0.9955555555555555,
            "symbol": "circle"
           },
           "mode": "markers",
           "name": "Random House",
           "orientation": "v",
           "showlegend": true,
           "type": "scatter",
           "x": [
            27
           ],
           "xaxis": "x",
           "y": [
            28
           ],
           "yaxis": "y"
          }
         ],
         "name": "2010.0"
        },
        {
         "data": [
          {
           "hovertemplate": "<b>%{hovertext}</b><br><br>Publisher=Free Press<br>Publication Year=2008.0<br>List Price ($)=%{x}<br>Weight (oz)=%{y}<br>Number of Pages=%{marker.size}<extra></extra>",
           "hovertext": [
            "21: Bringing Down the House - Movie Tie-In: The Inside Story of Six M.I.T. Students Who Took Vegas for Millions"
           ],
           "legendgroup": "Free Press",
           "marker": {
            "color": "#EF553B",
            "size": [
             273
            ],
            "sizemode": "area",
            "sizeref": 0.9955555555555555,
            "symbol": "circle"
           },
           "mode": "markers",
           "name": "Free Press",
           "orientation": "v",
           "showlegend": true,
           "type": "scatter",
           "x": [
            15
           ],
           "xaxis": "x",
           "y": [
            7.2
           ],
           "yaxis": "y"
          },
          {
           "hovertemplate": "<b>%{hovertext}</b><br><br>Publisher=Harper Perennial<br>Publication Year=2008.0<br>List Price ($)=%{x}<br>Weight (oz)=%{y}<br>Number of Pages=%{marker.size}<extra></extra>",
           "hovertext": [
            "1421: The Year China Discovered America"
           ],
           "legendgroup": "Harper Perennial",
           "marker": {
            "color": "#ab63fa",
            "size": [
             672
            ],
            "sizemode": "area",
            "sizeref": 0.9955555555555555,
            "symbol": "circle"
           },
           "mode": "markers",
           "name": "Harper Perennial",
           "orientation": "v",
           "showlegend": true,
           "type": "scatter",
           "x": [
            15.99
           ],
           "xaxis": "x",
           "y": [
            28.8
           ],
           "yaxis": "y"
          },
          {
           "hovertemplate": "<b>%{hovertext}</b><br><br>Publisher=Knopf<br>Publication Year=2008.0<br>List Price ($)=%{x}<br>Weight (oz)=%{y}<br>Number of Pages=%{marker.size}<extra></extra>",
           "hovertext": [
            "Unaccustomed Earth"
           ],
           "legendgroup": "Knopf",
           "marker": {
            "color": "#FFA15A",
            "size": [
             352
            ],
            "sizemode": "area",
            "sizeref": 0.9955555555555555,
            "symbol": "circle"
           },
           "mode": "markers",
           "name": "Knopf",
           "orientation": "v",
           "showlegend": true,
           "type": "scatter",
           "x": [
            25
           ],
           "xaxis": "x",
           "y": [
            20.8
           ],
           "yaxis": "y"
          },
          {
           "hovertemplate": "<b>%{hovertext}</b><br><br>Publisher=Vintage<br>Publication Year=2008.0<br>List Price ($)=%{x}<br>Weight (oz)=%{y}<br>Number of Pages=%{marker.size}<extra></extra>",
           "hovertext": [
            "After Dark"
           ],
           "legendgroup": "Vintage",
           "marker": {
            "color": "#FF97FF",
            "size": [
             256
            ],
            "sizemode": "area",
            "sizeref": 0.9955555555555555,
            "symbol": "circle"
           },
           "mode": "markers",
           "name": "Vintage",
           "orientation": "v",
           "showlegend": true,
           "type": "scatter",
           "x": [
            14.95
           ],
           "xaxis": "x",
           "y": [
            9.1
           ],
           "yaxis": "y"
          },
          {
           "hovertemplate": "<b>%{hovertext}</b><br><br>Publisher=Oxford University Press<br>Publication Year=2008.0<br>List Price ($)=%{x}<br>Weight (oz)=%{y}<br>Number of Pages=%{marker.size}<extra></extra>",
           "hovertext": [
            "A Guide to the Good Life: The Ancient Art of Stoic Joy"
           ],
           "legendgroup": "Oxford University Press",
           "marker": {
            "color": "#636efa",
            "size": [
             336
            ],
            "sizemode": "area",
            "sizeref": 0.9955555555555555,
            "symbol": "circle"
           },
           "mode": "markers",
           "name": "Oxford University Press",
           "orientation": "v",
           "showlegend": true,
           "type": "scatter",
           "x": [
            19.95
           ],
           "xaxis": "x",
           "y": [
            14.9
           ],
           "yaxis": "y"
          },
          {
           "hovertemplate": "<b>%{hovertext}</b><br><br>Publisher=Farrar, Straus and Giroux<br>Publication Year=2008.0<br>List Price ($)=%{x}<br>Weight (oz)=%{y}<br>Number of Pages=%{marker.size}<extra></extra>",
           "hovertext": [
            "Holes"
           ],
           "legendgroup": "Farrar, Straus and Giroux",
           "marker": {
            "color": "#B6E880",
            "size": [
             272
            ],
            "sizemode": "area",
            "sizeref": 0.9955555555555555,
            "symbol": "circle"
           },
           "mode": "markers",
           "name": "Farrar, Straus and Giroux",
           "orientation": "v",
           "showlegend": true,
           "type": "scatter",
           "x": [
            18
           ],
           "xaxis": "x",
           "y": [
            12.8
           ],
           "yaxis": "y"
          },
          {
           "hovertemplate": "<b>%{hovertext}</b><br><br>Publisher=Simon Pulse<br>Publication Year=2008.0<br>List Price ($)=%{x}<br>Weight (oz)=%{y}<br>Number of Pages=%{marker.size}<extra></extra>",
           "hovertext": [
            "Call It Courage"
           ],
           "legendgroup": "Simon Pulse",
           "marker": {
            "color": "#EF553B",
            "size": [
             128
            ],
            "sizemode": "area",
            "sizeref": 0.9955555555555555,
            "symbol": "circle"
           },
           "mode": "markers",
           "name": "Simon Pulse",
           "orientation": "v",
           "showlegend": true,
           "type": "scatter",
           "x": [
            5.99
           ],
           "xaxis": "x",
           "y": [
            2.4
           ],
           "yaxis": "y"
          },
          {
           "hovertemplate": "<b>%{hovertext}</b><br><br>Publisher=Longman<br>Publication Year=2008.0<br>List Price ($)=%{x}<br>Weight (oz)=%{y}<br>Number of Pages=%{marker.size}<extra></extra>",
           "hovertext": [
            "The River Between"
           ],
           "legendgroup": "Longman",
           "marker": {
            "color": "#00cc96",
            "size": [
             152
            ],
            "sizemode": "area",
            "sizeref": 0.9955555555555555,
            "symbol": "circle"
           },
           "mode": "markers",
           "name": "Longman",
           "orientation": "v",
           "showlegend": true,
           "type": "scatter",
           "x": [
            15.95
           ],
           "xaxis": "x",
           "y": [
            4.8
           ],
           "yaxis": "y"
          },
          {
           "hovertemplate": "<b>%{hovertext}</b><br><br>Publisher=BANTAM<br>Publication Year=2008.0<br>List Price ($)=%{x}<br>Weight (oz)=%{y}<br>Number of Pages=%{marker.size}<extra></extra>",
           "hovertext": [
            "Given up for dead"
           ],
           "legendgroup": "BANTAM",
           "marker": {
            "color": "#ab63fa",
            "size": [
             560
            ],
            "sizemode": "area",
            "sizeref": 0.9955555555555555,
            "symbol": "circle"
           },
           "mode": "markers",
           "name": "BANTAM",
           "orientation": "v",
           "showlegend": true,
           "type": "scatter",
           "x": [
            6.99
           ],
           "xaxis": "x",
           "y": [
            9.6
           ],
           "yaxis": "y"
          },
          {
           "hovertemplate": "<b>%{hovertext}</b><br><br>Publisher=Little, Brown<br>Publication Year=2008.0<br>List Price ($)=%{x}<br>Weight (oz)=%{y}<br>Number of Pages=%{marker.size}<extra></extra>",
           "hovertext": [
            "Story of a Girl"
           ],
           "legendgroup": "Little, Brown",
           "marker": {
            "color": "#FECB52",
            "size": [
             224
            ],
            "sizemode": "area",
            "sizeref": 0.9955555555555555,
            "symbol": "circle"
           },
           "mode": "markers",
           "name": "Little, Brown",
           "orientation": "v",
           "showlegend": true,
           "type": "scatter",
           "x": [
            7.99
           ],
           "xaxis": "x",
           "y": [
            4.8
           ],
           "yaxis": "y"
          },
          {
           "hovertemplate": "<b>%{hovertext}</b><br><br>Publisher=Wolfgang Publications<br>Publication Year=2008.0<br>List Price ($)=%{x}<br>Weight (oz)=%{y}<br>Number of Pages=%{marker.size}<extra></extra>",
           "hovertext": [
            "How to Paint Tractors & Trucks"
           ],
           "legendgroup": "Wolfgang Publications",
           "marker": {
            "color": "#ab63fa",
            "size": [
             144
            ],
            "sizemode": "area",
            "sizeref": 0.9955555555555555,
            "symbol": "circle"
           },
           "mode": "markers",
           "name": "Wolfgang Publications",
           "orientation": "v",
           "showlegend": true,
           "type": "scatter",
           "x": [
            27.95
           ],
           "xaxis": "x",
           "y": [
            17.6
           ],
           "yaxis": "y"
          },
          {
           "hovertemplate": "<b>%{hovertext}</b><br><br>Publisher=Mariner Books<br>Publication Year=2008.0<br>List Price ($)=%{x}<br>Weight (oz)=%{y}<br>Number of Pages=%{marker.size}<extra></extra>",
           "hovertext": [
            "The God Delusion"
           ],
           "legendgroup": "Mariner Books",
           "marker": {
            "color": "#636efa",
            "size": [
             464
            ],
            "sizemode": "area",
            "sizeref": 0.9955555555555555,
            "symbol": "circle"
           },
           "mode": "markers",
           "name": "Mariner Books",
           "orientation": "v",
           "showlegend": true,
           "type": "scatter",
           "x": [
            16.95
           ],
           "xaxis": "x",
           "y": [
            16
           ],
           "yaxis": "y"
          },
          {
           "hovertemplate": "<b>%{hovertext}</b><br><br>Publisher=Penguin (Non-classics)<br>Publication Year=2008.0<br>List Price ($)=%{x}<br>Weight (oz)=%{y}<br>Number of Pages=%{marker.size}<extra></extra>",
           "hovertext": [
            "People of the Book"
           ],
           "legendgroup": "Penguin (Non-classics)",
           "marker": {
            "color": "#FECB52",
            "size": [
             372
            ],
            "sizemode": "area",
            "sizeref": 0.9955555555555555,
            "symbol": "circle"
           },
           "mode": "markers",
           "name": "Penguin (Non-classics)",
           "orientation": "v",
           "showlegend": true,
           "type": "scatter",
           "x": [
            15
           ],
           "xaxis": "x",
           "y": [
            10.4
           ],
           "yaxis": "y"
          },
          {
           "hovertemplate": "<b>%{hovertext}</b><br><br>Publisher=St. Martin's Griffin<br>Publication Year=2008.0<br>List Price ($)=%{x}<br>Weight (oz)=%{y}<br>Number of Pages=%{marker.size}<extra></extra>",
           "hovertext": [
            "Sarah's Key"
           ],
           "legendgroup": "St. Martin's Griffin",
           "marker": {
            "color": "#FF6692",
            "size": [
             320
            ],
            "sizemode": "area",
            "sizeref": 0.9955555555555555,
            "symbol": "circle"
           },
           "mode": "markers",
           "name": "St. Martin's Griffin",
           "orientation": "v",
           "showlegend": true,
           "type": "scatter",
           "x": [
            13.95
           ],
           "xaxis": "x",
           "y": [
            11.2
           ],
           "yaxis": "y"
          },
          {
           "hovertemplate": "<b>%{hovertext}</b><br><br>Publisher=Scholastic Press; 1st Edition<br>Publication Year=2008.0<br>List Price ($)=%{x}<br>Weight (oz)=%{y}<br>Number of Pages=%{marker.size}<extra></extra>",
           "hovertext": [
            "The Hunger Games"
           ],
           "legendgroup": "Scholastic Press; 1st Edition",
           "marker": {
            "color": "#00cc96",
            "size": [
             384
            ],
            "sizemode": "area",
            "sizeref": 0.9955555555555555,
            "symbol": "circle"
           },
           "mode": "markers",
           "name": "Scholastic Press; 1st Edition",
           "orientation": "v",
           "showlegend": true,
           "type": "scatter",
           "x": [
            17.99
           ],
           "xaxis": "x",
           "y": [
            16
           ],
           "yaxis": "y"
          }
         ],
         "name": "2008.0"
        },
        {
         "data": [
          {
           "hovertemplate": "<b>%{hovertext}</b><br><br>Publisher=Dover Publications<br>Publication Year=1995.0<br>List Price ($)=%{x}<br>Weight (oz)=%{y}<br>Number of Pages=%{marker.size}<extra></extra>",
           "hovertext": [
            "100 Best-Loved Poems (Dover Thrift Editions)",
            "Pride and Prejudice (Dover Thrift Editions)"
           ],
           "legendgroup": "Dover Publications",
           "marker": {
            "color": "#00cc96",
            "size": [
             96,
             272
            ],
            "sizemode": "area",
            "sizeref": 0.9955555555555555,
            "symbol": "circle"
           },
           "mode": "markers",
           "name": "Dover Publications",
           "orientation": "v",
           "showlegend": true,
           "type": "scatter",
           "x": [
            1.5,
            7.95
           ],
           "xaxis": "x",
           "y": [
            4,
            7.2
           ],
           "yaxis": "y"
          },
          {
           "hovertemplate": "<b>%{hovertext}</b><br><br>Publisher=Scribner<br>Publication Year=1995.0<br>List Price ($)=%{x}<br>Weight (oz)=%{y}<br>Number of Pages=%{marker.size}<extra></extra>",
           "hovertext": [
            "The Old Man and The Sea"
           ],
           "legendgroup": "Scribner",
           "marker": {
            "color": "#B6E880",
            "size": [
             128
            ],
            "sizemode": "area",
            "sizeref": 0.9955555555555555,
            "symbol": "circle"
           },
           "mode": "markers",
           "name": "Scribner",
           "orientation": "v",
           "showlegend": true,
           "type": "scatter",
           "x": [
            12
           ],
           "xaxis": "x",
           "y": [
            4
           ],
           "yaxis": "y"
          },
          {
           "hovertemplate": "<b>%{hovertext}</b><br><br>Publisher=Vintage<br>Publication Year=1995.0<br>List Price ($)=%{x}<br>Weight (oz)=%{y}<br>Number of Pages=%{marker.size}<extra></extra>",
           "hovertext": [
            "Invisible Man"
           ],
           "legendgroup": "Vintage",
           "marker": {
            "color": "#FF97FF",
            "size": [
             608
            ],
            "sizemode": "area",
            "sizeref": 0.9955555555555555,
            "symbol": "circle"
           },
           "mode": "markers",
           "name": "Vintage",
           "orientation": "v",
           "showlegend": true,
           "type": "scatter",
           "x": [
            15.95
           ],
           "xaxis": "x",
           "y": [
            17.6
           ],
           "yaxis": "y"
          },
          {
           "hovertemplate": "<b>%{hovertext}</b><br><br>Publisher=Plume<br>Publication Year=1995.0<br>List Price ($)=%{x}<br>Weight (oz)=%{y}<br>Number of Pages=%{marker.size}<extra></extra>",
           "hovertext": [
            "The Armies of the Night: History as a Novel, the Novel as History"
           ],
           "legendgroup": "Plume",
           "marker": {
            "color": "#EF553B",
            "size": [
             304
            ],
            "sizemode": "area",
            "sizeref": 0.9955555555555555,
            "symbol": "circle"
           },
           "mode": "markers",
           "name": "Plume",
           "orientation": "v",
           "showlegend": true,
           "type": "scatter",
           "x": [
            16
           ],
           "xaxis": "x",
           "y": [
            9.6
           ],
           "yaxis": "y"
          },
          {
           "hovertemplate": "<b>%{hovertext}</b><br><br>Publisher=Modern Library<br>Publication Year=1995.0<br>List Price ($)=%{x}<br>Weight (oz)=%{y}<br>Number of Pages=%{marker.size}<extra></extra>",
           "hovertext": [
            "A Raisin in the Sun",
            "Invisible Man"
           ],
           "legendgroup": "Modern Library",
           "marker": {
            "color": "#FF6692",
            "size": [
             176,
             624
            ],
            "sizemode": "area",
            "sizeref": 0.9955555555555555,
            "symbol": "circle"
           },
           "mode": "markers",
           "name": "Modern Library",
           "orientation": "v",
           "showlegend": true,
           "type": "scatter",
           "x": [
            15.95,
            21
           ],
           "xaxis": "x",
           "y": [
            7.8,
            25.6
           ],
           "yaxis": "y"
          },
          {
           "hovertemplate": "<b>%{hovertext}</b><br><br>Publisher=Everyman's Library<br>Publication Year=1995.0<br>List Price ($)=%{x}<br>Weight (oz)=%{y}<br>Number of Pages=%{marker.size}<extra></extra>",
           "hovertext": [
            "Catch-22"
           ],
           "legendgroup": "Everyman's Library",
           "marker": {
            "color": "#FFA15A",
            "size": [
             624
            ],
            "sizemode": "area",
            "sizeref": 0.9955555555555555,
            "symbol": "circle"
           },
           "mode": "markers",
           "name": "Everyman's Library",
           "orientation": "v",
           "showlegend": true,
           "type": "scatter",
           "x": [
            24
           ],
           "xaxis": "x",
           "y": [
            22.4
           ],
           "yaxis": "y"
          }
         ],
         "name": "1995.0"
        },
        {
         "data": [
          {
           "hovertemplate": "<b>%{hovertext}</b><br><br>Publisher=Knopf<br>Publication Year=2011.0<br>List Price ($)=%{x}<br>Weight (oz)=%{y}<br>Number of Pages=%{marker.size}<extra></extra>",
           "hovertext": [
            "1493: Uncovering the New World Columbus Created",
            "1861:  The Civil War Awakening"
           ],
           "legendgroup": "Knopf",
           "marker": {
            "color": "#FFA15A",
            "size": [
             720,
             460
            ],
            "sizemode": "area",
            "sizeref": 0.9955555555555555,
            "symbol": "circle"
           },
           "mode": "markers",
           "name": "Knopf",
           "orientation": "v",
           "showlegend": true,
           "type": "scatter",
           "x": [
            30.5,
            28.95
           ],
           "xaxis": "x",
           "y": [
            22.4,
            32
           ],
           "yaxis": "y"
          },
          {
           "hovertemplate": "<b>%{hovertext}</b><br><br>Publisher=Penguin Classics Hardcover<br>Publication Year=2011.0<br>List Price ($)=%{x}<br>Weight (oz)=%{y}<br>Number of Pages=%{marker.size}<extra></extra>",
           "hovertext": [
            "Middlemarch (Penguin Hardback Classics)"
           ],
           "legendgroup": "Penguin Classics Hardcover",
           "marker": {
            "color": "#19d3f3",
            "size": [
             880
            ],
            "sizemode": "area",
            "sizeref": 0.9955555555555555,
            "symbol": "circle"
           },
           "mode": "markers",
           "name": "Penguin Classics Hardcover",
           "orientation": "v",
           "showlegend": true,
           "type": "scatter",
           "x": [
            20
           ],
           "xaxis": "x",
           "y": [
            35.2
           ],
           "yaxis": "y"
          },
          {
           "hovertemplate": "<b>%{hovertext}</b><br><br>Publisher=Vintage<br>Publication Year=2011.0<br>List Price ($)=%{x}<br>Weight (oz)=%{y}<br>Number of Pages=%{marker.size}<extra></extra>",
           "hovertext": [
            "The Invisible Bridge (Vintage Contemporaries)",
            "To the End of the Land (Vintage International)"
           ],
           "legendgroup": "Vintage",
           "marker": {
            "color": "#FF97FF",
            "size": [
             784,
             672
            ],
            "sizemode": "area",
            "sizeref": 0.9955555555555555,
            "symbol": "circle"
           },
           "mode": "markers",
           "name": "Vintage",
           "orientation": "v",
           "showlegend": true,
           "type": "scatter",
           "x": [
            15.95,
            15.95
           ],
           "xaxis": "x",
           "y": [
            20.8,
            19.2
           ],
           "yaxis": "y"
          },
          {
           "hovertemplate": "<b>%{hovertext}</b><br><br>Publisher=Bantam<br>Publication Year=2011.0<br>List Price ($)=%{x}<br>Weight (oz)=%{y}<br>Number of Pages=%{marker.size}<extra></extra>",
           "hovertext": [
            "A Game of Thrones: A song of fire and ice",
            "Game of Thrones",
            "Playing for Pizza"
           ],
           "legendgroup": "Bantam",
           "marker": {
            "color": "#FECB52",
            "size": [
             720,
             720,
             272
            ],
            "sizemode": "area",
            "sizeref": 0.9955555555555555,
            "symbol": "circle"
           },
           "mode": "markers",
           "name": "Bantam",
           "orientation": "v",
           "showlegend": true,
           "type": "scatter",
           "x": [
            17,
            17,
            15
           ],
           "xaxis": "x",
           "y": [
            27.2,
            27.2,
            7.2
           ],
           "yaxis": "y"
          },
          {
           "hovertemplate": "<b>%{hovertext}</b><br><br>Publisher=HarperCollins<br>Publication Year=2011.0<br>List Price ($)=%{x}<br>Weight (oz)=%{y}<br>Number of Pages=%{marker.size}<extra></extra>",
           "hovertext": [
            "The Power of Six"
           ],
           "legendgroup": "HarperCollins",
           "marker": {
            "color": "#ab63fa",
            "size": [
             416
            ],
            "sizemode": "area",
            "sizeref": 0.9955555555555555,
            "symbol": "circle"
           },
           "mode": "markers",
           "name": "HarperCollins",
           "orientation": "v",
           "showlegend": true,
           "type": "scatter",
           "x": [
            17.99
           ],
           "xaxis": "x",
           "y": [
            17.6
           ],
           "yaxis": "y"
          },
          {
           "hovertemplate": "<b>%{hovertext}</b><br><br>Publisher=Simon & Brown<br>Publication Year=2011.0<br>List Price ($)=%{x}<br>Weight (oz)=%{y}<br>Number of Pages=%{marker.size}<extra></extra>",
           "hovertext": [
            "A Tale of Two Cities",
            "Frankenstein",
            "The Awakening"
           ],
           "legendgroup": "Simon & Brown",
           "marker": {
            "color": "#FF97FF",
            "size": [
             428,
             208,
             168
            ],
            "sizemode": "area",
            "sizeref": 0.9955555555555555,
            "symbol": "circle"
           },
           "mode": "markers",
           "name": "Simon & Brown",
           "orientation": "v",
           "showlegend": true,
           "type": "scatter",
           "x": [
            11.94,
            8,
            7.75
           ],
           "xaxis": "x",
           "y": [
            24,
            11.2,
            9.6
           ],
           "yaxis": "y"
          },
          {
           "hovertemplate": "<b>%{hovertext}</b><br><br>Publisher=Anchor<br>Publication Year=2011.0<br>List Price ($)=%{x}<br>Weight (oz)=%{y}<br>Number of Pages=%{marker.size}<extra></extra>",
           "hovertext": [
            "A Visit from the Goon Squad"
           ],
           "legendgroup": "Anchor",
           "marker": {
            "color": "#FECB52",
            "size": [
             352
            ],
            "sizemode": "area",
            "sizeref": 0.9955555555555555,
            "symbol": "circle"
           },
           "mode": "markers",
           "name": "Anchor",
           "orientation": "v",
           "showlegend": true,
           "type": "scatter",
           "x": [
            14.95
           ],
           "xaxis": "x",
           "y": [
            12.8
           ],
           "yaxis": "y"
          },
          {
           "hovertemplate": "<b>%{hovertext}</b><br><br>Publisher=CreateSpace<br>Publication Year=2011.0<br>List Price ($)=%{x}<br>Weight (oz)=%{y}<br>Number of Pages=%{marker.size}<extra></extra>",
           "hovertext": [
            "Adventures of Huckleberry Finn"
           ],
           "legendgroup": "CreateSpace",
           "marker": {
            "color": "#00cc96",
            "size": [
             276
            ],
            "sizemode": "area",
            "sizeref": 0.9955555555555555,
            "symbol": "circle"
           },
           "mode": "markers",
           "name": "CreateSpace",
           "orientation": "v",
           "showlegend": true,
           "type": "scatter",
           "x": [
            14.95
           ],
           "xaxis": "x",
           "y": [
            16
           ],
           "yaxis": "y"
          },
          {
           "hovertemplate": "<b>%{hovertext}</b><br><br>Publisher=Reagan Arthur Books<br>Publication Year=2011.0<br>List Price ($)=%{x}<br>Weight (oz)=%{y}<br>Number of Pages=%{marker.size}<extra></extra>",
           "hovertext": [
            "Bossypants"
           ],
           "legendgroup": "Reagan Arthur Books",
           "marker": {
            "color": "#FECB52",
            "size": [
             288
            ],
            "sizemode": "area",
            "sizeref": 0.9955555555555555,
            "symbol": "circle"
           },
           "mode": "markers",
           "name": "Reagan Arthur Books",
           "orientation": "v",
           "showlegend": true,
           "type": "scatter",
           "x": [
            26.99
           ],
           "xaxis": "x",
           "y": [
            19.2
           ],
           "yaxis": "y"
          },
          {
           "hovertemplate": "<b>%{hovertext}</b><br><br>Publisher=Grand Central Publishing<br>Publication Year=2011.0<br>List Price ($)=%{x}<br>Weight (oz)=%{y}<br>Number of Pages=%{marker.size}<extra></extra>",
           "hovertext": [
            "Lies that Chelsea Handler Told Me (A Chelsea Handler Book/Borderline Amazing Publishing)",
            "Safe Haven",
            "Swimsuit",
            "Thank You Notes",
            "The Lincoln Lawyer",
            "This is a Book"
           ],
           "legendgroup": "Grand Central Publishing",
           "marker": {
            "color": "#00cc96",
            "size": [
             304,
             368,
             400,
             176,
             432,
             288
            ],
            "sizemode": "area",
            "sizeref": 0.9955555555555555,
            "symbol": "circle"
           },
           "mode": "markers",
           "name": "Grand Central Publishing",
           "orientation": "v",
           "showlegend": true,
           "type": "scatter",
           "x": [
            24.99,
            14.99,
            9.99,
            12,
            13.99,
            24.99
           ],
           "xaxis": "x",
           "y": [
            14.4,
            11.2,
            7.2,
            7.8,
            11.4,
            15.2
           ],
           "yaxis": "y"
          },
          {
           "hovertemplate": "<b>%{hovertext}</b><br><br>Publisher=Simon and Schuster<br>Publication Year=2011.0<br>List Price ($)=%{x}<br>Weight (oz)=%{y}<br>Number of Pages=%{marker.size}<extra></extra>",
           "hovertext": [
            "Catch-22"
           ],
           "legendgroup": "Simon and Schuster",
           "marker": {
            "color": "#19d3f3",
            "size": [
             544
            ],
            "sizemode": "area",
            "sizeref": 0.9955555555555555,
            "symbol": "circle"
           },
           "mode": "markers",
           "name": "Simon and Schuster",
           "orientation": "v",
           "showlegend": true,
           "type": "scatter",
           "x": [
            16
           ],
           "xaxis": "x",
           "y": [
            19.2
           ],
           "yaxis": "y"
          },
          {
           "hovertemplate": "<b>%{hovertext}</b><br><br>Publisher=Back Bay Books<br>Publication Year=2011.0<br>List Price ($)=%{x}<br>Weight (oz)=%{y}<br>Number of Pages=%{marker.size}<extra></extra>",
           "hovertext": [
            "Room"
           ],
           "legendgroup": "Back Bay Books",
           "marker": {
            "color": "#FF6692",
            "size": [
             352
            ],
            "sizemode": "area",
            "sizeref": 0.9955555555555555,
            "symbol": "circle"
           },
           "mode": "markers",
           "name": "Back Bay Books",
           "orientation": "v",
           "showlegend": true,
           "type": "scatter",
           "x": [
            14.99
           ],
           "xaxis": "x",
           "y": [
            14.4
           ],
           "yaxis": "y"
          },
          {
           "hovertemplate": "<b>%{hovertext}</b><br><br>Publisher=Longman<br>Publication Year=2011.0<br>List Price ($)=%{x}<br>Weight (oz)=%{y}<br>Number of Pages=%{marker.size}<extra></extra>",
           "hovertext": [
            "Curious Researcher, The (7th Edition)"
           ],
           "legendgroup": "Longman",
           "marker": {
            "color": "#00cc96",
            "size": [
             384
            ],
            "sizemode": "area",
            "sizeref": 0.9955555555555555,
            "symbol": "circle"
           },
           "mode": "markers",
           "name": "Longman",
           "orientation": "v",
           "showlegend": true,
           "type": "scatter",
           "x": [
            48.2
           ],
           "xaxis": "x",
           "y": [
            14.4
           ],
           "yaxis": "y"
          },
          {
           "hovertemplate": "<b>%{hovertext}</b><br><br>Publisher=Katherine Tegen Books<br>Publication Year=2011.0<br>List Price ($)=%{x}<br>Weight (oz)=%{y}<br>Number of Pages=%{marker.size}<extra></extra>",
           "hovertext": [
            "Divergent"
           ],
           "legendgroup": "Katherine Tegen Books",
           "marker": {
            "color": "#ab63fa",
            "size": [
             496
            ],
            "sizemode": "area",
            "sizeref": 0.9955555555555555,
            "symbol": "circle"
           },
           "mode": "markers",
           "name": "Katherine Tegen Books",
           "orientation": "v",
           "showlegend": true,
           "type": "scatter",
           "x": [
            17.99
           ],
           "xaxis": "x",
           "y": [
            19.2
           ],
           "yaxis": "y"
          },
          {
           "hovertemplate": "<b>%{hovertext}</b><br><br>Publisher=Ballantine Books<br>Publication Year=2011.0<br>List Price ($)=%{x}<br>Weight (oz)=%{y}<br>Number of Pages=%{marker.size}<extra></extra>",
           "hovertext": [
            "The Paris Wife"
           ],
           "legendgroup": "Ballantine Books",
           "marker": {
            "color": "#FFA15A",
            "size": [
             336
            ],
            "sizemode": "area",
            "sizeref": 0.9955555555555555,
            "symbol": "circle"
           },
           "mode": "markers",
           "name": "Ballantine Books",
           "orientation": "v",
           "showlegend": true,
           "type": "scatter",
           "x": [
            25
           ],
           "xaxis": "x",
           "y": [
            22.4
           ],
           "yaxis": "y"
          },
          {
           "hovertemplate": "<b>%{hovertext}</b><br><br>Publisher=Portfolio Hardcover<br>Publication Year=2011.0<br>List Price ($)=%{x}<br>Weight (oz)=%{y}<br>Number of Pages=%{marker.size}<extra></extra>",
           "hovertext": [
            "Enchantment: The Art of Changing Hearts, Minds, and Actions"
           ],
           "legendgroup": "Portfolio Hardcover",
           "marker": {
            "color": "#19d3f3",
            "size": [
             211
            ],
            "sizemode": "area",
            "sizeref": 0.9955555555555555,
            "symbol": "circle"
           },
           "mode": "markers",
           "name": "Portfolio Hardcover",
           "orientation": "v",
           "showlegend": true,
           "type": "scatter",
           "x": [
            26.95
           ],
           "xaxis": "x",
           "y": [
            8
           ],
           "yaxis": "y"
          },
          {
           "hovertemplate": "<b>%{hovertext}</b><br><br>Publisher=Simon & Schuster<br>Publication Year=2011.0<br>List Price ($)=%{x}<br>Weight (oz)=%{y}<br>Number of Pages=%{marker.size}<extra></extra>",
           "hovertext": [
            "In The Plex: How Google Thinks, Works, and Shapes Our Lives"
           ],
           "legendgroup": "Simon & Schuster",
           "marker": {
            "color": "#636efa",
            "size": [
             432
            ],
            "sizemode": "area",
            "sizeref": 0.9955555555555555,
            "symbol": "circle"
           },
           "mode": "markers",
           "name": "Simon & Schuster",
           "orientation": "v",
           "showlegend": true,
           "type": "scatter",
           "x": [
            26
           ],
           "xaxis": "x",
           "y": [
            22.4
           ],
           "yaxis": "y"
          },
          {
           "hovertemplate": "<b>%{hovertext}</b><br><br>Publisher=Atria<br>Publication Year=2011.0<br>List Price ($)=%{x}<br>Weight (oz)=%{y}<br>Number of Pages=%{marker.size}<extra></extra>",
           "hovertext": [
            "Full Black: A Thriller (Scot Harvath)"
           ],
           "legendgroup": "Atria",
           "marker": {
            "color": "#EF553B",
            "size": [
             400
            ],
            "sizemode": "area",
            "sizeref": 0.9955555555555555,
            "symbol": "circle"
           },
           "mode": "markers",
           "name": "Atria",
           "orientation": "v",
           "showlegend": true,
           "type": "scatter",
           "x": [
            26.99
           ],
           "xaxis": "x",
           "y": [
            22.4
           ],
           "yaxis": "y"
          },
          {
           "hovertemplate": "<b>%{hovertext}</b><br><br>Publisher=Harper<br>Publication Year=2011.0<br>List Price ($)=%{x}<br>Weight (oz)=%{y}<br>Number of Pages=%{marker.size}<extra></extra>",
           "hovertext": [
            "Lost in Shangri-La",
            "State of Wonder"
           ],
           "legendgroup": "Harper",
           "marker": {
            "color": "#00cc96",
            "size": [
             400,
             368
            ],
            "sizemode": "area",
            "sizeref": 0.9955555555555555,
            "symbol": "circle"
           },
           "mode": "markers",
           "name": "Harper",
           "orientation": "v",
           "showlegend": true,
           "type": "scatter",
           "x": [
            26.99,
            26.99
           ],
           "xaxis": "x",
           "y": [
            22.4,
            19.2
           ],
           "yaxis": "y"
          },
          {
           "hovertemplate": "<b>%{hovertext}</b><br><br>Publisher=Akashic Books<br>Publication Year=2011.0<br>List Price ($)=%{x}<br>Weight (oz)=%{y}<br>Number of Pages=%{marker.size}<extra></extra>",
           "hovertext": [
            "Go the F**k Asleep"
           ],
           "legendgroup": "Akashic Books",
           "marker": {
            "color": "#FFA15A",
            "size": [
             32
            ],
            "sizemode": "area",
            "sizeref": 0.9955555555555555,
            "symbol": "circle"
           },
           "mode": "markers",
           "name": "Akashic Books",
           "orientation": "v",
           "showlegend": true,
           "type": "scatter",
           "x": [
            14.95
           ],
           "xaxis": "x",
           "y": [
            8
           ],
           "yaxis": "y"
          },
          {
           "hovertemplate": "<b>%{hovertext}</b><br><br>Publisher=Hyperion Book CH<br>Publication Year=2011.0<br>List Price ($)=%{x}<br>Weight (oz)=%{y}<br>Number of Pages=%{marker.size}<extra></extra>",
           "hovertext": [
            "Heroes of Olympus, The, Book Two: The Son of Neptune"
           ],
           "legendgroup": "Hyperion Book CH",
           "marker": {
            "color": "#EF553B",
            "size": [
             544
            ],
            "sizemode": "area",
            "sizeref": 0.9955555555555555,
            "symbol": "circle"
           },
           "mode": "markers",
           "name": "Hyperion Book CH",
           "orientation": "v",
           "showlegend": true,
           "type": "scatter",
           "x": [
            19.99
           ],
           "xaxis": "x",
           "y": [
            25.6
           ],
           "yaxis": "y"
          },
          {
           "hovertemplate": "<b>%{hovertext}</b><br><br>Publisher=Crown<br>Publication Year=2011.0<br>List Price ($)=%{x}<br>Weight (oz)=%{y}<br>Number of Pages=%{marker.size}<extra></extra>",
           "hovertext": [
            "In the Garden of Beasts: Love, Terror, and an American Family in Hitler's Berlin"
           ],
           "legendgroup": "Crown",
           "marker": {
            "color": "#B6E880",
            "size": [
             464
            ],
            "sizemode": "area",
            "sizeref": 0.9955555555555555,
            "symbol": "circle"
           },
           "mode": "markers",
           "name": "Crown",
           "orientation": "v",
           "showlegend": true,
           "type": "scatter",
           "x": [
            26
           ],
           "xaxis": "x",
           "y": [
            25.6
           ],
           "yaxis": "y"
          },
          {
           "hovertemplate": "<b>%{hovertext}</b><br><br>Publisher=Wm. B. Eerdmans<br>Publication Year=2011.0<br>List Price ($)=%{x}<br>Weight (oz)=%{y}<br>Number of Pages=%{marker.size}<extra></extra>",
           "hovertext": [
            "Islam:  A Short Guide to the Faith"
           ],
           "legendgroup": "Wm. B. Eerdmans",
           "marker": {
            "color": "#EF553B",
            "size": [
             200
            ],
            "sizemode": "area",
            "sizeref": 0.9955555555555555,
            "symbol": "circle"
           },
           "mode": "markers",
           "name": "Wm. B. Eerdmans",
           "orientation": "v",
           "showlegend": true,
           "type": "scatter",
           "x": [
            20
           ],
           "xaxis": "x",
           "y": [
            11.2
           ],
           "yaxis": "y"
          },
          {
           "hovertemplate": "<b>%{hovertext}</b><br><br>Publisher=Washington Square Press<br>Publication Year=2011.0<br>List Price ($)=%{x}<br>Weight (oz)=%{y}<br>Number of Pages=%{marker.size}<extra></extra>",
           "hovertext": [
            "The Distant Hours"
           ],
           "legendgroup": "Washington Square Press",
           "marker": {
            "color": "#00cc96",
            "size": [
             576
            ],
            "sizemode": "area",
            "sizeref": 0.9955555555555555,
            "symbol": "circle"
           },
           "mode": "markers",
           "name": "Washington Square Press",
           "orientation": "v",
           "showlegend": true,
           "type": "scatter",
           "x": [
            15
           ],
           "xaxis": "x",
           "y": [
            19.2
           ],
           "yaxis": "y"
          },
          {
           "hovertemplate": "<b>%{hovertext}</b><br><br>Publisher=CreatSpace<br>Publication Year=2011.0<br>List Price ($)=%{x}<br>Weight (oz)=%{y}<br>Number of Pages=%{marker.size}<extra></extra>",
           "hovertext": [
            "Pride and Prejudice",
            "Wuthering Heights"
           ],
           "legendgroup": "CreatSpace",
           "marker": {
            "color": "#EF553B",
            "size": [
             262,
             344
            ],
            "sizemode": "area",
            "sizeref": 0.9955555555555555,
            "symbol": "circle"
           },
           "mode": "markers",
           "name": "CreatSpace",
           "orientation": "v",
           "showlegend": true,
           "type": "scatter",
           "x": [
            14.99,
            16.99
           ],
           "xaxis": "x",
           "y": [
            16,
            16
           ],
           "yaxis": "y"
          },
          {
           "hovertemplate": "<b>%{hovertext}</b><br><br>Publisher=DoubleDay<br>Publication Year=2011.0<br>List Price ($)=%{x}<br>Weight (oz)=%{y}<br>Number of Pages=%{marker.size}<extra></extra>",
           "hovertext": [
            "Sex on the Moon:  The Amazing Story Behind the Most Audacious Heist in History"
           ],
           "legendgroup": "DoubleDay",
           "marker": {
            "color": "#B6E880",
            "size": [
             320
            ],
            "sizemode": "area",
            "sizeref": 0.9955555555555555,
            "symbol": "circle"
           },
           "mode": "markers",
           "name": "DoubleDay",
           "orientation": "v",
           "showlegend": true,
           "type": "scatter",
           "x": [
            26.95
           ],
           "xaxis": "x",
           "y": [
            20.8
           ],
           "yaxis": "y"
          },
          {
           "hovertemplate": "<b>%{hovertext}</b><br><br>Publisher=Kalindi Pres<br>Publication Year=2011.0<br>List Price ($)=%{x}<br>Weight (oz)=%{y}<br>Number of Pages=%{marker.size}<extra></extra>",
           "hovertext": [
            "The Detox Miracle Sourcebook: Raw Foods and Herbs for Complete Cellular Regeneration"
           ],
           "legendgroup": "Kalindi Pres",
           "marker": {
            "color": "#19d3f3",
            "size": [
             384
            ],
            "sizemode": "area",
            "sizeref": 0.9955555555555555,
            "symbol": "circle"
           },
           "mode": "markers",
           "name": "Kalindi Pres",
           "orientation": "v",
           "showlegend": true,
           "type": "scatter",
           "x": [
            30
           ],
           "xaxis": "x",
           "y": [
            32
           ],
           "yaxis": "y"
          },
          {
           "hovertemplate": "<b>%{hovertext}</b><br><br>Publisher=Berkley Trade<br>Publication Year=2011.0<br>List Price ($)=%{x}<br>Weight (oz)=%{y}<br>Number of Pages=%{marker.size}<extra></extra>",
           "hovertext": [
            "The Help"
           ],
           "legendgroup": "Berkley Trade",
           "marker": {
            "color": "#EF553B",
            "size": [
             544
            ],
            "sizemode": "area",
            "sizeref": 0.9955555555555555,
            "symbol": "circle"
           },
           "mode": "markers",
           "name": "Berkley Trade",
           "orientation": "v",
           "showlegend": true,
           "type": "scatter",
           "x": [
            16
           ],
           "xaxis": "x",
           "y": [
            9.6
           ],
           "yaxis": "y"
          },
          {
           "hovertemplate": "<b>%{hovertext}</b><br><br>Publisher=Broadway<br>Publication Year=2011.0<br>List Price ($)=%{x}<br>Weight (oz)=%{y}<br>Number of Pages=%{marker.size}<extra></extra>",
           "hovertext": [
            "The Immortal Life of Henrietta Lacks"
           ],
           "legendgroup": "Broadway",
           "marker": {
            "color": "#ab63fa",
            "size": [
             400
            ],
            "sizemode": "area",
            "sizeref": 0.9955555555555555,
            "symbol": "circle"
           },
           "mode": "markers",
           "name": "Broadway",
           "orientation": "v",
           "showlegend": true,
           "type": "scatter",
           "x": [
            16
           ],
           "xaxis": "x",
           "y": [
            16
           ],
           "yaxis": "y"
          },
          {
           "hovertemplate": "<b>%{hovertext}</b><br><br>Publisher=Dial Press Trade Paperback<br>Publication Year=2011.0<br>List Price ($)=%{x}<br>Weight (oz)=%{y}<br>Number of Pages=%{marker.size}<extra></extra>",
           "hovertext": [
            "The Imperfectionists: A Novel (Random House Reader's Circle)"
           ],
           "legendgroup": "Dial Press Trade Paperback",
           "marker": {
            "color": "#FFA15A",
            "size": [
             304
            ],
            "sizemode": "area",
            "sizeref": 0.9955555555555555,
            "symbol": "circle"
           },
           "mode": "markers",
           "name": "Dial Press Trade Paperback",
           "orientation": "v",
           "showlegend": true,
           "type": "scatter",
           "x": [
            15
           ],
           "xaxis": "x",
           "y": [
            8.8
           ],
           "yaxis": "y"
          },
          {
           "hovertemplate": "<b>%{hovertext}</b><br><br>Publisher=Tribeca Books<br>Publication Year=2011.0<br>List Price ($)=%{x}<br>Weight (oz)=%{y}<br>Number of Pages=%{marker.size}<extra></extra>",
           "hovertext": [
            "The Scarlet Letter"
           ],
           "legendgroup": "Tribeca Books",
           "marker": {
            "color": "#B6E880",
            "size": [
             140
            ],
            "sizemode": "area",
            "sizeref": 0.9955555555555555,
            "symbol": "circle"
           },
           "mode": "markers",
           "name": "Tribeca Books",
           "orientation": "v",
           "showlegend": true,
           "type": "scatter",
           "x": [
            7.77
           ],
           "xaxis": "x",
           "y": [
            16
           ],
           "yaxis": "y"
          },
          {
           "hovertemplate": "<b>%{hovertext}</b><br><br>Publisher=Random House<br>Publication Year=2011.0<br>List Price ($)=%{x}<br>Weight (oz)=%{y}<br>Number of Pages=%{marker.size}<extra></extra>",
           "hovertext": [
            "The Tiger's Wife: A Novel",
            "The Tragedy of Arthur: A Novel"
           ],
           "legendgroup": "Random House",
           "marker": {
            "color": "#00cc96",
            "size": [
             352,
             384
            ],
            "sizemode": "area",
            "sizeref": 0.9955555555555555,
            "symbol": "circle"
           },
           "mode": "markers",
           "name": "Random House",
           "orientation": "v",
           "showlegend": true,
           "type": "scatter",
           "x": [
            25,
            26
           ],
           "xaxis": "x",
           "y": [
            17.6,
            22.4
           ],
           "yaxis": "y"
          },
          {
           "hovertemplate": "<b>%{hovertext}</b><br><br>Publisher=Razorbill<br>Publication Year=2011.0<br>List Price ($)=%{x}<br>Weight (oz)=%{y}<br>Number of Pages=%{marker.size}<extra></extra>",
           "hovertext": [
            "Thirteen Reasons Why"
           ],
           "legendgroup": "Razorbill",
           "marker": {
            "color": "#FF6692",
            "size": [
             336
            ],
            "sizemode": "area",
            "sizeref": 0.9955555555555555,
            "symbol": "circle"
           },
           "mode": "markers",
           "name": "Razorbill",
           "orientation": "v",
           "showlegend": true,
           "type": "scatter",
           "x": [
            10.99
           ],
           "xaxis": "x",
           "y": [
            12
           ],
           "yaxis": "y"
          },
          {
           "hovertemplate": "<b>%{hovertext}</b><br><br>Publisher=Houghton Mifflin Harcourt<br>Publication Year=2011.0<br>List Price ($)=%{x}<br>Weight (oz)=%{y}<br>Number of Pages=%{marker.size}<extra></extra>",
           "hovertext": [
            "To End All Wars: A Story of Loyalty and Rebellion, 1914-1918"
           ],
           "legendgroup": "Houghton Mifflin Harcourt",
           "marker": {
            "color": "#B6E880",
            "size": [
             480
            ],
            "sizemode": "area",
            "sizeref": 0.9955555555555555,
            "symbol": "circle"
           },
           "mode": "markers",
           "name": "Houghton Mifflin Harcourt",
           "orientation": "v",
           "showlegend": true,
           "type": "scatter",
           "x": [
            28
           ],
           "xaxis": "x",
           "y": [
            25.6
           ],
           "yaxis": "y"
          },
          {
           "hovertemplate": "<b>%{hovertext}</b><br><br>Publisher=Worth Publishers<br>Publication Year=2011.0<br>List Price ($)=%{x}<br>Weight (oz)=%{y}<br>Number of Pages=%{marker.size}<extra></extra>",
           "hovertext": [
            "White Privilege"
           ],
           "legendgroup": "Worth Publishers",
           "marker": {
            "color": "#00cc96",
            "size": [
             160
            ],
            "sizemode": "area",
            "sizeref": 0.9955555555555555,
            "symbol": "circle"
           },
           "mode": "markers",
           "name": "Worth Publishers",
           "orientation": "v",
           "showlegend": true,
           "type": "scatter",
           "x": [
            27.55
           ],
           "xaxis": "x",
           "y": [
            8
           ],
           "yaxis": "y"
          }
         ],
         "name": "2011.0"
        },
        {
         "data": [
          {
           "hovertemplate": "<b>%{hovertext}</b><br><br>Publisher=Grove Weidenfeld<br>Publication Year=1987.0<br>List Price ($)=%{x}<br>Weight (oz)=%{y}<br>Number of Pages=%{marker.size}<extra></extra>",
           "hovertext": [
            "A Confederacy of Dunces"
           ],
           "legendgroup": "Grove Weidenfeld",
           "marker": {
            "color": "#FF6692",
            "size": [
             405
            ],
            "sizemode": "area",
            "sizeref": 0.9955555555555555,
            "symbol": "circle"
           },
           "mode": "markers",
           "name": "Grove Weidenfeld",
           "orientation": "v",
           "showlegend": true,
           "type": "scatter",
           "x": [
            15
           ],
           "xaxis": "x",
           "y": [
            11.2
           ],
           "yaxis": "y"
          },
          {
           "hovertemplate": "<b>%{hovertext}</b><br><br>Publisher=Ballantine Books<br>Publication Year=1987.0<br>List Price ($)=%{x}<br>Weight (oz)=%{y}<br>Number of Pages=%{marker.size}<extra></extra>",
           "hovertext": [
            "Fahrenheit 451"
           ],
           "legendgroup": "Ballantine Books",
           "marker": {
            "color": "#FFA15A",
            "size": [
             208
            ],
            "sizemode": "area",
            "sizeref": 0.9955555555555555,
            "symbol": "circle"
           },
           "mode": "markers",
           "name": "Ballantine Books",
           "orientation": "v",
           "showlegend": true,
           "type": "scatter",
           "x": [
            6.99
           ],
           "xaxis": "x",
           "y": [
            4
           ],
           "yaxis": "y"
          },
          {
           "hovertemplate": "<b>%{hovertext}</b><br><br>Publisher=W. W. Norton & Co.<br>Publication Year=1987.0<br>List Price ($)=%{x}<br>Weight (oz)=%{y}<br>Number of Pages=%{marker.size}<extra></extra>",
           "hovertext": [
            "Nathaniel Hawthorne's Tales"
           ],
           "legendgroup": "W. W. Norton & Co.",
           "marker": {
            "color": "#FF6692",
            "size": [
             480
            ],
            "sizemode": "area",
            "sizeref": 0.9955555555555555,
            "symbol": "circle"
           },
           "mode": "markers",
           "name": "W. W. Norton & Co.",
           "orientation": "v",
           "showlegend": true,
           "type": "scatter",
           "x": [
            13.83
           ],
           "xaxis": "x",
           "y": [
            17.6
           ],
           "yaxis": "y"
          }
         ],
         "name": "1987.0"
        },
        {
         "data": [
          {
           "hovertemplate": "<b>%{hovertext}</b><br><br>Publisher=Scribner<br>Publication Year=1997.0<br>List Price ($)=%{x}<br>Weight (oz)=%{y}<br>Number of Pages=%{marker.size}<extra></extra>",
           "hovertext": [
            "A Farewell To Arms"
           ],
           "legendgroup": "Scribner",
           "marker": {
            "color": "#B6E880",
            "size": [
             304
            ],
            "sizemode": "area",
            "sizeref": 0.9955555555555555,
            "symbol": "circle"
           },
           "mode": "markers",
           "name": "Scribner",
           "orientation": "v",
           "showlegend": true,
           "type": "scatter",
           "x": [
            30
           ],
           "xaxis": "x",
           "y": [
            19.2
           ],
           "yaxis": "y"
          },
          {
           "hovertemplate": "<b>%{hovertext}</b><br><br>Publisher=Vintage<br>Publication Year=1997.0<br>List Price ($)=%{x}<br>Weight (oz)=%{y}<br>Number of Pages=%{marker.size}<extra></extra>",
           "hovertext": [
            "A Virtuous Woman"
           ],
           "legendgroup": "Vintage",
           "marker": {
            "color": "#FF97FF",
            "size": [
             176
            ],
            "sizemode": "area",
            "sizeref": 0.9955555555555555,
            "symbol": "circle"
           },
           "mode": "markers",
           "name": "Vintage",
           "orientation": "v",
           "showlegend": true,
           "type": "scatter",
           "x": [
            14
           ],
           "xaxis": "x",
           "y": [
            9.6
           ],
           "yaxis": "y"
          },
          {
           "hovertemplate": "<b>%{hovertext}</b><br><br>Publisher=Random House Books<br>Publication Year=1997.0<br>List Price ($)=%{x}<br>Weight (oz)=%{y}<br>Number of Pages=%{marker.size}<extra></extra>",
           "hovertext": [
            "The Shape of Me and Other Stuff: Dr. Seuss's Surprising Word Book"
           ],
           "legendgroup": "Random House Books",
           "marker": {
            "color": "#B6E880",
            "size": [
             24
            ],
            "sizemode": "area",
            "sizeref": 0.9955555555555555,
            "symbol": "circle"
           },
           "mode": "markers",
           "name": "Random House Books",
           "orientation": "v",
           "showlegend": true,
           "type": "scatter",
           "x": [
            8.99
           ],
           "xaxis": "x",
           "y": [
            1.6
           ],
           "yaxis": "y"
          },
          {
           "hovertemplate": "<b>%{hovertext}</b><br><br>Publisher=Riverhead Trade<br>Publication Year=1997.0<br>List Price ($)=%{x}<br>Weight (oz)=%{y}<br>Number of Pages=%{marker.size}<extra></extra>",
           "hovertext": [
            "The Cloister Walk"
           ],
           "legendgroup": "Riverhead Trade",
           "marker": {
            "color": "#FF97FF",
            "size": [
             416
            ],
            "sizemode": "area",
            "sizeref": 0.9955555555555555,
            "symbol": "circle"
           },
           "mode": "markers",
           "name": "Riverhead Trade",
           "orientation": "v",
           "showlegend": true,
           "type": "scatter",
           "x": [
            15
           ],
           "xaxis": "x",
           "y": [
            13.6
           ],
           "yaxis": "y"
          },
          {
           "hovertemplate": "<b>%{hovertext}</b><br><br>Publisher=Speak<br>Publication Year=1997.0<br>List Price ($)=%{x}<br>Weight (oz)=%{y}<br>Number of Pages=%{marker.size}<extra></extra>",
           "hovertext": [
            "The Outsiders"
           ],
           "legendgroup": "Speak",
           "marker": {
            "color": "#FF6692",
            "size": [
             192
            ],
            "sizemode": "area",
            "sizeref": 0.9955555555555555,
            "symbol": "circle"
           },
           "mode": "markers",
           "name": "Speak",
           "orientation": "v",
           "showlegend": true,
           "type": "scatter",
           "x": [
            9.99
           ],
           "xaxis": "x",
           "y": [
            5.6
           ],
           "yaxis": "y"
          },
          {
           "hovertemplate": "<b>%{hovertext}</b><br><br>Publisher=Avon Books<br>Publication Year=1997.0<br>List Price ($)=%{x}<br>Weight (oz)=%{y}<br>Number of Pages=%{marker.size}<extra></extra>",
           "hovertext": [
            "Rebecca"
           ],
           "legendgroup": "Avon Books",
           "marker": {
            "color": "#ab63fa",
            "size": [
             416
            ],
            "sizemode": "area",
            "sizeref": 0.9955555555555555,
            "symbol": "circle"
           },
           "mode": "markers",
           "name": "Avon Books",
           "orientation": "v",
           "showlegend": true,
           "type": "scatter",
           "x": [
            14.95
           ],
           "xaxis": "x",
           "y": [
            11.2
           ],
           "yaxis": "y"
          }
         ],
         "name": "1997.0"
        },
        {
         "data": [
          {
           "hovertemplate": "<b>%{hovertext}</b><br><br>Publisher=Vintage<br>Publication Year=2001.0<br>List Price ($)=%{x}<br>Weight (oz)=%{y}<br>Number of Pages=%{marker.size}<extra></extra>",
           "hovertext": [
            "A Fine Balance",
            "Lives of Girls and Women: A Novel",
            "Underground: The Tokyo Gas Attack and the Japanese Psyche"
           ],
           "legendgroup": "Vintage",
           "marker": {
            "color": "#FF97FF",
            "size": [
             624,
             288,
             384
            ],
            "sizemode": "area",
            "sizeref": 0.9955555555555555,
            "symbol": "circle"
           },
           "mode": "markers",
           "name": "Vintage",
           "orientation": "v",
           "showlegend": true,
           "type": "scatter",
           "x": [
            17,
            15,
            15
           ],
           "xaxis": "x",
           "y": [
            16.2,
            16,
            10.6
           ],
           "yaxis": "y"
          },
          {
           "hovertemplate": "<b>%{hovertext}</b><br><br>Publisher=HarperCollins<br>Publication Year=2001.0<br>List Price ($)=%{x}<br>Weight (oz)=%{y}<br>Number of Pages=%{marker.size}<extra></extra>",
           "hovertext": [
            "Charlotte's Web"
           ],
           "legendgroup": "HarperCollins",
           "marker": {
            "color": "#ab63fa",
            "size": [
             192
            ],
            "sizemode": "area",
            "sizeref": 0.9955555555555555,
            "symbol": "circle"
           },
           "mode": "markers",
           "name": "HarperCollins",
           "orientation": "v",
           "showlegend": true,
           "type": "scatter",
           "x": [
            8.99
           ],
           "xaxis": "x",
           "y": [
            13.6
           ],
           "yaxis": "y"
          },
          {
           "hovertemplate": "<b>%{hovertext}</b><br><br>Publisher=Back Bay Books<br>Publication Year=2001.0<br>List Price ($)=%{x}<br>Weight (oz)=%{y}<br>Number of Pages=%{marker.size}<extra></extra>",
           "hovertext": [
            "Catcher in the Rye"
           ],
           "legendgroup": "Back Bay Books",
           "marker": {
            "color": "#FF6692",
            "size": [
             288
            ],
            "sizemode": "area",
            "sizeref": 0.9955555555555555,
            "symbol": "circle"
           },
           "mode": "markers",
           "name": "Back Bay Books",
           "orientation": "v",
           "showlegend": true,
           "type": "scatter",
           "x": [
            13.99
           ],
           "xaxis": "x",
           "y": [
            5.6
           ],
           "yaxis": "y"
          },
          {
           "hovertemplate": "<b>%{hovertext}</b><br><br>Publisher=Ballantine Books<br>Publication Year=2001.0<br>List Price ($)=%{x}<br>Weight (oz)=%{y}<br>Number of Pages=%{marker.size}<extra></extra>",
           "hovertext": [
            "Drowning Ruth: A Novel"
           ],
           "legendgroup": "Ballantine Books",
           "marker": {
            "color": "#FFA15A",
            "size": [
             368
            ],
            "sizemode": "area",
            "sizeref": 0.9955555555555555,
            "symbol": "circle"
           },
           "mode": "markers",
           "name": "Ballantine Books",
           "orientation": "v",
           "showlegend": true,
           "type": "scatter",
           "x": [
            15
           ],
           "xaxis": "x",
           "y": [
            9.6
           ],
           "yaxis": "y"
          },
          {
           "hovertemplate": "<b>%{hovertext}</b><br><br>Publisher=Washington Square Press<br>Publication Year=2001.0<br>List Price ($)=%{x}<br>Weight (oz)=%{y}<br>Number of Pages=%{marker.size}<extra></extra>",
           "hovertext": [
            "Mercy"
           ],
           "legendgroup": "Washington Square Press",
           "marker": {
            "color": "#00cc96",
            "size": [
             416
            ],
            "sizemode": "area",
            "sizeref": 0.9955555555555555,
            "symbol": "circle"
           },
           "mode": "markers",
           "name": "Washington Square Press",
           "orientation": "v",
           "showlegend": true,
           "type": "scatter",
           "x": [
            16
           ],
           "xaxis": "x",
           "y": [
            12
           ],
           "yaxis": "y"
          },
          {
           "hovertemplate": "<b>%{hovertext}</b><br><br>Publisher=Hill and Wang<br>Publication Year=2001.0<br>List Price ($)=%{x}<br>Weight (oz)=%{y}<br>Number of Pages=%{marker.size}<extra></extra>",
           "hovertext": [
            "The Night Thoreau Spent in Jail: A Play"
           ],
           "legendgroup": "Hill and Wang",
           "marker": {
            "color": "#ab63fa",
            "size": [
             128
            ],
            "sizemode": "area",
            "sizeref": 0.9955555555555555,
            "symbol": "circle"
           },
           "mode": "markers",
           "name": "Hill and Wang",
           "orientation": "v",
           "showlegend": true,
           "type": "scatter",
           "x": [
            11
           ],
           "xaxis": "x",
           "y": [
            5.6
           ],
           "yaxis": "y"
          },
          {
           "hovertemplate": "<b>%{hovertext}</b><br><br>Publisher=Pine Street Books<br>Publication Year=2001.0<br>List Price ($)=%{x}<br>Weight (oz)=%{y}<br>Number of Pages=%{marker.size}<extra></extra>",
           "hovertext": [
            "The Sheik"
           ],
           "legendgroup": "Pine Street Books",
           "marker": {
            "color": "#FECB52",
            "size": [
             304
            ],
            "sizemode": "area",
            "sizeref": 0.9955555555555555,
            "symbol": "circle"
           },
           "mode": "markers",
           "name": "Pine Street Books",
           "orientation": "v",
           "showlegend": true,
           "type": "scatter",
           "x": [
            18.95
           ],
           "xaxis": "x",
           "y": [
            12
           ],
           "yaxis": "y"
          }
         ],
         "name": "2001.0"
        },
        {
         "data": [
          {
           "hovertemplate": "<b>%{hovertext}</b><br><br>Publisher=Plume<br>Publication Year=1992.0<br>List Price ($)=%{x}<br>Weight (oz)=%{y}<br>Number of Pages=%{marker.size}<extra></extra>",
           "hovertext": [
            "A Hammock Beneath the Mangoes: Stories from Latin America"
           ],
           "legendgroup": "Plume",
           "marker": {
            "color": "#EF553B",
            "size": [
             448
            ],
            "sizemode": "area",
            "sizeref": 0.9955555555555555,
            "symbol": "circle"
           },
           "mode": "markers",
           "name": "Plume",
           "orientation": "v",
           "showlegend": true,
           "type": "scatter",
           "x": [
            20
           ],
           "xaxis": "x",
           "y": [
            16
           ],
           "yaxis": "y"
          },
          {
           "hovertemplate": "<b>%{hovertext}</b><br><br>Publisher=Modern Library<br>Publication Year=1992.0<br>List Price ($)=%{x}<br>Weight (oz)=%{y}<br>Number of Pages=%{marker.size}<extra></extra>",
           "hovertext": [
            "The Sound and the Fury: The Corrected Text with Faulkner's Appendix"
           ],
           "legendgroup": "Modern Library",
           "marker": {
            "color": "#FF6692",
            "size": [
             368
            ],
            "sizemode": "area",
            "sizeref": 0.9955555555555555,
            "symbol": "circle"
           },
           "mode": "markers",
           "name": "Modern Library",
           "orientation": "v",
           "showlegend": true,
           "type": "scatter",
           "x": [
            22
           ],
           "xaxis": "x",
           "y": [
            11.2
           ],
           "yaxis": "y"
          },
          {
           "hovertemplate": "<b>%{hovertext}</b><br><br>Publisher=Pocket Books<br>Publication Year=1992.0<br>List Price ($)=%{x}<br>Weight (oz)=%{y}<br>Number of Pages=%{marker.size}<extra></extra>",
           "hovertext": [
            "Songs of the Humpback Whale: A Novel"
           ],
           "legendgroup": "Pocket Books",
           "marker": {
            "color": "#00cc96",
            "size": [
             352
            ],
            "sizemode": "area",
            "sizeref": 0.9955555555555555,
            "symbol": "circle"
           },
           "mode": "markers",
           "name": "Pocket Books",
           "orientation": "v",
           "showlegend": true,
           "type": "scatter",
           "x": [
            16
           ],
           "xaxis": "x",
           "y": [
            13.6
           ],
           "yaxis": "y"
          },
          {
           "hovertemplate": "<b>%{hovertext}</b><br><br>Publisher=Holt Paperbacks<br>Publication Year=1992.0<br>List Price ($)=%{x}<br>Weight (oz)=%{y}<br>Number of Pages=%{marker.size}<extra></extra>",
           "hovertext": [
            "The Anatomy of Human Destructiveness"
           ],
           "legendgroup": "Holt Paperbacks",
           "marker": {
            "color": "#FF97FF",
            "size": [
             576
            ],
            "sizemode": "area",
            "sizeref": 0.9955555555555555,
            "symbol": "circle"
           },
           "mode": "markers",
           "name": "Holt Paperbacks",
           "orientation": "v",
           "showlegend": true,
           "type": "scatter",
           "x": [
            24
           ],
           "xaxis": "x",
           "y": [
            22.4
           ],
           "yaxis": "y"
          }
         ],
         "name": "1992.0"
        },
        {
         "data": [
          {
           "hovertemplate": "<b>%{hovertext}</b><br><br>Publisher=Vintage<br>Publication Year=2000.0<br>List Price ($)=%{x}<br>Weight (oz)=%{y}<br>Number of Pages=%{marker.size}<extra></extra>",
           "hovertext": [
            "Norwegian Wood",
            "Waiting"
           ],
           "legendgroup": "Vintage",
           "marker": {
            "color": "#FF97FF",
            "size": [
             298,
             308
            ],
            "sizemode": "area",
            "sizeref": 0.9955555555555555,
            "symbol": "circle"
           },
           "mode": "markers",
           "name": "Vintage",
           "orientation": "v",
           "showlegend": true,
           "type": "scatter",
           "x": [
            15,
            15
           ],
           "xaxis": "x",
           "y": [
            7.8,
            10.4
           ],
           "yaxis": "y"
          },
          {
           "hovertemplate": "<b>%{hovertext}</b><br><br>Publisher=Oxford University Press, USA<br>Publication Year=2000.0<br>List Price ($)=%{x}<br>Weight (oz)=%{y}<br>Number of Pages=%{marker.size}<extra></extra>",
           "hovertext": [
            "A Holocaust Reader: Responses to the Nazi Extermination"
           ],
           "legendgroup": "Oxford University Press, USA",
           "marker": {
            "color": "#00cc96",
            "size": [
             384
            ],
            "sizemode": "area",
            "sizeref": 0.9955555555555555,
            "symbol": "circle"
           },
           "mode": "markers",
           "name": "Oxford University Press, USA",
           "orientation": "v",
           "showlegend": true,
           "type": "scatter",
           "x": [
            39.95
           ],
           "xaxis": "x",
           "y": [
            22.4
           ],
           "yaxis": "y"
          },
          {
           "hovertemplate": "<b>%{hovertext}</b><br><br>Publisher=Farrar, Straus and Giroux<br>Publication Year=2000.0<br>List Price ($)=%{x}<br>Weight (oz)=%{y}<br>Number of Pages=%{marker.size}<extra></extra>",
           "hovertext": [
            "A Small Place"
           ],
           "legendgroup": "Farrar, Straus and Giroux",
           "marker": {
            "color": "#B6E880",
            "size": [
             96
            ],
            "sizemode": "area",
            "sizeref": 0.9955555555555555,
            "symbol": "circle"
           },
           "mode": "markers",
           "name": "Farrar, Straus and Giroux",
           "orientation": "v",
           "showlegend": true,
           "type": "scatter",
           "x": [
            13
           ],
           "xaxis": "x",
           "y": [
            4
           ],
           "yaxis": "y"
          },
          {
           "hovertemplate": "<b>%{hovertext}</b><br><br>Publisher=Harper Paperbacks<br>Publication Year=2000.0<br>List Price ($)=%{x}<br>Weight (oz)=%{y}<br>Number of Pages=%{marker.size}<extra></extra>",
           "hovertext": [
            "Rules For Revolutionaries: The Capitalist Manifesto for Creating and Marketing New Products and Services"
           ],
           "legendgroup": "Harper Paperbacks",
           "marker": {
            "color": "#636efa",
            "size": [
             224
            ],
            "sizemode": "area",
            "sizeref": 0.9955555555555555,
            "symbol": "circle"
           },
           "mode": "markers",
           "name": "Harper Paperbacks",
           "orientation": "v",
           "showlegend": true,
           "type": "scatter",
           "x": [
            16
           ],
           "xaxis": "x",
           "y": [
            6.4
           ],
           "yaxis": "y"
          },
          {
           "hovertemplate": "<b>%{hovertext}</b><br><br>Publisher=Warner Books<br>Publication Year=2000.0<br>List Price ($)=%{x}<br>Weight (oz)=%{y}<br>Number of Pages=%{marker.size}<extra></extra>",
           "hovertext": [
            "Kiss the Girls"
           ],
           "legendgroup": "Warner Books",
           "marker": {
            "color": "#ab63fa",
            "size": [
             481
            ],
            "sizemode": "area",
            "sizeref": 0.9955555555555555,
            "symbol": "circle"
           },
           "mode": "markers",
           "name": "Warner Books",
           "orientation": "v",
           "showlegend": true,
           "type": "scatter",
           "x": [
            14.99
           ],
           "xaxis": "x",
           "y": [
            14.4
           ],
           "yaxis": "y"
          },
          {
           "hovertemplate": "<b>%{hovertext}</b><br><br>Publisher=Da Capo Press<br>Publication Year=2000.0<br>List Price ($)=%{x}<br>Weight (oz)=%{y}<br>Number of Pages=%{marker.size}<extra></extra>",
           "hovertext": [
            "Requiem For a Dream"
           ],
           "legendgroup": "Da Capo Press",
           "marker": {
            "color": "#FFA15A",
            "size": [
             288
            ],
            "sizemode": "area",
            "sizeref": 0.9955555555555555,
            "symbol": "circle"
           },
           "mode": "markers",
           "name": "Da Capo Press",
           "orientation": "v",
           "showlegend": true,
           "type": "scatter",
           "x": [
            15.95
           ],
           "xaxis": "x",
           "y": [
            12.8
           ],
           "yaxis": "y"
          }
         ],
         "name": "2000.0"
        },
        {
         "data": [
          {
           "hovertemplate": "<b>%{hovertext}</b><br><br>Publisher=Harper Perennial<br>Publication Year=2009.0<br>List Price ($)=%{x}<br>Weight (oz)=%{y}<br>Number of Pages=%{marker.size}<extra></extra>",
           "hovertext": [
            "Freakonomics: A Rogue Economist Explores the Hidden Side of Everything"
           ],
           "legendgroup": "Harper Perennial",
           "marker": {
            "color": "#ab63fa",
            "size": [
             315
            ],
            "sizemode": "area",
            "sizeref": 0.9955555555555555,
            "symbol": "circle"
           },
           "mode": "markers",
           "name": "Harper Perennial",
           "orientation": "v",
           "showlegend": true,
           "type": "scatter",
           "x": [
            15.99
           ],
           "xaxis": "x",
           "y": [
            8
           ],
           "yaxis": "y"
          },
          {
           "hovertemplate": "<b>%{hovertext}</b><br><br>Publisher=Knopf<br>Publication Year=2009.0<br>List Price ($)=%{x}<br>Weight (oz)=%{y}<br>Number of Pages=%{marker.size}<extra></extra>",
           "hovertext": [
            "Born To Run"
           ],
           "legendgroup": "Knopf",
           "marker": {
            "color": "#FFA15A",
            "size": [
             304
            ],
            "sizemode": "area",
            "sizeref": 0.9955555555555555,
            "symbol": "circle"
           },
           "mode": "markers",
           "name": "Knopf",
           "orientation": "v",
           "showlegend": true,
           "type": "scatter",
           "x": [
            24.95
           ],
           "xaxis": "x",
           "y": [
            24
           ],
           "yaxis": "y"
          },
          {
           "hovertemplate": "<b>%{hovertext}</b><br><br>Publisher=Bantam<br>Publication Year=2009.0<br>List Price ($)=%{x}<br>Weight (oz)=%{y}<br>Number of Pages=%{marker.size}<extra></extra>",
           "hovertext": [
            "The Snowball: Warren Buffett and the Business of Life: Updated editionÊ"
           ],
           "legendgroup": "Bantam",
           "marker": {
            "color": "#FECB52",
            "size": [
             832
            ],
            "sizemode": "area",
            "sizeref": 0.9955555555555555,
            "symbol": "circle"
           },
           "mode": "markers",
           "name": "Bantam",
           "orientation": "v",
           "showlegend": true,
           "type": "scatter",
           "x": [
            20
           ],
           "xaxis": "x",
           "y": [
            32
           ],
           "yaxis": "y"
          },
          {
           "hovertemplate": "<b>%{hovertext}</b><br><br>Publisher=Oxford University Press<br>Publication Year=2009.0<br>List Price ($)=%{x}<br>Weight (oz)=%{y}<br>Number of Pages=%{marker.size}<extra></extra>",
           "hovertext": [
            "The Castle of Otranto: A Gothic Story"
           ],
           "legendgroup": "Oxford University Press",
           "marker": {
            "color": "#636efa",
            "size": [
             176
            ],
            "sizemode": "area",
            "sizeref": 0.9955555555555555,
            "symbol": "circle"
           },
           "mode": "markers",
           "name": "Oxford University Press",
           "orientation": "v",
           "showlegend": true,
           "type": "scatter",
           "x": [
            8.95
           ],
           "xaxis": "x",
           "y": [
            4.2
           ],
           "yaxis": "y"
          },
          {
           "hovertemplate": "<b>%{hovertext}</b><br><br>Publisher=HarperCollins<br>Publication Year=2009.0<br>List Price ($)=%{x}<br>Weight (oz)=%{y}<br>Number of Pages=%{marker.size}<extra></extra>",
           "hovertext": [
            "A Light in the Attic"
           ],
           "legendgroup": "HarperCollins",
           "marker": {
            "color": "#ab63fa",
            "size": [
             192
            ],
            "sizemode": "area",
            "sizeref": 0.9955555555555555,
            "symbol": "circle"
           },
           "mode": "markers",
           "name": "HarperCollins",
           "orientation": "v",
           "showlegend": true,
           "type": "scatter",
           "x": [
            18.99
           ],
           "xaxis": "x",
           "y": [
            25.6
           ],
           "yaxis": "y"
          },
          {
           "hovertemplate": "<b>%{hovertext}</b><br><br>Publisher=Anchor<br>Publication Year=2009.0<br>List Price ($)=%{x}<br>Weight (oz)=%{y}<br>Number of Pages=%{marker.size}<extra></extra>",
           "hovertext": [
            "The Da Vinci Code"
           ],
           "legendgroup": "Anchor",
           "marker": {
            "color": "#FECB52",
            "size": [
             597
            ],
            "sizemode": "area",
            "sizeref": 0.9955555555555555,
            "symbol": "circle"
           },
           "mode": "markers",
           "name": "Anchor",
           "orientation": "v",
           "showlegend": true,
           "type": "scatter",
           "x": [
            9.99
           ],
           "xaxis": "x",
           "y": [
            12.8
           ],
           "yaxis": "y"
          },
          {
           "hovertemplate": "<b>%{hovertext}</b><br><br>Publisher=Collector's Library<br>Publication Year=2009.0<br>List Price ($)=%{x}<br>Weight (oz)=%{y}<br>Number of Pages=%{marker.size}<extra></extra>",
           "hovertext": [
            "Alice in Wonderland"
           ],
           "legendgroup": "Collector's Library",
           "marker": {
            "color": "#ab63fa",
            "size": [
             283
            ],
            "sizemode": "area",
            "sizeref": 0.9955555555555555,
            "symbol": "circle"
           },
           "mode": "markers",
           "name": "Collector's Library",
           "orientation": "v",
           "showlegend": true,
           "type": "scatter",
           "x": [
            7.95
           ],
           "xaxis": "x",
           "y": [
            4.2
           ],
           "yaxis": "y"
          },
          {
           "hovertemplate": "<b>%{hovertext}</b><br><br>Publisher=W.W. Norton<br>Publication Year=2009.0<br>List Price ($)=%{x}<br>Weight (oz)=%{y}<br>Number of Pages=%{marker.size}<extra></extra>",
           "hovertext": [
            "As I Lay Dying"
           ],
           "legendgroup": "W.W. Norton",
           "marker": {
            "color": "#FF6692",
            "size": [
             400
            ],
            "sizemode": "area",
            "sizeref": 0.9955555555555555,
            "symbol": "circle"
           },
           "mode": "markers",
           "name": "W.W. Norton",
           "orientation": "v",
           "showlegend": true,
           "type": "scatter",
           "x": [
            13.07
           ],
           "xaxis": "x",
           "y": [
            13.6
           ],
           "yaxis": "y"
          },
          {
           "hovertemplate": "<b>%{hovertext}</b><br><br>Publisher=Scholastic Press<br>Publication Year=2009.0<br>List Price ($)=%{x}<br>Weight (oz)=%{y}<br>Number of Pages=%{marker.size}<extra></extra>",
           "hovertext": [
            "Catching Fire"
           ],
           "legendgroup": "Scholastic Press",
           "marker": {
            "color": "#B6E880",
            "size": [
             391
            ],
            "sizemode": "area",
            "sizeref": 0.9955555555555555,
            "symbol": "circle"
           },
           "mode": "markers",
           "name": "Scholastic Press",
           "orientation": "v",
           "showlegend": true,
           "type": "scatter",
           "x": [
            17.99
           ],
           "xaxis": "x",
           "y": [
            22.4
           ],
           "yaxis": "y"
          },
          {
           "hovertemplate": "<b>%{hovertext}</b><br><br>Publisher=Harper Paperbacks<br>Publication Year=2009.0<br>List Price ($)=%{x}<br>Weight (oz)=%{y}<br>Number of Pages=%{marker.size}<extra></extra>",
           "hovertext": [
            "The Art of Racing in the Rain"
           ],
           "legendgroup": "Harper Paperbacks",
           "marker": {
            "color": "#636efa",
            "size": [
             336
            ],
            "sizemode": "area",
            "sizeref": 0.9955555555555555,
            "symbol": "circle"
           },
           "mode": "markers",
           "name": "Harper Paperbacks",
           "orientation": "v",
           "showlegend": true,
           "type": "scatter",
           "x": [
            14.99
           ],
           "xaxis": "x",
           "y": [
            8.8
           ],
           "yaxis": "y"
          },
          {
           "hovertemplate": "<b>%{hovertext}</b><br><br>Publisher=Longman<br>Publication Year=2009.0<br>List Price ($)=%{x}<br>Weight (oz)=%{y}<br>Number of Pages=%{marker.size}<extra></extra>",
           "hovertext": [
            "The Curious Researcher, MLA Update Edition (6th Edition)"
           ],
           "legendgroup": "Longman",
           "marker": {
            "color": "#00cc96",
            "size": [
             400
            ],
            "sizemode": "area",
            "sizeref": 0.9955555555555555,
            "symbol": "circle"
           },
           "mode": "markers",
           "name": "Longman",
           "orientation": "v",
           "showlegend": true,
           "type": "scatter",
           "x": [
            48.2
           ],
           "xaxis": "x",
           "y": [
            16
           ],
           "yaxis": "y"
          },
          {
           "hovertemplate": "<b>%{hovertext}</b><br><br>Publisher=Villard<br>Publication Year=2009.0<br>List Price ($)=%{x}<br>Weight (oz)=%{y}<br>Number of Pages=%{marker.size}<extra></extra>",
           "hovertext": [
            "F My Life"
           ],
           "legendgroup": "Villard",
           "marker": {
            "color": "#FECB52",
            "size": [
             288
            ],
            "sizemode": "area",
            "sizeref": 0.9955555555555555,
            "symbol": "circle"
           },
           "mode": "markers",
           "name": "Villard",
           "orientation": "v",
           "showlegend": true,
           "type": "scatter",
           "x": [
            15
           ],
           "xaxis": "x",
           "y": [
            7.2
           ],
           "yaxis": "y"
          },
          {
           "hovertemplate": "<b>%{hovertext}</b><br><br>Publisher=Mariner Books<br>Publication Year=2009.0<br>List Price ($)=%{x}<br>Weight (oz)=%{y}<br>Number of Pages=%{marker.size}<extra></extra>",
           "hovertext": [
            "the airmen and the headhunters"
           ],
           "legendgroup": "Mariner Books",
           "marker": {
            "color": "#636efa",
            "size": [
             304
            ],
            "sizemode": "area",
            "sizeref": 0.9955555555555555,
            "symbol": "circle"
           },
           "mode": "markers",
           "name": "Mariner Books",
           "orientation": "v",
           "showlegend": true,
           "type": "scatter",
           "x": [
            15
           ],
           "xaxis": "x",
           "y": [
            10.4
           ],
           "yaxis": "y"
          },
          {
           "hovertemplate": "<b>%{hovertext}</b><br><br>Publisher=W. W. Norton & Company<br>Publication Year=2009.0<br>List Price ($)=%{x}<br>Weight (oz)=%{y}<br>Number of Pages=%{marker.size}<extra></extra>",
           "hovertext": [
            "They Say, I Say: The Moves That Matter in Academic Writing"
           ],
           "legendgroup": "W. W. Norton & Company",
           "marker": {
            "color": "#19d3f3",
            "size": [
             245
            ],
            "sizemode": "area",
            "sizeref": 0.9955555555555555,
            "symbol": "circle"
           },
           "mode": "markers",
           "name": "W. W. Norton & Company",
           "orientation": "v",
           "showlegend": true,
           "type": "scatter",
           "x": [
            12.6
           ],
           "xaxis": "x",
           "y": [
            6.4
           ],
           "yaxis": "y"
          },
          {
           "hovertemplate": "<b>%{hovertext}</b><br><br>Publisher=Little, Brown Books for Young Readers<br>Publication Year=2009.0<br>List Price ($)=%{x}<br>Weight (oz)=%{y}<br>Number of Pages=%{marker.size}<extra></extra>",
           "hovertext": [
            "The Absolutely True Diary of a Part-Time Indian"
           ],
           "legendgroup": "Little, Brown Books for Young Readers",
           "marker": {
            "color": "#B6E880",
            "size": [
             288
            ],
            "sizemode": "area",
            "sizeref": 0.9955555555555555,
            "symbol": "circle"
           },
           "mode": "markers",
           "name": "Little, Brown Books for Young Readers",
           "orientation": "v",
           "showlegend": true,
           "type": "scatter",
           "x": [
            11.99
           ],
           "xaxis": "x",
           "y": [
            9.6
           ],
           "yaxis": "y"
          },
          {
           "hovertemplate": "<b>%{hovertext}</b><br><br>Publisher=W.W.norton & company<br>Publication Year=2009.0<br>List Price ($)=%{x}<br>Weight (oz)=%{y}<br>Number of Pages=%{marker.size}<extra></extra>",
           "hovertext": [
            "The blind-side"
           ],
           "legendgroup": "W.W.norton & company",
           "marker": {
            "color": "#636efa",
            "size": [
             352
            ],
            "sizemode": "area",
            "sizeref": 0.9955555555555555,
            "symbol": "circle"
           },
           "mode": "markers",
           "name": "W.W.norton & company",
           "orientation": "v",
           "showlegend": true,
           "type": "scatter",
           "x": [
            13.95
           ],
           "xaxis": "x",
           "y": [
            10.6
           ],
           "yaxis": "y"
          },
          {
           "hovertemplate": "<b>%{hovertext}</b><br><br>Publisher=Vintage Crime / Black Lizard<br>Publication Year=2009.0<br>List Price ($)=%{x}<br>Weight (oz)=%{y}<br>Number of Pages=%{marker.size}<extra></extra>",
           "hovertext": [
            "The Girl With the Dragon Tatoo"
           ],
           "legendgroup": "Vintage Crime / Black Lizard",
           "marker": {
            "color": "#B6E880",
            "size": [
             600
            ],
            "sizemode": "area",
            "sizeref": 0.9955555555555555,
            "symbol": "circle"
           },
           "mode": "markers",
           "name": "Vintage Crime / Black Lizard",
           "orientation": "v",
           "showlegend": true,
           "type": "scatter",
           "x": [
            14.95
           ],
           "xaxis": "x",
           "y": [
            16
           ],
           "yaxis": "y"
          },
          {
           "hovertemplate": "<b>%{hovertext}</b><br><br>Publisher=Dial Press<br>Publication Year=2009.0<br>List Price ($)=%{x}<br>Weight (oz)=%{y}<br>Number of Pages=%{marker.size}<extra></extra>",
           "hovertext": [
            "The Guernsey Literary and Potato Peel Pie Society"
           ],
           "legendgroup": "Dial Press",
           "marker": {
            "color": "#FECB52",
            "size": [
             290
            ],
            "sizemode": "area",
            "sizeref": 0.9955555555555555,
            "symbol": "circle"
           },
           "mode": "markers",
           "name": "Dial Press",
           "orientation": "v",
           "showlegend": true,
           "type": "scatter",
           "x": [
            15
           ],
           "xaxis": "x",
           "y": [
            8
           ],
           "yaxis": "y"
          },
          {
           "hovertemplate": "<b>%{hovertext}</b><br><br>Publisher=Mariner books<br>Publication Year=2009.0<br>List Price ($)=%{x}<br>Weight (oz)=%{y}<br>Number of Pages=%{marker.size}<extra></extra>",
           "hovertext": [
            "The things they carried"
           ],
           "legendgroup": "Mariner books",
           "marker": {
            "color": "#EF553B",
            "size": [
             256
            ],
            "sizemode": "area",
            "sizeref": 0.9955555555555555,
            "symbol": "circle"
           },
           "mode": "markers",
           "name": "Mariner books",
           "orientation": "v",
           "showlegend": true,
           "type": "scatter",
           "x": [
            14.95
           ],
           "xaxis": "x",
           "y": [
            8.8
           ],
           "yaxis": "y"
          }
         ],
         "name": "2009.0"
        },
        {
         "data": [
          {
           "hovertemplate": "<b>%{hovertext}</b><br><br>Publisher=Plume<br>Publication Year=2003.0<br>List Price ($)=%{x}<br>Weight (oz)=%{y}<br>Number of Pages=%{marker.size}<extra></extra>",
           "hovertext": [
            "Animal Farm"
           ],
           "legendgroup": "Plume",
           "marker": {
            "color": "#EF553B",
            "size": [
             128
            ],
            "sizemode": "area",
            "sizeref": 0.9955555555555555,
            "symbol": "circle"
           },
           "mode": "markers",
           "name": "Plume",
           "orientation": "v",
           "showlegend": true,
           "type": "scatter",
           "x": [
            14
           ],
           "xaxis": "x",
           "y": [
            5.6
           ],
           "yaxis": "y"
          },
          {
           "hovertemplate": "<b>%{hovertext}</b><br><br>Publisher=Sparks Notes<br>Publication Year=2003.0<br>List Price ($)=%{x}<br>Weight (oz)=%{y}<br>Number of Pages=%{marker.size}<extra></extra>",
           "hovertext": [
            "A Midsummer Night's dream No Fear Shakespeare"
           ],
           "legendgroup": "Sparks Notes",
           "marker": {
            "color": "#FFA15A",
            "size": [
             192
            ],
            "sizemode": "area",
            "sizeref": 0.9955555555555555,
            "symbol": "circle"
           },
           "mode": "markers",
           "name": "Sparks Notes",
           "orientation": "v",
           "showlegend": true,
           "type": "scatter",
           "x": [
            5.95
           ],
           "xaxis": "x",
           "y": [
            8.8
           ],
           "yaxis": "y"
          },
          {
           "hovertemplate": "<b>%{hovertext}</b><br><br>Publisher=HarperOne<br>Publication Year=2003.0<br>List Price ($)=%{x}<br>Weight (oz)=%{y}<br>Number of Pages=%{marker.size}<extra></extra>",
           "hovertext": [
            "A Year with C. S. Lewis: Daily Readings from His Classic Works"
           ],
           "legendgroup": "HarperOne",
           "marker": {
            "color": "#636efa",
            "size": [
             416
            ],
            "sizemode": "area",
            "sizeref": 0.9955555555555555,
            "symbol": "circle"
           },
           "mode": "markers",
           "name": "HarperOne",
           "orientation": "v",
           "showlegend": true,
           "type": "scatter",
           "x": [
            22.99
           ],
           "xaxis": "x",
           "y": [
            16
           ],
           "yaxis": "y"
          },
          {
           "hovertemplate": "<b>%{hovertext}</b><br><br>Publisher=Grand Central Publishing<br>Publication Year=2003.0<br>List Price ($)=%{x}<br>Weight (oz)=%{y}<br>Number of Pages=%{marker.size}<extra></extra>",
           "hovertext": [
            "Four Blind Mice"
           ],
           "legendgroup": "Grand Central Publishing",
           "marker": {
            "color": "#00cc96",
            "size": [
             416
            ],
            "sizemode": "area",
            "sizeref": 0.9955555555555555,
            "symbol": "circle"
           },
           "mode": "markers",
           "name": "Grand Central Publishing",
           "orientation": "v",
           "showlegend": true,
           "type": "scatter",
           "x": [
            7.99
           ],
           "xaxis": "x",
           "y": [
            7.2
           ],
           "yaxis": "y"
          },
          {
           "hovertemplate": "<b>%{hovertext}</b><br><br>Publisher=Harper Paperbacks<br>Publication Year=2003.0<br>List Price ($)=%{x}<br>Weight (oz)=%{y}<br>Number of Pages=%{marker.size}<extra></extra>",
           "hovertext": [
            "The Innovator's Dilemma: The Revolutionary Book That Will Change the Way You Do Business"
           ],
           "legendgroup": "Harper Paperbacks",
           "marker": {
            "color": "#636efa",
            "size": [
             320
            ],
            "sizemode": "area",
            "sizeref": 0.9955555555555555,
            "symbol": "circle"
           },
           "mode": "markers",
           "name": "Harper Paperbacks",
           "orientation": "v",
           "showlegend": true,
           "type": "scatter",
           "x": [
            17.99
           ],
           "xaxis": "x",
           "y": [
            8.8
           ],
           "yaxis": "y"
          },
          {
           "hovertemplate": "<b>%{hovertext}</b><br><br>Publisher=Sage Publications Ltd<br>Publication Year=2003.0<br>List Price ($)=%{x}<br>Weight (oz)=%{y}<br>Number of Pages=%{marker.size}<extra></extra>",
           "hovertext": [
            "Existential Therapies"
           ],
           "legendgroup": "Sage Publications Ltd",
           "marker": {
            "color": "#FF97FF",
            "size": [
             192
            ],
            "sizemode": "area",
            "sizeref": 0.9955555555555555,
            "symbol": "circle"
           },
           "mode": "markers",
           "name": "Sage Publications Ltd",
           "orientation": "v",
           "showlegend": true,
           "type": "scatter",
           "x": [
            53.95
           ],
           "xaxis": "x",
           "y": [
            11.2
           ],
           "yaxis": "y"
          },
          {
           "hovertemplate": "<b>%{hovertext}</b><br><br>Publisher=Voyageur Press<br>Publication Year=2003.0<br>List Price ($)=%{x}<br>Weight (oz)=%{y}<br>Number of Pages=%{marker.size}<extra></extra>",
           "hovertext": [
            "The Field Guide to John Deere Tractors"
           ],
           "legendgroup": "Voyageur Press",
           "marker": {
            "color": "#FFA15A",
            "size": [
             160
            ],
            "sizemode": "area",
            "sizeref": 0.9955555555555555,
            "symbol": "circle"
           },
           "mode": "markers",
           "name": "Voyageur Press",
           "orientation": "v",
           "showlegend": true,
           "type": "scatter",
           "x": [
            8.42
           ],
           "xaxis": "x",
           "y": [
            16
           ],
           "yaxis": "y"
          },
          {
           "hovertemplate": "<b>%{hovertext}</b><br><br>Publisher=Mariner Books<br>Publication Year=2003.0<br>List Price ($)=%{x}<br>Weight (oz)=%{y}<br>Number of Pages=%{marker.size}<extra></extra>",
           "hovertext": [
            "Life of Pi"
           ],
           "legendgroup": "Mariner Books",
           "marker": {
            "color": "#636efa",
            "size": [
             326
            ],
            "sizemode": "area",
            "sizeref": 0.9955555555555555,
            "symbol": "circle"
           },
           "mode": "markers",
           "name": "Mariner Books",
           "orientation": "v",
           "showlegend": true,
           "type": "scatter",
           "x": [
            15
           ],
           "xaxis": "x",
           "y": [
            12
           ],
           "yaxis": "y"
          },
          {
           "hovertemplate": "<b>%{hovertext}</b><br><br>Publisher=Perigee Trade<br>Publication Year=2003.0<br>List Price ($)=%{x}<br>Weight (oz)=%{y}<br>Number of Pages=%{marker.size}<extra></extra>",
           "hovertext": [
            "Lord of the Flies"
           ],
           "legendgroup": "Perigee Trade",
           "marker": {
            "color": "#FF6692",
            "size": [
             336
            ],
            "sizemode": "area",
            "sizeref": 0.9955555555555555,
            "symbol": "circle"
           },
           "mode": "markers",
           "name": "Perigee Trade",
           "orientation": "v",
           "showlegend": true,
           "type": "scatter",
           "x": [
            25
           ],
           "xaxis": "x",
           "y": [
            16
           ],
           "yaxis": "y"
          },
          {
           "hovertemplate": "<b>%{hovertext}</b><br><br>Publisher=Washington Square Press<br>Publication Year=2003.0<br>List Price ($)=%{x}<br>Weight (oz)=%{y}<br>Number of Pages=%{marker.size}<extra></extra>",
           "hovertext": [
            "Perfect Match"
           ],
           "legendgroup": "Washington Square Press",
           "marker": {
            "color": "#00cc96",
            "size": [
             368
            ],
            "sizemode": "area",
            "sizeref": 0.9955555555555555,
            "symbol": "circle"
           },
           "mode": "markers",
           "name": "Washington Square Press",
           "orientation": "v",
           "showlegend": true,
           "type": "scatter",
           "x": [
            16
           ],
           "xaxis": "x",
           "y": [
            12
           ],
           "yaxis": "y"
          },
          {
           "hovertemplate": "<b>%{hovertext}</b><br><br>Publisher=Signet Classics<br>Publication Year=2003.0<br>List Price ($)=%{x}<br>Weight (oz)=%{y}<br>Number of Pages=%{marker.size}<extra></extra>",
           "hovertext": [
            "The Secret Garden"
           ],
           "legendgroup": "Signet Classics",
           "marker": {
            "color": "#ab63fa",
            "size": [
             288
            ],
            "sizemode": "area",
            "sizeref": 0.9955555555555555,
            "symbol": "circle"
           },
           "mode": "markers",
           "name": "Signet Classics",
           "orientation": "v",
           "showlegend": true,
           "type": "scatter",
           "x": [
            3.95
           ],
           "xaxis": "x",
           "y": [
            5.6
           ],
           "yaxis": "y"
          },
          {
           "hovertemplate": "<b>%{hovertext}</b><br><br>Publisher=Collins Business<br>Publication Year=2003.0<br>List Price ($)=%{x}<br>Weight (oz)=%{y}<br>Number of Pages=%{marker.size}<extra></extra>",
           "hovertext": [
            "The Intelligent Investor: (Revised Edition)"
           ],
           "legendgroup": "Collins Business",
           "marker": {
            "color": "#FF6692",
            "size": [
             640
            ],
            "sizemode": "area",
            "sizeref": 0.9955555555555555,
            "symbol": "circle"
           },
           "mode": "markers",
           "name": "Collins Business",
           "orientation": "v",
           "showlegend": true,
           "type": "scatter",
           "x": [
            21.99
           ],
           "xaxis": "x",
           "y": [
            19.2
           ],
           "yaxis": "y"
          }
         ],
         "name": "2003.0"
        },
        {
         "data": [
          {
           "hovertemplate": "<b>%{hovertext}</b><br><br>Publisher=Vintage<br>Publication Year=2004.0<br>List Price ($)=%{x}<br>Weight (oz)=%{y}<br>Number of Pages=%{marker.size}<extra></extra>",
           "hovertext": [
            "A Raisin In The Sun",
            "Beloved"
           ],
           "legendgroup": "Vintage",
           "marker": {
            "color": "#FF97FF",
            "size": [
             160,
             321
            ],
            "sizemode": "area",
            "sizeref": 0.9955555555555555,
            "symbol": "circle"
           },
           "mode": "markers",
           "name": "Vintage",
           "orientation": "v",
           "showlegend": true,
           "type": "scatter",
           "x": [
            7.5,
            15
           ],
           "xaxis": "x",
           "y": [
            4,
            12
           ],
           "yaxis": "y"
          },
          {
           "hovertemplate": "<b>%{hovertext}</b><br><br>Publisher=HarperCollins<br>Publication Year=2004.0<br>List Price ($)=%{x}<br>Weight (oz)=%{y}<br>Number of Pages=%{marker.size}<extra></extra>",
           "hovertext": [
            "The Giving Tree",
            "Where the Sidewalk Ends"
           ],
           "legendgroup": "HarperCollins",
           "marker": {
            "color": "#ab63fa",
            "size": [
             64,
             192
            ],
            "sizemode": "area",
            "sizeref": 0.9955555555555555,
            "symbol": "circle"
           },
           "mode": "markers",
           "name": "HarperCollins",
           "orientation": "v",
           "showlegend": true,
           "type": "scatter",
           "x": [
            18.99,
            18.99
           ],
           "xaxis": "x",
           "y": [
            16,
            24
           ],
           "yaxis": "y"
          },
          {
           "hovertemplate": "<b>%{hovertext}</b><br><br>Publisher=Delta<br>Publication Year=2004.0<br>List Price ($)=%{x}<br>Weight (oz)=%{y}<br>Number of Pages=%{marker.size}<extra></extra>",
           "hovertext": [
            "A Painted House"
           ],
           "legendgroup": "Delta",
           "marker": {
            "color": "#19d3f3",
            "size": [
             384
            ],
            "sizemode": "area",
            "sizeref": 0.9955555555555555,
            "symbol": "circle"
           },
           "mode": "markers",
           "name": "Delta",
           "orientation": "v",
           "showlegend": true,
           "type": "scatter",
           "x": [
            15
           ],
           "xaxis": "x",
           "y": [
            11.2
           ],
           "yaxis": "y"
          },
          {
           "hovertemplate": "<b>%{hovertext}</b><br><br>Publisher=Modern Library<br>Publication Year=2004.0<br>List Price ($)=%{x}<br>Weight (oz)=%{y}<br>Number of Pages=%{marker.size}<extra></extra>",
           "hovertext": [
            "Peter Pan"
           ],
           "legendgroup": "Modern Library",
           "marker": {
            "color": "#FF6692",
            "size": [
             192
            ],
            "sizemode": "area",
            "sizeref": 0.9955555555555555,
            "symbol": "circle"
           },
           "mode": "markers",
           "name": "Modern Library",
           "orientation": "v",
           "showlegend": true,
           "type": "scatter",
           "x": [
            8.95
           ],
           "xaxis": "x",
           "y": [
            5.6
           ],
           "yaxis": "y"
          },
          {
           "hovertemplate": "<b>%{hovertext}</b><br><br>Publisher=Barnes & Noble Classics<br>Publication Year=2004.0<br>List Price ($)=%{x}<br>Weight (oz)=%{y}<br>Number of Pages=%{marker.size}<extra></extra>",
           "hovertext": [
            "Adventures of Huckleberry Finn"
           ],
           "legendgroup": "Barnes & Noble Classics",
           "marker": {
            "color": "#EF553B",
            "size": [
             336
            ],
            "sizemode": "area",
            "sizeref": 0.9955555555555555,
            "symbol": "circle"
           },
           "mode": "markers",
           "name": "Barnes & Noble Classics",
           "orientation": "v",
           "showlegend": true,
           "type": "scatter",
           "x": [
            7.95
           ],
           "xaxis": "x",
           "y": [
            16
           ],
           "yaxis": "y"
          },
          {
           "hovertemplate": "<b>%{hovertext}</b><br><br>Publisher=Simon and Schuster<br>Publication Year=2004.0<br>List Price ($)=%{x}<br>Weight (oz)=%{y}<br>Number of Pages=%{marker.size}<extra></extra>",
           "hovertext": [
            "Romeo and Juliet"
           ],
           "legendgroup": "Simon and Schuster",
           "marker": {
            "color": "#19d3f3",
            "size": [
             336
            ],
            "sizemode": "area",
            "sizeref": 0.9955555555555555,
            "symbol": "circle"
           },
           "mode": "markers",
           "name": "Simon and Schuster",
           "orientation": "v",
           "showlegend": true,
           "type": "scatter",
           "x": [
            5.99
           ],
           "xaxis": "x",
           "y": [
            6.4
           ],
           "yaxis": "y"
          },
          {
           "hovertemplate": "<b>%{hovertext}</b><br><br>Publisher=Back Bay Books<br>Publication Year=2004.0<br>List Price ($)=%{x}<br>Weight (oz)=%{y}<br>Number of Pages=%{marker.size}<extra></extra>",
           "hovertext": [
            "The Bookseller of Kabul"
           ],
           "legendgroup": "Back Bay Books",
           "marker": {
            "color": "#FF6692",
            "size": [
             288
            ],
            "sizemode": "area",
            "sizeref": 0.9955555555555555,
            "symbol": "circle"
           },
           "mode": "markers",
           "name": "Back Bay Books",
           "orientation": "v",
           "showlegend": true,
           "type": "scatter",
           "x": [
            13.99
           ],
           "xaxis": "x",
           "y": [
            10.4
           ],
           "yaxis": "y"
          },
          {
           "hovertemplate": "<b>%{hovertext}</b><br><br>Publisher=Scholastic Paperbacks<br>Publication Year=2004.0<br>List Price ($)=%{x}<br>Weight (oz)=%{y}<br>Number of Pages=%{marker.size}<extra></extra>",
           "hovertext": [
            "Gregor the Overlander"
           ],
           "legendgroup": "Scholastic Paperbacks",
           "marker": {
            "color": "#B6E880",
            "size": [
             320
            ],
            "sizemode": "area",
            "sizeref": 0.9955555555555555,
            "symbol": "circle"
           },
           "mode": "markers",
           "name": "Scholastic Paperbacks",
           "orientation": "v",
           "showlegend": true,
           "type": "scatter",
           "x": [
            6.99
           ],
           "xaxis": "x",
           "y": [
            8
           ],
           "yaxis": "y"
          },
          {
           "hovertemplate": "<b>%{hovertext}</b><br><br>Publisher=Harvard Business Press<br>Publication Year=2004.0<br>List Price ($)=%{x}<br>Weight (oz)=%{y}<br>Number of Pages=%{marker.size}<extra></extra>",
           "hovertext": [
            "Seeing What's Next: Using Theories of Innovation to Predict Industry Change"
           ],
           "legendgroup": "Harvard Business Press",
           "marker": {
            "color": "#FECB52",
            "size": [
             352
            ],
            "sizemode": "area",
            "sizeref": 0.9955555555555555,
            "symbol": "circle"
           },
           "mode": "markers",
           "name": "Harvard Business Press",
           "orientation": "v",
           "showlegend": true,
           "type": "scatter",
           "x": [
            32.95
           ],
           "xaxis": "x",
           "y": [
            25.6
           ],
           "yaxis": "y"
          },
          {
           "hovertemplate": "<b>%{hovertext}</b><br><br>Publisher=Signet<br>Publication Year=2004.0<br>List Price ($)=%{x}<br>Weight (oz)=%{y}<br>Number of Pages=%{marker.size}<extra></extra>",
           "hovertext": [
            "Misery"
           ],
           "legendgroup": "Signet",
           "marker": {
            "color": "#ab63fa",
            "size": [
             352
            ],
            "sizemode": "area",
            "sizeref": 0.9955555555555555,
            "symbol": "circle"
           },
           "mode": "markers",
           "name": "Signet",
           "orientation": "v",
           "showlegend": true,
           "type": "scatter",
           "x": [
            7.99
           ],
           "xaxis": "x",
           "y": [
            6.9
           ],
           "yaxis": "y"
          },
          {
           "hovertemplate": "<b>%{hovertext}</b><br><br>Publisher=W. W. Norton & Company<br>Publication Year=2004.0<br>List Price ($)=%{x}<br>Weight (oz)=%{y}<br>Number of Pages=%{marker.size}<extra></extra>",
           "hovertext": [
            "Moll Flanders (Norton Critical Editions)"
           ],
           "legendgroup": "W. W. Norton & Company",
           "marker": {
            "color": "#19d3f3",
            "size": [
             544
            ],
            "sizemode": "area",
            "sizeref": 0.9955555555555555,
            "symbol": "circle"
           },
           "mode": "markers",
           "name": "W. W. Norton & Company",
           "orientation": "v",
           "showlegend": true,
           "type": "scatter",
           "x": [
            13.29
           ],
           "xaxis": "x",
           "y": [
            28.8
           ],
           "yaxis": "y"
          },
          {
           "hovertemplate": "<b>%{hovertext}</b><br><br>Publisher=Mariner<br>Publication Year=2004.0<br>List Price ($)=%{x}<br>Weight (oz)=%{y}<br>Number of Pages=%{marker.size}<extra></extra>",
           "hovertext": [
            "The Heart is a Lonely Hunter"
           ],
           "legendgroup": "Mariner",
           "marker": {
            "color": "#636efa",
            "size": [
             368
            ],
            "sizemode": "area",
            "sizeref": 0.9955555555555555,
            "symbol": "circle"
           },
           "mode": "markers",
           "name": "Mariner",
           "orientation": "v",
           "showlegend": true,
           "type": "scatter",
           "x": [
            13.95
           ],
           "xaxis": "x",
           "y": [
            14.4
           ],
           "yaxis": "y"
          },
          {
           "hovertemplate": "<b>%{hovertext}</b><br><br>Publisher=Carolina Academic Press<br>Publication Year=2004.0<br>List Price ($)=%{x}<br>Weight (oz)=%{y}<br>Number of Pages=%{marker.size}<extra></extra>",
           "hovertext": [
            "The Practice of Concern"
           ],
           "legendgroup": "Carolina Academic Press",
           "marker": {
            "color": "#FF6692",
            "size": [
             248
            ],
            "sizemode": "area",
            "sizeref": 0.9955555555555555,
            "symbol": "circle"
           },
           "mode": "markers",
           "name": "Carolina Academic Press",
           "orientation": "v",
           "showlegend": true,
           "type": "scatter",
           "x": [
            30
           ],
           "xaxis": "x",
           "y": [
            12
           ],
           "yaxis": "y"
          },
          {
           "hovertemplate": "<b>%{hovertext}</b><br><br>Publisher=Harcourt<br>Publication Year=2004.0<br>List Price ($)=%{x}<br>Weight (oz)=%{y}<br>Number of Pages=%{marker.size}<extra></extra>",
           "hovertext": [
            "The Time Traveller's Wife"
           ],
           "legendgroup": "Harcourt",
           "marker": {
            "color": "#FFA15A",
            "size": [
             546
            ],
            "sizemode": "area",
            "sizeref": 0.9955555555555555,
            "symbol": "circle"
           },
           "mode": "markers",
           "name": "Harcourt",
           "orientation": "v",
           "showlegend": true,
           "type": "scatter",
           "x": [
            14.95
           ],
           "xaxis": "x",
           "y": [
            13.6
           ],
           "yaxis": "y"
          }
         ],
         "name": "2004.0"
        },
        {
         "data": [
          {
           "hovertemplate": "<b>%{hovertext}</b><br><br>Publisher=Vintage<br>Publication Year=1991.0<br>List Price ($)=%{x}<br>Weight (oz)=%{y}<br>Number of Pages=%{marker.size}<extra></extra>",
           "hovertext": [
            "Absalom, Absalom! (The Corrected Text(",
            "American Psycho",
            "Dispatches",
            "The House on Mango Street"
           ],
           "legendgroup": "Vintage",
           "marker": {
            "color": "#FF97FF",
            "size": [
             313,
             416,
             272,
             110
            ],
            "sizemode": "area",
            "sizeref": 0.9955555555555555,
            "symbol": "circle"
           },
           "mode": "markers",
           "name": "Vintage",
           "orientation": "v",
           "showlegend": true,
           "type": "scatter",
           "x": [
            15,
            15.95,
            15,
            11
           ],
           "xaxis": "x",
           "y": [
            7.2,
            12.8,
            9.6,
            5.6
           ],
           "yaxis": "y"
          }
         ],
         "name": "1991.0"
        },
        {
         "data": [
          {
           "hovertemplate": "<b>%{hovertext}</b><br><br>Publisher=Vintage<br>Publication Year=1990.0<br>List Price ($)=%{x}<br>Weight (oz)=%{y}<br>Number of Pages=%{marker.size}<extra></extra>",
           "hovertext": [
            "Ada, or Ardor: A Family Chronicle",
            "Invitation to a Beheading",
            "The Luzhin Defense"
           ],
           "legendgroup": "Vintage",
           "marker": {
            "color": "#FF97FF",
            "size": [
             624,
             240,
             272
            ],
            "sizemode": "area",
            "sizeref": 0.9955555555555555,
            "symbol": "circle"
           },
           "mode": "markers",
           "name": "Vintage",
           "orientation": "v",
           "showlegend": true,
           "type": "scatter",
           "x": [
            18,
            14,
            15
           ],
           "xaxis": "x",
           "y": [
            19.2,
            8,
            7
           ],
           "yaxis": "y"
          },
          {
           "hovertemplate": "<b>%{hovertext}</b><br><br>Publisher=Bantam<br>Publication Year=1990.0<br>List Price ($)=%{x}<br>Weight (oz)=%{y}<br>Number of Pages=%{marker.size}<extra></extra>",
           "hovertext": [
            "Even Cowgirls Get the Blues",
            "Jitterbug Perfume"
           ],
           "legendgroup": "Bantam",
           "marker": {
            "color": "#FECB52",
            "size": [
             384,
             352
            ],
            "sizemode": "area",
            "sizeref": 0.9955555555555555,
            "symbol": "circle"
           },
           "mode": "markers",
           "name": "Bantam",
           "orientation": "v",
           "showlegend": true,
           "type": "scatter",
           "x": [
            15,
            15
           ],
           "xaxis": "x",
           "y": [
            10.4,
            9.6
           ],
           "yaxis": "y"
          }
         ],
         "name": "1990.0"
        },
        {
         "data": [
          {
           "hovertemplate": "<b>%{hovertext}</b><br><br>Publisher=HarperOne<br>Publication Year=2007.0<br>List Price ($)=%{x}<br>Weight (oz)=%{y}<br>Number of Pages=%{marker.size}<extra></extra>",
           "hovertext": [
            "Art of Living: The Classical Mannual on Virtue, Happiness and Effectiveness (Plus)"
           ],
           "legendgroup": "HarperOne",
           "marker": {
            "color": "#636efa",
            "size": [
             144
            ],
            "sizemode": "area",
            "sizeref": 0.9955555555555555,
            "symbol": "circle"
           },
           "mode": "markers",
           "name": "HarperOne",
           "orientation": "v",
           "showlegend": true,
           "type": "scatter",
           "x": [
            11.99
           ],
           "xaxis": "x",
           "y": [
            5.6
           ],
           "yaxis": "y"
          },
          {
           "hovertemplate": "<b>%{hovertext}</b><br><br>Publisher=Penguin<br>Publication Year=2007.0<br>List Price ($)=%{x}<br>Weight (oz)=%{y}<br>Number of Pages=%{marker.size}<extra></extra>",
           "hovertext": [
            "Andrew Carnegie"
           ],
           "legendgroup": "Penguin",
           "marker": {
            "color": "#FFA15A",
            "size": [
             896
            ],
            "sizemode": "area",
            "sizeref": 0.9955555555555555,
            "symbol": "circle"
           },
           "mode": "markers",
           "name": "Penguin",
           "orientation": "v",
           "showlegend": true,
           "type": "scatter",
           "x": [
            20
           ],
           "xaxis": "x",
           "y": [
            22.4
           ],
           "yaxis": "y"
          },
          {
           "hovertemplate": "<b>%{hovertext}</b><br><br>Publisher=Grand Central Publishing<br>Publication Year=2007.0<br>List Price ($)=%{x}<br>Weight (oz)=%{y}<br>Number of Pages=%{marker.size}<extra></extra>",
           "hovertext": [
            "Cross"
           ],
           "legendgroup": "Grand Central Publishing",
           "marker": {
            "color": "#00cc96",
            "size": [
             416
            ],
            "sizemode": "area",
            "sizeref": 0.9955555555555555,
            "symbol": "circle"
           },
           "mode": "markers",
           "name": "Grand Central Publishing",
           "orientation": "v",
           "showlegend": true,
           "type": "scatter",
           "x": [
            14.54
           ],
           "xaxis": "x",
           "y": [
            9.6
           ],
           "yaxis": "y"
          },
          {
           "hovertemplate": "<b>%{hovertext}</b><br><br>Publisher=Wadsworth Publishing<br>Publication Year=2007.0<br>List Price ($)=%{x}<br>Weight (oz)=%{y}<br>Number of Pages=%{marker.size}<extra></extra>",
           "hovertext": [
            "Culture and Psychology"
           ],
           "legendgroup": "Wadsworth Publishing",
           "marker": {
            "color": "#EF553B",
            "size": [
             544
            ],
            "sizemode": "area",
            "sizeref": 0.9955555555555555,
            "symbol": "circle"
           },
           "mode": "markers",
           "name": "Wadsworth Publishing",
           "orientation": "v",
           "showlegend": true,
           "type": "scatter",
           "x": [
            114.95
           ],
           "xaxis": "x",
           "y": [
            28.8
           ],
           "yaxis": "y"
          },
          {
           "hovertemplate": "<b>%{hovertext}</b><br><br>Publisher=North Atlantic Books<br>Publication Year=2007.0<br>List Price ($)=%{x}<br>Weight (oz)=%{y}<br>Number of Pages=%{marker.size}<extra></extra>",
           "hovertext": [
            "I am Grateful: Recipes and Lifestyles of Caf Gratitute"
           ],
           "legendgroup": "North Atlantic Books",
           "marker": {
            "color": "#19d3f3",
            "size": [
             200
            ],
            "sizemode": "area",
            "sizeref": 0.9955555555555555,
            "symbol": "circle"
           },
           "mode": "markers",
           "name": "North Atlantic Books",
           "orientation": "v",
           "showlegend": true,
           "type": "scatter",
           "x": [
            24.95
           ],
           "xaxis": "x",
           "y": [
            14
           ],
           "yaxis": "y"
          },
          {
           "hovertemplate": "<b>%{hovertext}</b><br><br>Publisher=Ballantine books<br>Publication Year=2007.0<br>List Price ($)=%{x}<br>Weight (oz)=%{y}<br>Number of Pages=%{marker.size}<extra></extra>",
           "hovertext": [
            "Inherit The Wind"
           ],
           "legendgroup": "Ballantine books",
           "marker": {
            "color": "#FF97FF",
            "size": [
             144
            ],
            "sizemode": "area",
            "sizeref": 0.9955555555555555,
            "symbol": "circle"
           },
           "mode": "markers",
           "name": "Ballantine books",
           "orientation": "v",
           "showlegend": true,
           "type": "scatter",
           "x": [
            9.95
           ],
           "xaxis": "x",
           "y": [
            4
           ],
           "yaxis": "y"
          },
          {
           "hovertemplate": "<b>%{hovertext}</b><br><br>Publisher=Random House Trade Paperbacks<br>Publication Year=2007.0<br>List Price ($)=%{x}<br>Weight (oz)=%{y}<br>Number of Pages=%{marker.size}<extra></extra>",
           "hovertext": [
            "Kabul Beauty School: An American Woman Goes Behind the Veil"
           ],
           "legendgroup": "Random House Trade Paperbacks",
           "marker": {
            "color": "#00cc96",
            "size": [
             320
            ],
            "sizemode": "area",
            "sizeref": 0.9955555555555555,
            "symbol": "circle"
           },
           "mode": "markers",
           "name": "Random House Trade Paperbacks",
           "orientation": "v",
           "showlegend": true,
           "type": "scatter",
           "x": [
            14.95
           ],
           "xaxis": "x",
           "y": [
            7.2
           ],
           "yaxis": "y"
          },
          {
           "hovertemplate": "<b>%{hovertext}</b><br><br>Publisher=Washington Square Press<br>Publication Year=2007.0<br>List Price ($)=%{x}<br>Weight (oz)=%{y}<br>Number of Pages=%{marker.size}<extra></extra>",
           "hovertext": [
            "Plain Truth"
           ],
           "legendgroup": "Washington Square Press",
           "marker": {
            "color": "#00cc96",
            "size": [
             432
            ],
            "sizemode": "area",
            "sizeref": 0.9955555555555555,
            "symbol": "circle"
           },
           "mode": "markers",
           "name": "Washington Square Press",
           "orientation": "v",
           "showlegend": true,
           "type": "scatter",
           "x": [
            16
           ],
           "xaxis": "x",
           "y": [
            15.2
           ],
           "yaxis": "y"
          },
          {
           "hovertemplate": "<b>%{hovertext}</b><br><br>Publisher=Routledge<br>Publication Year=2007.0<br>List Price ($)=%{x}<br>Weight (oz)=%{y}<br>Number of Pages=%{marker.size}<extra></extra>",
           "hovertext": [
            "Population Decline and Aging in Japan"
           ],
           "legendgroup": "Routledge",
           "marker": {
            "color": "#636efa",
            "size": [
             176
            ],
            "sizemode": "area",
            "sizeref": 0.9955555555555555,
            "symbol": "circle"
           },
           "mode": "markers",
           "name": "Routledge",
           "orientation": "v",
           "showlegend": true,
           "type": "scatter",
           "x": [
            35.95
           ],
           "xaxis": "x",
           "y": [
            9.9
           ],
           "yaxis": "y"
          },
          {
           "hovertemplate": "<b>%{hovertext}</b><br><br>Publisher=Alfred A. Knopf<br>Publication Year=2007.0<br>List Price ($)=%{x}<br>Weight (oz)=%{y}<br>Number of Pages=%{marker.size}<extra></extra>",
           "hovertext": [
            "The Book Thief"
           ],
           "legendgroup": "Alfred A. Knopf",
           "marker": {
            "color": "#00cc96",
            "size": [
             576
            ],
            "sizemode": "area",
            "sizeref": 0.9955555555555555,
            "symbol": "circle"
           },
           "mode": "markers",
           "name": "Alfred A. Knopf",
           "orientation": "v",
           "showlegend": true,
           "type": "scatter",
           "x": [
            12.99
           ],
           "xaxis": "x",
           "y": [
            12.8
           ],
           "yaxis": "y"
          },
          {
           "hovertemplate": "<b>%{hovertext}</b><br><br>Publisher=Algonquin Books<br>Publication Year=2007.0<br>List Price ($)=%{x}<br>Weight (oz)=%{y}<br>Number of Pages=%{marker.size}<extra></extra>",
           "hovertext": [
            "Water for Elephants: A Novel"
           ],
           "legendgroup": "Algonquin Books",
           "marker": {
            "color": "#636efa",
            "size": [
             350
            ],
            "sizemode": "area",
            "sizeref": 0.9955555555555555,
            "symbol": "circle"
           },
           "mode": "markers",
           "name": "Algonquin Books",
           "orientation": "v",
           "showlegend": true,
           "type": "scatter",
           "x": [
            14.95
           ],
           "xaxis": "x",
           "y": [
            12.8
           ],
           "yaxis": "y"
          }
         ],
         "name": "2007.0"
        },
        {
         "data": [
          {
           "hovertemplate": "<b>%{hovertext}</b><br><br>Publisher=Vintage<br>Publication Year=2005.0<br>List Price ($)=%{x}<br>Weight (oz)=%{y}<br>Number of Pages=%{marker.size}<extra></extra>",
           "hovertext": [
            "How to Breathe Underwater",
            "Runaway",
            "War Trash"
           ],
           "legendgroup": "Vintage",
           "marker": {
            "color": "#FF97FF",
            "size": [
             226,
             352,
             368
            ],
            "sizemode": "area",
            "sizeref": 0.9955555555555555,
            "symbol": "circle"
           },
           "mode": "markers",
           "name": "Vintage",
           "orientation": "v",
           "showlegend": true,
           "type": "scatter",
           "x": [
            14,
            15.95,
            15.95
           ],
           "xaxis": "x",
           "y": [
            8.8,
            10.4,
            10.4
           ],
           "yaxis": "y"
          },
          {
           "hovertemplate": "<b>%{hovertext}</b><br><br>Publisher=Southern Illinois University Press<br>Publication Year=2005.0<br>List Price ($)=%{x}<br>Weight (oz)=%{y}<br>Number of Pages=%{marker.size}<extra></extra>",
           "hovertext": [
            "Appeals in Modern Rhetoric: An Ordinary Language Approach"
           ],
           "legendgroup": "Southern Illinois University Press",
           "marker": {
            "color": "#19d3f3",
            "size": [
             192
            ],
            "sizemode": "area",
            "sizeref": 0.9955555555555555,
            "symbol": "circle"
           },
           "mode": "markers",
           "name": "Southern Illinois University Press",
           "orientation": "v",
           "showlegend": true,
           "type": "scatter",
           "x": [
            29.5
           ],
           "xaxis": "x",
           "y": [
            9.6
           ],
           "yaxis": "y"
          },
          {
           "hovertemplate": "<b>%{hovertext}</b><br><br>Publisher=W.W. Norton<br>Publication Year=2005.0<br>List Price ($)=%{x}<br>Weight (oz)=%{y}<br>Number of Pages=%{marker.size}<extra></extra>",
           "hovertext": [
            "Fight Club"
           ],
           "legendgroup": "W.W. Norton",
           "marker": {
            "color": "#FF6692",
            "size": [
             224
            ],
            "sizemode": "area",
            "sizeref": 0.9955555555555555,
            "symbol": "circle"
           },
           "mode": "markers",
           "name": "W.W. Norton",
           "orientation": "v",
           "showlegend": true,
           "type": "scatter",
           "x": [
            13.95
           ],
           "xaxis": "x",
           "y": [
            6.4
           ],
           "yaxis": "y"
          },
          {
           "hovertemplate": "<b>%{hovertext}</b><br><br>Publisher=Longman<br>Publication Year=2005.0<br>List Price ($)=%{x}<br>Weight (oz)=%{y}<br>Number of Pages=%{marker.size}<extra></extra>",
           "hovertext": [
            "The Curious Reader: Exploring Personal and Academic Inquiry (2nd Edition)"
           ],
           "legendgroup": "Longman",
           "marker": {
            "color": "#00cc96",
            "size": [
             560
            ],
            "sizemode": "area",
            "sizeref": 0.9955555555555555,
            "symbol": "circle"
           },
           "mode": "markers",
           "name": "Longman",
           "orientation": "v",
           "showlegend": true,
           "type": "scatter",
           "x": [
            70.8
           ],
           "xaxis": "x",
           "y": [
            19.2
           ],
           "yaxis": "y"
          },
          {
           "hovertemplate": "<b>%{hovertext}</b><br><br>Publisher=University of California Press<br>Publication Year=2005.0<br>List Price ($)=%{x}<br>Weight (oz)=%{y}<br>Number of Pages=%{marker.size}<extra></extra>",
           "hovertext": [
            "Masculinites: Second Edition"
           ],
           "legendgroup": "University of California Press",
           "marker": {
            "color": "#636efa",
            "size": [
             349
            ],
            "sizemode": "area",
            "sizeref": 0.9955555555555555,
            "symbol": "circle"
           },
           "mode": "markers",
           "name": "University of California Press",
           "orientation": "v",
           "showlegend": true,
           "type": "scatter",
           "x": [
            25.05
           ],
           "xaxis": "x",
           "y": [
            13.4
           ],
           "yaxis": "y"
          },
          {
           "hovertemplate": "<b>%{hovertext}</b><br><br>Publisher=Washington Square Press<br>Publication Year=2005.0<br>List Price ($)=%{x}<br>Weight (oz)=%{y}<br>Number of Pages=%{marker.size}<extra></extra>",
           "hovertext": [
            "My Sister's Keeper"
           ],
           "legendgroup": "Washington Square Press",
           "marker": {
            "color": "#00cc96",
            "size": [
             448
            ],
            "sizemode": "area",
            "sizeref": 0.9955555555555555,
            "symbol": "circle"
           },
           "mode": "markers",
           "name": "Washington Square Press",
           "orientation": "v",
           "showlegend": true,
           "type": "scatter",
           "x": [
            16
           ],
           "xaxis": "x",
           "y": [
            6.4
           ],
           "yaxis": "y"
          },
          {
           "hovertemplate": "<b>%{hovertext}</b><br><br>Publisher=Puffin<br>Publication Year=2005.0<br>List Price ($)=%{x}<br>Weight (oz)=%{y}<br>Number of Pages=%{marker.size}<extra></extra>",
           "hovertext": [
            "Pippi Longstocking"
           ],
           "legendgroup": "Puffin",
           "marker": {
            "color": "#FECB52",
            "size": [
             160
            ],
            "sizemode": "area",
            "sizeref": 0.9955555555555555,
            "symbol": "circle"
           },
           "mode": "markers",
           "name": "Puffin",
           "orientation": "v",
           "showlegend": true,
           "type": "scatter",
           "x": [
            5.99
           ],
           "xaxis": "x",
           "y": [
            4.8
           ],
           "yaxis": "y"
          },
          {
           "hovertemplate": "<b>%{hovertext}</b><br><br>Publisher=Copper Press<br>Publication Year=2005.0<br>List Price ($)=%{x}<br>Weight (oz)=%{y}<br>Number of Pages=%{marker.size}<extra></extra>",
           "hovertext": [
            "The Time Keeper"
           ],
           "legendgroup": "Copper Press",
           "marker": {
            "color": "#ab63fa",
            "size": [
             248
            ],
            "sizemode": "area",
            "sizeref": 0.9955555555555555,
            "symbol": "circle"
           },
           "mode": "markers",
           "name": "Copper Press",
           "orientation": "v",
           "showlegend": true,
           "type": "scatter",
           "x": [
            14
           ],
           "xaxis": "x",
           "y": [
            10.4
           ],
           "yaxis": "y"
          },
          {
           "hovertemplate": "<b>%{hovertext}</b><br><br>Publisher=St Martin's Griffin<br>Publication Year=2005.0<br>List Price ($)=%{x}<br>Weight (oz)=%{y}<br>Number of Pages=%{marker.size}<extra></extra>",
           "hovertext": [
            "Why I wore lipstick"
           ],
           "legendgroup": "St Martin's Griffin",
           "marker": {
            "color": "#ab63fa",
            "size": [
             224
            ],
            "sizemode": "area",
            "sizeref": 0.9955555555555555,
            "symbol": "circle"
           },
           "mode": "markers",
           "name": "St Martin's Griffin",
           "orientation": "v",
           "showlegend": true,
           "type": "scatter",
           "x": [
            12.95
           ],
           "xaxis": "x",
           "y": [
            6.4
           ],
           "yaxis": "y"
          }
         ],
         "name": "2005.0"
        },
        {
         "data": [
          {
           "hovertemplate": "<b>%{hovertext}</b><br><br>Publisher=Scribner<br>Publication Year=1996.0<br>List Price ($)=%{x}<br>Weight (oz)=%{y}<br>Number of Pages=%{marker.size}<extra></extra>",
           "hovertext": [
            "The Great Gatsby"
           ],
           "legendgroup": "Scribner",
           "marker": {
            "color": "#B6E880",
            "size": [
             176
            ],
            "sizemode": "area",
            "sizeref": 0.9955555555555555,
            "symbol": "circle"
           },
           "mode": "markers",
           "name": "Scribner",
           "orientation": "v",
           "showlegend": true,
           "type": "scatter",
           "x": [
            25
           ],
           "xaxis": "x",
           "y": [
            13.6
           ],
           "yaxis": "y"
          },
          {
           "hovertemplate": "<b>%{hovertext}</b><br><br>Publisher=Vintage<br>Publication Year=1996.0<br>List Price ($)=%{x}<br>Weight (oz)=%{y}<br>Number of Pages=%{marker.size}<extra></extra>",
           "hovertext": [
            "Beauty and Sadness",
            "The Loser: A Novel",
            "The Sound of the Mountain"
           ],
           "legendgroup": "Vintage",
           "marker": {
            "color": "#FF97FF",
            "size": [
             206,
             208,
             288
            ],
            "sizemode": "area",
            "sizeref": 0.9955555555555555,
            "symbol": "circle"
           },
           "mode": "markers",
           "name": "Vintage",
           "orientation": "v",
           "showlegend": true,
           "type": "scatter",
           "x": [
            13.95,
            14,
            14.95
           ],
           "xaxis": "x",
           "y": [
            8.8,
            5.6,
            9.1
           ],
           "yaxis": "y"
          },
          {
           "hovertemplate": "<b>%{hovertext}</b><br><br>Publisher=Penguin<br>Publication Year=1996.0<br>List Price ($)=%{x}<br>Weight (oz)=%{y}<br>Number of Pages=%{marker.size}<extra></extra>",
           "hovertext": [
            "Death of a Salesman"
           ],
           "legendgroup": "Penguin",
           "marker": {
            "color": "#FFA15A",
            "size": [
             448
            ],
            "sizemode": "area",
            "sizeref": 0.9955555555555555,
            "symbol": "circle"
           },
           "mode": "markers",
           "name": "Penguin",
           "orientation": "v",
           "showlegend": true,
           "type": "scatter",
           "x": [
            18
           ],
           "xaxis": "x",
           "y": [
            11.4
           ],
           "yaxis": "y"
          },
          {
           "hovertemplate": "<b>%{hovertext}</b><br><br>Publisher=W.W. Norton<br>Publication Year=1996.0<br>List Price ($)=%{x}<br>Weight (oz)=%{y}<br>Number of Pages=%{marker.size}<extra></extra>",
           "hovertext": [
            "Trainspotting"
           ],
           "legendgroup": "W.W. Norton",
           "marker": {
            "color": "#FF6692",
            "size": [
             368
            ],
            "sizemode": "area",
            "sizeref": 0.9955555555555555,
            "symbol": "circle"
           },
           "mode": "markers",
           "name": "W.W. Norton",
           "orientation": "v",
           "showlegend": true,
           "type": "scatter",
           "x": [
            14.95
           ],
           "xaxis": "x",
           "y": [
            13.6
           ],
           "yaxis": "y"
          },
          {
           "hovertemplate": "<b>%{hovertext}</b><br><br>Publisher=Farrar, Straus, and Giroux<br>Publication Year=1996.0<br>List Price ($)=%{x}<br>Weight (oz)=%{y}<br>Number of Pages=%{marker.size}<extra></extra>",
           "hovertext": [
            "The Inferno of Dante: Bilingual Edition"
           ],
           "legendgroup": "Farrar, Straus, and Giroux",
           "marker": {
            "color": "#19d3f3",
            "size": [
             384
            ],
            "sizemode": "area",
            "sizeref": 0.9955555555555555,
            "symbol": "circle"
           },
           "mode": "markers",
           "name": "Farrar, Straus, and Giroux",
           "orientation": "v",
           "showlegend": true,
           "type": "scatter",
           "x": [
            12
           ],
           "xaxis": "x",
           "y": [
            15.2
           ],
           "yaxis": "y"
          }
         ],
         "name": "1996.0"
        },
        {
         "data": [
          {
           "hovertemplate": "<b>%{hovertext}</b><br><br>Publisher=Harper Perennial<br>Publication Year=2006.0<br>List Price ($)=%{x}<br>Weight (oz)=%{y}<br>Number of Pages=%{marker.size}<extra></extra>",
           "hovertext": [
            "Busting Vegas: A True Story of Monumental Excess, Sex, Love, Violence and Beating the Odds",
            "The Crying of Lot 49",
            "The Yacoubian Building"
           ],
           "legendgroup": "Harper Perennial",
           "marker": {
            "color": "#ab63fa",
            "size": [
             304,
             192,
             255
            ],
            "sizemode": "area",
            "sizeref": 0.9955555555555555,
            "symbol": "circle"
           },
           "mode": "markers",
           "name": "Harper Perennial",
           "orientation": "v",
           "showlegend": true,
           "type": "scatter",
           "x": [
            14.95,
            12.99,
            13.99
           ],
           "xaxis": "x",
           "y": [
            5.6,
            4.8,
            8
           ],
           "yaxis": "y"
          },
          {
           "hovertemplate": "<b>%{hovertext}</b><br><br>Publisher=Vintage<br>Publication Year=2006.0<br>List Price ($)=%{x}<br>Weight (oz)=%{y}<br>Number of Pages=%{marker.size}<extra></extra>",
           "hovertext": [
            "Kafka On the Shore"
           ],
           "legendgroup": "Vintage",
           "marker": {
            "color": "#FF97FF",
            "size": [
             480
            ],
            "sizemode": "area",
            "sizeref": 0.9955555555555555,
            "symbol": "circle"
           },
           "mode": "markers",
           "name": "Vintage",
           "orientation": "v",
           "showlegend": true,
           "type": "scatter",
           "x": [
            15.95
           ],
           "xaxis": "x",
           "y": [
            14.4
           ],
           "yaxis": "y"
          },
          {
           "hovertemplate": "<b>%{hovertext}</b><br><br>Publisher=HarperCollins<br>Publication Year=2006.0<br>List Price ($)=%{x}<br>Weight (oz)=%{y}<br>Number of Pages=%{marker.size}<extra></extra>",
           "hovertext": [
            "To Kill a Mockingbird"
           ],
           "legendgroup": "HarperCollins",
           "marker": {
            "color": "#ab63fa",
            "size": [
             336
            ],
            "sizemode": "area",
            "sizeref": 0.9955555555555555,
            "symbol": "circle"
           },
           "mode": "markers",
           "name": "HarperCollins",
           "orientation": "v",
           "showlegend": true,
           "type": "scatter",
           "x": [
            35
           ],
           "xaxis": "x",
           "y": [
            17.6
           ],
           "yaxis": "y"
          },
          {
           "hovertemplate": "<b>%{hovertext}</b><br><br>Publisher=Random House Books<br>Publication Year=2006.0<br>List Price ($)=%{x}<br>Weight (oz)=%{y}<br>Number of Pages=%{marker.size}<extra></extra>",
           "hovertext": [
            "Big Dog . . . Little Dog"
           ],
           "legendgroup": "Random House Books",
           "marker": {
            "color": "#B6E880",
            "size": [
             24
            ],
            "sizemode": "area",
            "sizeref": 0.9955555555555555,
            "symbol": "circle"
           },
           "mode": "markers",
           "name": "Random House Books",
           "orientation": "v",
           "showlegend": true,
           "type": "scatter",
           "x": [
            4.99
           ],
           "xaxis": "x",
           "y": [
            4
           ],
           "yaxis": "y"
          },
          {
           "hovertemplate": "<b>%{hovertext}</b><br><br>Publisher=St. Anthony Messenger Press<br>Publication Year=2006.0<br>List Price ($)=%{x}<br>Weight (oz)=%{y}<br>Number of Pages=%{marker.size}<extra></extra>",
           "hovertext": [
            "Blessed Are the Bored in Spirit: A Young Catholic's Search for Meaning"
           ],
           "legendgroup": "St. Anthony Messenger Press",
           "marker": {
            "color": "#FF97FF",
            "size": [
             129
            ],
            "sizemode": "area",
            "sizeref": 0.9955555555555555,
            "symbol": "circle"
           },
           "mode": "markers",
           "name": "St. Anthony Messenger Press",
           "orientation": "v",
           "showlegend": true,
           "type": "scatter",
           "x": [
            13.99
           ],
           "xaxis": "x",
           "y": [
            5.6
           ],
           "yaxis": "y"
          },
          {
           "hovertemplate": "<b>%{hovertext}</b><br><br>Publisher=Aladdin<br>Publication Year=2006.0<br>List Price ($)=%{x}<br>Weight (oz)=%{y}<br>Number of Pages=%{marker.size}<extra></extra>",
           "hovertext": [
            "Caddie Woodlawn"
           ],
           "legendgroup": "Aladdin",
           "marker": {
            "color": "#636efa",
            "size": [
             288
            ],
            "sizemode": "area",
            "sizeref": 0.9955555555555555,
            "symbol": "circle"
           },
           "mode": "markers",
           "name": "Aladdin",
           "orientation": "v",
           "showlegend": true,
           "type": "scatter",
           "x": [
            6.69
           ],
           "xaxis": "x",
           "y": [
            4.8
           ],
           "yaxis": "y"
          },
          {
           "hovertemplate": "<b>%{hovertext}</b><br><br>Publisher=Harper Paperbacks<br>Publication Year=2006.0<br>List Price ($)=%{x}<br>Weight (oz)=%{y}<br>Number of Pages=%{marker.size}<extra></extra>",
           "hovertext": [
            "Innovation and Entrepreneurship",
            "The Effective Executive: The Definitive Guide to Getting the Right Things Done",
            "The Practice of Management"
           ],
           "legendgroup": "Harper Paperbacks",
           "marker": {
            "color": "#636efa",
            "size": [
             288,
             208,
             416
            ],
            "sizemode": "area",
            "sizeref": 0.9955555555555555,
            "symbol": "circle"
           },
           "mode": "markers",
           "name": "Harper Paperbacks",
           "orientation": "v",
           "showlegend": true,
           "type": "scatter",
           "x": [
            16.99,
            16.99,
            16.99
           ],
           "xaxis": "x",
           "y": [
            6.4,
            5.6,
            12
           ],
           "yaxis": "y"
          },
          {
           "hovertemplate": "<b>%{hovertext}</b><br><br>Publisher=Wadsworth Publishing<br>Publication Year=2006.0<br>List Price ($)=%{x}<br>Weight (oz)=%{y}<br>Number of Pages=%{marker.size}<extra></extra>",
           "hovertext": [
            "Discovering a Global Past: A Look at the Evidence"
           ],
           "legendgroup": "Wadsworth Publishing",
           "marker": {
            "color": "#EF553B",
            "size": [
             512
            ],
            "sizemode": "area",
            "sizeref": 0.9955555555555555,
            "symbol": "circle"
           },
           "mode": "markers",
           "name": "Wadsworth Publishing",
           "orientation": "v",
           "showlegend": true,
           "type": "scatter",
           "x": [
            86.95
           ],
           "xaxis": "x",
           "y": [
            23.2
           ],
           "yaxis": "y"
          },
          {
           "hovertemplate": "<b>%{hovertext}</b><br><br>Publisher=Penguin Classics<br>Publication Year=2006.0<br>List Price ($)=%{x}<br>Weight (oz)=%{y}<br>Number of Pages=%{marker.size}<extra></extra>",
           "hovertext": [
            "Grapes of Wrath"
           ],
           "legendgroup": "Penguin Classics",
           "marker": {
            "color": "#FF6692",
            "size": [
             464
            ],
            "sizemode": "area",
            "sizeref": 0.9955555555555555,
            "symbol": "circle"
           },
           "mode": "markers",
           "name": "Penguin Classics",
           "orientation": "v",
           "showlegend": true,
           "type": "scatter",
           "x": [
            16
           ],
           "xaxis": "x",
           "y": [
            12.8
           ],
           "yaxis": "y"
          },
          {
           "hovertemplate": "<b>%{hovertext}</b><br><br>Publisher=Mariner Books<br>Publication Year=2006.0<br>List Price ($)=%{x}<br>Weight (oz)=%{y}<br>Number of Pages=%{marker.size}<extra></extra>",
           "hovertext": [
            "Patterns of Culture"
           ],
           "legendgroup": "Mariner Books",
           "marker": {
            "color": "#636efa",
            "size": [
             320
            ],
            "sizemode": "area",
            "sizeref": 0.9955555555555555,
            "symbol": "circle"
           },
           "mode": "markers",
           "name": "Mariner Books",
           "orientation": "v",
           "showlegend": true,
           "type": "scatter",
           "x": [
            15
           ],
           "xaxis": "x",
           "y": [
            12
           ],
           "yaxis": "y"
          },
          {
           "hovertemplate": "<b>%{hovertext}</b><br><br>Publisher=New Directions<br>Publication Year=2006.0<br>List Price ($)=%{x}<br>Weight (oz)=%{y}<br>Number of Pages=%{marker.size}<extra></extra>",
           "hovertext": [
            "Laughter in the Dark"
           ],
           "legendgroup": "New Directions",
           "marker": {
            "color": "#FFA15A",
            "size": [
             308
            ],
            "sizemode": "area",
            "sizeref": 0.9955555555555555,
            "symbol": "circle"
           },
           "mode": "markers",
           "name": "New Directions",
           "orientation": "v",
           "showlegend": true,
           "type": "scatter",
           "x": [
            12.95
           ],
           "xaxis": "x",
           "y": [
            9.6
           ],
           "yaxis": "y"
          },
          {
           "hovertemplate": "<b>%{hovertext}</b><br><br>Publisher=Penguin (Non-classics)<br>Publication Year=2006.0<br>List Price ($)=%{x}<br>Weight (oz)=%{y}<br>Number of Pages=%{marker.size}<extra></extra>",
           "hovertext": [
            "March"
           ],
           "legendgroup": "Penguin (Non-classics)",
           "marker": {
            "color": "#FECB52",
            "size": [
             304
            ],
            "sizemode": "area",
            "sizeref": 0.9955555555555555,
            "symbol": "circle"
           },
           "mode": "markers",
           "name": "Penguin (Non-classics)",
           "orientation": "v",
           "showlegend": true,
           "type": "scatter",
           "x": [
            15
           ],
           "xaxis": "x",
           "y": [
            8
           ],
           "yaxis": "y"
          },
          {
           "hovertemplate": "<b>%{hovertext}</b><br><br>Publisher=Washington Square Press<br>Publication Year=2006.0<br>List Price ($)=%{x}<br>Weight (oz)=%{y}<br>Number of Pages=%{marker.size}<extra></extra>",
           "hovertext": [
            "The Tenth Circle"
           ],
           "legendgroup": "Washington Square Press",
           "marker": {
            "color": "#00cc96",
            "size": [
             416
            ],
            "sizemode": "area",
            "sizeref": 0.9955555555555555,
            "symbol": "circle"
           },
           "mode": "markers",
           "name": "Washington Square Press",
           "orientation": "v",
           "showlegend": true,
           "type": "scatter",
           "x": [
            16
           ],
           "xaxis": "x",
           "y": [
            13.6
           ],
           "yaxis": "y"
          },
          {
           "hovertemplate": "<b>%{hovertext}</b><br><br>Publisher=Harper Perennial Modern Classics<br>Publication Year=2006.0<br>List Price ($)=%{x}<br>Weight (oz)=%{y}<br>Number of Pages=%{marker.size}<extra></extra>",
           "hovertext": [
            "Their Eyes Were Watching God"
           ],
           "legendgroup": "Harper Perennial Modern Classics",
           "marker": {
            "color": "#19d3f3",
            "size": [
             256
            ],
            "sizemode": "area",
            "sizeref": 0.9955555555555555,
            "symbol": "circle"
           },
           "mode": "markers",
           "name": "Harper Perennial Modern Classics",
           "orientation": "v",
           "showlegend": true,
           "type": "scatter",
           "x": [
            15.99
           ],
           "xaxis": "x",
           "y": [
            8.8
           ],
           "yaxis": "y"
          }
         ],
         "name": "2006.0"
        },
        {
         "data": [
          {
           "hovertemplate": "<b>%{hovertext}</b><br><br>Publisher=Vintage<br>Publication Year=1993.0<br>List Price ($)=%{x}<br>Weight (oz)=%{y}<br>Number of Pages=%{marker.size}<extra></extra>",
           "hovertext": [
            "Sanctuary (The Corrected Text)"
           ],
           "legendgroup": "Vintage",
           "marker": {
            "color": "#FF97FF",
            "size": [
             336
            ],
            "sizemode": "area",
            "sizeref": 0.9955555555555555,
            "symbol": "circle"
           },
           "mode": "markers",
           "name": "Vintage",
           "orientation": "v",
           "showlegend": true,
           "type": "scatter",
           "x": [
            14
           ],
           "xaxis": "x",
           "y": [
            9.1
           ],
           "yaxis": "y"
          },
          {
           "hovertemplate": "<b>%{hovertext}</b><br><br>Publisher=Plume<br>Publication Year=1993.0<br>List Price ($)=%{x}<br>Weight (oz)=%{y}<br>Number of Pages=%{marker.size}<extra></extra>",
           "hovertext": [
            "Black Water"
           ],
           "legendgroup": "Plume",
           "marker": {
            "color": "#EF553B",
            "size": [
             160
            ],
            "sizemode": "area",
            "sizeref": 0.9955555555555555,
            "symbol": "circle"
           },
           "mode": "markers",
           "name": "Plume",
           "orientation": "v",
           "showlegend": true,
           "type": "scatter",
           "x": [
            13
           ],
           "xaxis": "x",
           "y": [
            4.8
           ],
           "yaxis": "y"
          },
          {
           "hovertemplate": "<b>%{hovertext}</b><br><br>Publisher=W.W. Norton<br>Publication Year=1993.0<br>List Price ($)=%{x}<br>Weight (oz)=%{y}<br>Number of Pages=%{marker.size}<extra></extra>",
           "hovertext": [
            "The Awakening",
            "The Sound and the Fury"
           ],
           "legendgroup": "W.W. Norton",
           "marker": {
            "color": "#FF6692",
            "size": [
             336,
             464
            ],
            "sizemode": "area",
            "sizeref": 0.9955555555555555,
            "symbol": "circle"
           },
           "mode": "markers",
           "name": "W.W. Norton",
           "orientation": "v",
           "showlegend": true,
           "type": "scatter",
           "x": [
            12.14,
            15.44
           ],
           "xaxis": "x",
           "y": [
            16,
            15.2
           ],
           "yaxis": "y"
          },
          {
           "hovertemplate": "<b>%{hovertext}</b><br><br>Publisher=Penguin (Non-Classics)<br>Publication Year=1993.0<br>List Price ($)=%{x}<br>Weight (oz)=%{y}<br>Number of Pages=%{marker.size}<extra></extra>",
           "hovertext": [
            "Harvesting the Heart"
           ],
           "legendgroup": "Penguin (Non-Classics)",
           "marker": {
            "color": "#FF97FF",
            "size": [
             464
            ],
            "sizemode": "area",
            "sizeref": 0.9955555555555555,
            "symbol": "circle"
           },
           "mode": "markers",
           "name": "Penguin (Non-Classics)",
           "orientation": "v",
           "showlegend": true,
           "type": "scatter",
           "x": [
            16
           ],
           "xaxis": "x",
           "y": [
            11.2
           ],
           "yaxis": "y"
          },
          {
           "hovertemplate": "<b>%{hovertext}</b><br><br>Publisher=Albert Whitman & Company<br>Publication Year=1993.0<br>List Price ($)=%{x}<br>Weight (oz)=%{y}<br>Number of Pages=%{marker.size}<extra></extra>",
           "hovertext": [
            "Someone Was Watching"
           ],
           "legendgroup": "Albert Whitman & Company",
           "marker": {
            "color": "#EF553B",
            "size": [
             224
            ],
            "sizemode": "area",
            "sizeref": 0.9955555555555555,
            "symbol": "circle"
           },
           "mode": "markers",
           "name": "Albert Whitman & Company",
           "orientation": "v",
           "showlegend": true,
           "type": "scatter",
           "x": [
            6.95
           ],
           "xaxis": "x",
           "y": [
            8
           ],
           "yaxis": "y"
          },
          {
           "hovertemplate": "<b>%{hovertext}</b><br><br>Publisher=Dover<br>Publication Year=1993.0<br>List Price ($)=%{x}<br>Weight (oz)=%{y}<br>Number of Pages=%{marker.size}<extra></extra>",
           "hovertext": [
            "The Secret Sharer and Other Stories"
           ],
           "legendgroup": "Dover",
           "marker": {
            "color": "#FF97FF",
            "size": [
             128
            ],
            "sizemode": "area",
            "sizeref": 0.9955555555555555,
            "symbol": "circle"
           },
           "mode": "markers",
           "name": "Dover",
           "orientation": "v",
           "showlegend": true,
           "type": "scatter",
           "x": [
            2
           ],
           "xaxis": "x",
           "y": [
            4.2
           ],
           "yaxis": "y"
          },
          {
           "hovertemplate": "<b>%{hovertext}</b><br><br>Publisher=Yearling<br>Publication Year=1993.0<br>List Price ($)=%{x}<br>Weight (oz)=%{y}<br>Number of Pages=%{marker.size}<extra></extra>",
           "hovertext": [
            "Toliver's Secret"
           ],
           "legendgroup": "Yearling",
           "marker": {
            "color": "#FF97FF",
            "size": [
             176
            ],
            "sizemode": "area",
            "sizeref": 0.9955555555555555,
            "symbol": "circle"
           },
           "mode": "markers",
           "name": "Yearling",
           "orientation": "v",
           "showlegend": true,
           "type": "scatter",
           "x": [
            6.99
           ],
           "xaxis": "x",
           "y": [
            3.2
           ],
           "yaxis": "y"
          },
          {
           "hovertemplate": "<b>%{hovertext}</b><br><br>Publisher=Harvard University Press<br>Publication Year=1993.0<br>List Price ($)=%{x}<br>Weight (oz)=%{y}<br>Number of Pages=%{marker.size}<extra></extra>",
           "hovertext": [
            "We have never been modern"
           ],
           "legendgroup": "Harvard University Press",
           "marker": {
            "color": "#EF553B",
            "size": [
             168
            ],
            "sizemode": "area",
            "sizeref": 0.9955555555555555,
            "symbol": "circle"
           },
           "mode": "markers",
           "name": "Harvard University Press",
           "orientation": "v",
           "showlegend": true,
           "type": "scatter",
           "x": [
            26
           ],
           "xaxis": "x",
           "y": [
            7
           ],
           "yaxis": "y"
          }
         ],
         "name": "1993.0"
        },
        {
         "data": [
          {
           "hovertemplate": "<b>%{hovertext}</b><br><br>Publisher=Scribner<br>Publication Year=2002.0<br>List Price ($)=%{x}<br>Weight (oz)=%{y}<br>Number of Pages=%{marker.size}<extra></extra>",
           "hovertext": [
            "The Emporer's Handbook: A New Translation of the Meditations"
           ],
           "legendgroup": "Scribner",
           "marker": {
            "color": "#B6E880",
            "size": [
             160
            ],
            "sizemode": "area",
            "sizeref": 0.9955555555555555,
            "symbol": "circle"
           },
           "mode": "markers",
           "name": "Scribner",
           "orientation": "v",
           "showlegend": true,
           "type": "scatter",
           "x": [
            22
           ],
           "xaxis": "x",
           "y": [
            3.2
           ],
           "yaxis": "y"
          },
          {
           "hovertemplate": "<b>%{hovertext}</b><br><br>Publisher=HarperCollins<br>Publication Year=2002.0<br>List Price ($)=%{x}<br>Weight (oz)=%{y}<br>Number of Pages=%{marker.size}<extra></extra>",
           "hovertext": [
            "Surviving Hitler: A Boy in the Nazi Death Camps"
           ],
           "legendgroup": "HarperCollins",
           "marker": {
            "color": "#ab63fa",
            "size": [
             160
            ],
            "sizemode": "area",
            "sizeref": 0.9955555555555555,
            "symbol": "circle"
           },
           "mode": "markers",
           "name": "HarperCollins",
           "orientation": "v",
           "showlegend": true,
           "type": "scatter",
           "x": [
            6.99
           ],
           "xaxis": "x",
           "y": [
            8
           ],
           "yaxis": "y"
          },
          {
           "hovertemplate": "<b>%{hovertext}</b><br><br>Publisher=Penguin<br>Publication Year=2002.0<br>List Price ($)=%{x}<br>Weight (oz)=%{y}<br>Number of Pages=%{marker.size}<extra></extra>",
           "hovertext": [
            "East of Eden",
            "Of Mice and Men"
           ],
           "legendgroup": "Penguin",
           "marker": {
            "color": "#FFA15A",
            "size": [
             601,
             112
            ],
            "sizemode": "area",
            "sizeref": 0.9955555555555555,
            "symbol": "circle"
           },
           "mode": "markers",
           "name": "Penguin",
           "orientation": "v",
           "showlegend": true,
           "type": "scatter",
           "x": [
            11.5,
            14
           ],
           "xaxis": "x",
           "y": [
            22.4,
            6.4
           ],
           "yaxis": "y"
          },
          {
           "hovertemplate": "<b>%{hovertext}</b><br><br>Publisher=Grand Central Publishing<br>Publication Year=2002.0<br>List Price ($)=%{x}<br>Weight (oz)=%{y}<br>Number of Pages=%{marker.size}<extra></extra>",
           "hovertext": [
            "Cane River"
           ],
           "legendgroup": "Grand Central Publishing",
           "marker": {
            "color": "#00cc96",
            "size": [
             560
            ],
            "sizemode": "area",
            "sizeref": 0.9955555555555555,
            "symbol": "circle"
           },
           "mode": "markers",
           "name": "Grand Central Publishing",
           "orientation": "v",
           "showlegend": true,
           "type": "scatter",
           "x": [
            13.95
           ],
           "xaxis": "x",
           "y": [
            16
           ],
           "yaxis": "y"
          },
          {
           "hovertemplate": "<b>%{hovertext}</b><br><br>Publisher=Harper Paperbacks<br>Publication Year=2002.0<br>List Price ($)=%{x}<br>Weight (oz)=%{y}<br>Number of Pages=%{marker.size}<extra></extra>",
           "hovertext": [
            "Crossing The Chasm"
           ],
           "legendgroup": "Harper Paperbacks",
           "marker": {
            "color": "#636efa",
            "size": [
             256
            ],
            "sizemode": "area",
            "sizeref": 0.9955555555555555,
            "symbol": "circle"
           },
           "mode": "markers",
           "name": "Harper Paperbacks",
           "orientation": "v",
           "showlegend": true,
           "type": "scatter",
           "x": [
            17.99
           ],
           "xaxis": "x",
           "y": [
            7.8
           ],
           "yaxis": "y"
          },
          {
           "hovertemplate": "<b>%{hovertext}</b><br><br>Publisher=Voyageur Press<br>Publication Year=2002.0<br>List Price ($)=%{x}<br>Weight (oz)=%{y}<br>Number of Pages=%{marker.size}<extra></extra>",
           "hovertext": [
            "How to Restore Your John Deere Two-Cylinder Tractor"
           ],
           "legendgroup": "Voyageur Press",
           "marker": {
            "color": "#FFA15A",
            "size": [
             160
            ],
            "sizemode": "area",
            "sizeref": 0.9955555555555555,
            "symbol": "circle"
           },
           "mode": "markers",
           "name": "Voyageur Press",
           "orientation": "v",
           "showlegend": true,
           "type": "scatter",
           "x": [
            139.95
           ],
           "xaxis": "x",
           "y": [
            22.4
           ],
           "yaxis": "y"
          },
          {
           "hovertemplate": "<b>%{hovertext}</b><br><br>Publisher=Ballantine books<br>Publication Year=2002.0<br>List Price ($)=%{x}<br>Weight (oz)=%{y}<br>Number of Pages=%{marker.size}<extra></extra>",
           "hovertext": [
            "Seabiscuit"
           ],
           "legendgroup": "Ballantine books",
           "marker": {
            "color": "#FF97FF",
            "size": [
             399
            ],
            "sizemode": "area",
            "sizeref": 0.9955555555555555,
            "symbol": "circle"
           },
           "mode": "markers",
           "name": "Ballantine books",
           "orientation": "v",
           "showlegend": true,
           "type": "scatter",
           "x": [
            16
           ],
           "xaxis": "x",
           "y": [
            15.2
           ],
           "yaxis": "y"
          },
          {
           "hovertemplate": "<b>%{hovertext}</b><br><br>Publisher=Mariner Books<br>Publication Year=2002.0<br>List Price ($)=%{x}<br>Weight (oz)=%{y}<br>Number of Pages=%{marker.size}<extra></extra>",
           "hovertext": [
            "The World's Last Night: And Other Essays"
           ],
           "legendgroup": "Mariner Books",
           "marker": {
            "color": "#636efa",
            "size": [
             132
            ],
            "sizemode": "area",
            "sizeref": 0.9955555555555555,
            "symbol": "circle"
           },
           "mode": "markers",
           "name": "Mariner Books",
           "orientation": "v",
           "showlegend": true,
           "type": "scatter",
           "x": [
            13
           ],
           "xaxis": "x",
           "y": [
            3.2
           ],
           "yaxis": "y"
          },
          {
           "hovertemplate": "<b>%{hovertext}</b><br><br>Publisher=Random House Trade Paperbacks<br>Publication Year=2002.0<br>List Price ($)=%{x}<br>Weight (oz)=%{y}<br>Number of Pages=%{marker.size}<extra></extra>",
           "hovertext": [
            "Too Close to Call: The 36-Day Battle to Decide the 2000 Election"
           ],
           "legendgroup": "Random House Trade Paperbacks",
           "marker": {
            "color": "#00cc96",
            "size": [
             320
            ],
            "sizemode": "area",
            "sizeref": 0.9955555555555555,
            "symbol": "circle"
           },
           "mode": "markers",
           "name": "Random House Trade Paperbacks",
           "orientation": "v",
           "showlegend": true,
           "type": "scatter",
           "x": [
            14.95
           ],
           "xaxis": "x",
           "y": [
            8.8
           ],
           "yaxis": "y"
          },
          {
           "hovertemplate": "<b>%{hovertext}</b><br><br>Publisher=Yale University Press<br>Publication Year=2002.0<br>List Price ($)=%{x}<br>Weight (oz)=%{y}<br>Number of Pages=%{marker.size}<extra></extra>",
           "hovertext": [
            "Long Day's Journey into Night: Second Edition"
           ],
           "legendgroup": "Yale University Press",
           "marker": {
            "color": "#19d3f3",
            "size": [
             192
            ],
            "sizemode": "area",
            "sizeref": 0.9955555555555555,
            "symbol": "circle"
           },
           "mode": "markers",
           "name": "Yale University Press",
           "orientation": "v",
           "showlegend": true,
           "type": "scatter",
           "x": [
            25.95
           ],
           "xaxis": "x",
           "y": [
            9.6
           ],
           "yaxis": "y"
          },
          {
           "hovertemplate": "<b>%{hovertext}</b><br><br>Publisher=Signet Classics<br>Publication Year=2002.0<br>List Price ($)=%{x}<br>Weight (oz)=%{y}<br>Number of Pages=%{marker.size}<extra></extra>",
           "hovertext": [
            "The Classic Slave Narratives-paperback"
           ],
           "legendgroup": "Signet Classics",
           "marker": {
            "color": "#ab63fa",
            "size": [
             688
            ],
            "sizemode": "area",
            "sizeref": 0.9955555555555555,
            "symbol": "circle"
           },
           "mode": "markers",
           "name": "Signet Classics",
           "orientation": "v",
           "showlegend": true,
           "type": "scatter",
           "x": [
            7.95
           ],
           "xaxis": "x",
           "y": [
            11.2
           ],
           "yaxis": "y"
          }
         ],
         "name": "2002.0"
        },
        {
         "data": [
          {
           "hovertemplate": "<b>%{hovertext}</b><br><br>Publisher=Vintage<br>Publication Year=1998.0<br>List Price ($)=%{x}<br>Weight (oz)=%{y}<br>Number of Pages=%{marker.size}<extra></extra>",
           "hovertext": [
            "Fear and Loathing in Las Vegas",
            "Ocean of Words Army Stories",
            "The Diving Bell and the Butterfly"
           ],
           "legendgroup": "Vintage",
           "marker": {
            "color": "#FF97FF",
            "size": [
             224,
             224,
             131
            ],
            "sizemode": "area",
            "sizeref": 0.9955555555555555,
            "symbol": "circle"
           },
           "mode": "markers",
           "name": "Vintage",
           "orientation": "v",
           "showlegend": true,
           "type": "scatter",
           "x": [
            12,
            15,
            14
           ],
           "xaxis": "x",
           "y": [
            8,
            9,
            4.8
           ],
           "yaxis": "y"
          },
          {
           "hovertemplate": "<b>%{hovertext}</b><br><br>Publisher=Turtleback<br>Publication Year=1998.0<br>List Price ($)=%{x}<br>Weight (oz)=%{y}<br>Number of Pages=%{marker.size}<extra></extra>",
           "hovertext": [
            "Cat's Cradle: A Novel"
           ],
           "legendgroup": "Turtleback",
           "marker": {
            "color": "#ab63fa",
            "size": [
             287
            ],
            "sizemode": "area",
            "sizeref": 0.9955555555555555,
            "symbol": "circle"
           },
           "mode": "markers",
           "name": "Turtleback",
           "orientation": "v",
           "showlegend": true,
           "type": "scatter",
           "x": [
            26.95
           ],
           "xaxis": "x",
           "y": [
            12.2
           ],
           "yaxis": "y"
          },
          {
           "hovertemplate": "<b>%{hovertext}</b><br><br>Publisher=Penguin Classics<br>Publication Year=1998.0<br>List Price ($)=%{x}<br>Weight (oz)=%{y}<br>Number of Pages=%{marker.size}<extra></extra>",
           "hovertext": [
            "Hope Leslie"
           ],
           "legendgroup": "Penguin Classics",
           "marker": {
            "color": "#FF6692",
            "size": [
             448
            ],
            "sizemode": "area",
            "sizeref": 0.9955555555555555,
            "symbol": "circle"
           },
           "mode": "markers",
           "name": "Penguin Classics",
           "orientation": "v",
           "showlegend": true,
           "type": "scatter",
           "x": [
            17
           ],
           "xaxis": "x",
           "y": [
            11.2
           ],
           "yaxis": "y"
          },
          {
           "hovertemplate": "<b>%{hovertext}</b><br><br>Publisher=Speak<br>Publication Year=1998.0<br>List Price ($)=%{x}<br>Weight (oz)=%{y}<br>Number of Pages=%{marker.size}<extra></extra>",
           "hovertext": [
            "That Was Then, This Is Now"
           ],
           "legendgroup": "Speak",
           "marker": {
            "color": "#FF6692",
            "size": [
             160
            ],
            "sizemode": "area",
            "sizeref": 0.9955555555555555,
            "symbol": "circle"
           },
           "mode": "markers",
           "name": "Speak",
           "orientation": "v",
           "showlegend": true,
           "type": "scatter",
           "x": [
            9.99
           ],
           "xaxis": "x",
           "y": [
            4
           ],
           "yaxis": "y"
          },
          {
           "hovertemplate": "<b>%{hovertext}</b><br><br>Publisher=1st International ed edition<br>Publication Year=1998.0<br>List Price ($)=%{x}<br>Weight (oz)=%{y}<br>Number of Pages=%{marker.size}<extra></extra>",
           "hovertext": [
            "The Moviegoer"
           ],
           "legendgroup": "1st International ed edition",
           "marker": {
            "color": "#00cc96",
            "size": [
             241
            ],
            "sizemode": "area",
            "sizeref": 0.9955555555555555,
            "symbol": "circle"
           },
           "mode": "markers",
           "name": "1st International ed edition",
           "orientation": "v",
           "showlegend": true,
           "type": "scatter",
           "x": [
            14.95
           ],
           "xaxis": "x",
           "y": [
            5.6
           ],
           "yaxis": "y"
          }
         ],
         "name": "1998.0"
        },
        {
         "data": [
          {
           "hovertemplate": "<b>%{hovertext}</b><br><br>Publisher=Scribner<br>Publication Year=1999.0<br>List Price ($)=%{x}<br>Weight (oz)=%{y}<br>Number of Pages=%{marker.size}<extra></extra>",
           "hovertext": [
            "The Great Gatsby"
           ],
           "legendgroup": "Scribner",
           "marker": {
            "color": "#B6E880",
            "size": [
             180
            ],
            "sizemode": "area",
            "sizeref": 0.9955555555555555,
            "symbol": "circle"
           },
           "mode": "markers",
           "name": "Scribner",
           "orientation": "v",
           "showlegend": true,
           "type": "scatter",
           "x": [
            15
           ],
           "xaxis": "x",
           "y": [
            4
           ],
           "yaxis": "y"
          },
          {
           "hovertemplate": "<b>%{hovertext}</b><br><br>Publisher=Plume<br>Publication Year=1999.0<br>List Price ($)=%{x}<br>Weight (oz)=%{y}<br>Number of Pages=%{marker.size}<extra></extra>",
           "hovertext": [
            "Paradise (Oprah's Book Club)"
           ],
           "legendgroup": "Plume",
           "marker": {
            "color": "#EF553B",
            "size": [
             352
            ],
            "sizemode": "area",
            "sizeref": 0.9955555555555555,
            "symbol": "circle"
           },
           "mode": "markers",
           "name": "Plume",
           "orientation": "v",
           "showlegend": true,
           "type": "scatter",
           "x": [
            16
           ],
           "xaxis": "x",
           "y": [
            10.4
           ],
           "yaxis": "y"
          },
          {
           "hovertemplate": "<b>%{hovertext}</b><br><br>Publisher=Random House Books<br>Publication Year=1999.0<br>List Price ($)=%{x}<br>Weight (oz)=%{y}<br>Number of Pages=%{marker.size}<extra></extra>",
           "hovertext": [
            "The Berenstain Bears He Bear, She Bear"
           ],
           "legendgroup": "Random House Books",
           "marker": {
            "color": "#B6E880",
            "size": [
             24
            ],
            "sizemode": "area",
            "sizeref": 0.9955555555555555,
            "symbol": "circle"
           },
           "mode": "markers",
           "name": "Random House Books",
           "orientation": "v",
           "showlegend": true,
           "type": "scatter",
           "x": [
            4.99
           ],
           "xaxis": "x",
           "y": [
            8
           ],
           "yaxis": "y"
          },
          {
           "hovertemplate": "<b>%{hovertext}</b><br><br>Publisher=Grand Central Publishing<br>Publication Year=1999.0<br>List Price ($)=%{x}<br>Weight (oz)=%{y}<br>Number of Pages=%{marker.size}<extra></extra>",
           "hovertext": [
            "Message in a Bottle"
           ],
           "legendgroup": "Grand Central Publishing",
           "marker": {
            "color": "#00cc96",
            "size": [
             352
            ],
            "sizemode": "area",
            "sizeref": 0.9955555555555555,
            "symbol": "circle"
           },
           "mode": "markers",
           "name": "Grand Central Publishing",
           "orientation": "v",
           "showlegend": true,
           "type": "scatter",
           "x": [
            14.99
           ],
           "xaxis": "x",
           "y": [
            6.4
           ],
           "yaxis": "y"
          },
          {
           "hovertemplate": "<b>%{hovertext}</b><br><br>Publisher=Riverhead Trade<br>Publication Year=1999.0<br>List Price ($)=%{x}<br>Weight (oz)=%{y}<br>Number of Pages=%{marker.size}<extra></extra>",
           "hovertext": [
            "Caucasia: A Novel"
           ],
           "legendgroup": "Riverhead Trade",
           "marker": {
            "color": "#FF97FF",
            "size": [
             432
            ],
            "sizemode": "area",
            "sizeref": 0.9955555555555555,
            "symbol": "circle"
           },
           "mode": "markers",
           "name": "Riverhead Trade",
           "orientation": "v",
           "showlegend": true,
           "type": "scatter",
           "x": [
            15
           ],
           "xaxis": "x",
           "y": [
            15.2
           ],
           "yaxis": "y"
          },
          {
           "hovertemplate": "<b>%{hovertext}</b><br><br>Publisher=Simon & Schuster<br>Publication Year=1999.0<br>List Price ($)=%{x}<br>Weight (oz)=%{y}<br>Number of Pages=%{marker.size}<extra></extra>",
           "hovertext": [
            "First, Break All the Rules: What the World's Greatest Managers Do Differently"
           ],
           "legendgroup": "Simon & Schuster",
           "marker": {
            "color": "#636efa",
            "size": [
             255
            ],
            "sizemode": "area",
            "sizeref": 0.9955555555555555,
            "symbol": "circle"
           },
           "mode": "markers",
           "name": "Simon & Schuster",
           "orientation": "v",
           "showlegend": true,
           "type": "scatter",
           "x": [
            30
           ],
           "xaxis": "x",
           "y": [
            16
           ],
           "yaxis": "y"
          },
          {
           "hovertemplate": "<b>%{hovertext}</b><br><br>Publisher=Penguin Classics<br>Publication Year=1999.0<br>List Price ($)=%{x}<br>Weight (oz)=%{y}<br>Number of Pages=%{marker.size}<extra></extra>",
           "hovertext": [
            "The Odyssey"
           ],
           "legendgroup": "Penguin Classics",
           "marker": {
            "color": "#FF6692",
            "size": [
             560
            ],
            "sizemode": "area",
            "sizeref": 0.9955555555555555,
            "symbol": "circle"
           },
           "mode": "markers",
           "name": "Penguin Classics",
           "orientation": "v",
           "showlegend": true,
           "type": "scatter",
           "x": [
            17
           ],
           "xaxis": "x",
           "y": [
            1.3
           ],
           "yaxis": "y"
          },
          {
           "hovertemplate": "<b>%{hovertext}</b><br><br>Publisher=Mariner Books<br>Publication Year=1999.0<br>List Price ($)=%{x}<br>Weight (oz)=%{y}<br>Number of Pages=%{marker.size}<extra></extra>",
           "hovertext": [
            "Interpreter of Maladies"
           ],
           "legendgroup": "Mariner Books",
           "marker": {
            "color": "#636efa",
            "size": [
             198
            ],
            "sizemode": "area",
            "sizeref": 0.9955555555555555,
            "symbol": "circle"
           },
           "mode": "markers",
           "name": "Mariner Books",
           "orientation": "v",
           "showlegend": true,
           "type": "scatter",
           "x": [
            14.95
           ],
           "xaxis": "x",
           "y": [
            17.6
           ],
           "yaxis": "y"
          },
          {
           "hovertemplate": "<b>%{hovertext}</b><br><br>Publisher=New Directions<br>Publication Year=1999.0<br>List Price ($)=%{x}<br>Weight (oz)=%{y}<br>Number of Pages=%{marker.size}<extra></extra>",
           "hovertext": [
            "The Glass Menagerie"
           ],
           "legendgroup": "New Directions",
           "marker": {
            "color": "#FFA15A",
            "size": [
             104
            ],
            "sizemode": "area",
            "sizeref": 0.9955555555555555,
            "symbol": "circle"
           },
           "mode": "markers",
           "name": "New Directions",
           "orientation": "v",
           "showlegend": true,
           "type": "scatter",
           "x": [
            10.95
           ],
           "xaxis": "x",
           "y": [
            4.8
           ],
           "yaxis": "y"
          },
          {
           "hovertemplate": "<b>%{hovertext}</b><br><br>Publisher=Dial Press Trade<br>Publication Year=1999.0<br>List Price ($)=%{x}<br>Weight (oz)=%{y}<br>Number of Pages=%{marker.size}<extra></extra>",
           "hovertext": [
            "Slaughterhouse-Five"
           ],
           "legendgroup": "Dial Press Trade",
           "marker": {
            "color": "#FECB52",
            "size": [
             288
            ],
            "sizemode": "area",
            "sizeref": 0.9955555555555555,
            "symbol": "circle"
           },
           "mode": "markers",
           "name": "Dial Press Trade",
           "orientation": "v",
           "showlegend": true,
           "type": "scatter",
           "x": [
            15
           ],
           "xaxis": "x",
           "y": [
            9.6
           ],
           "yaxis": "y"
          },
          {
           "hovertemplate": "<b>%{hovertext}</b><br><br>Publisher=Scribner; Reissue edition<br>Publication Year=1999.0<br>List Price ($)=%{x}<br>Weight (oz)=%{y}<br>Number of Pages=%{marker.size}<extra></extra>",
           "hovertext": [
            "The Great Gatsby"
           ],
           "legendgroup": "Scribner; Reissue edition",
           "marker": {
            "color": "#FF97FF",
            "size": [
             180
            ],
            "sizemode": "area",
            "sizeref": 0.9955555555555555,
            "symbol": "circle"
           },
           "mode": "markers",
           "name": "Scribner; Reissue edition",
           "orientation": "v",
           "showlegend": true,
           "type": "scatter",
           "x": [
            15
           ],
           "xaxis": "x",
           "y": [
            4
           ],
           "yaxis": "y"
          },
          {
           "hovertemplate": "<b>%{hovertext}</b><br><br>Publisher=University of Georgia Press<br>Publication Year=1999.0<br>List Price ($)=%{x}<br>Weight (oz)=%{y}<br>Number of Pages=%{marker.size}<extra></extra>",
           "hovertext": [
            "The Inward Morning: A Philosophical Exploration in Journal Form"
           ],
           "legendgroup": "University of Georgia Press",
           "marker": {
            "color": "#B6E880",
            "size": [
             248
            ],
            "sizemode": "area",
            "sizeref": 0.9955555555555555,
            "symbol": "circle"
           },
           "mode": "markers",
           "name": "University of Georgia Press",
           "orientation": "v",
           "showlegend": true,
           "type": "scatter",
           "x": [
            24.95
           ],
           "xaxis": "x",
           "y": [
            9.9
           ],
           "yaxis": "y"
          },
          {
           "hovertemplate": "<b>%{hovertext}</b><br><br>Publisher=MTV Books; origional edition<br>Publication Year=1999.0<br>List Price ($)=%{x}<br>Weight (oz)=%{y}<br>Number of Pages=%{marker.size}<extra></extra>",
           "hovertext": [
            "The perks of Being a Wallflower"
           ],
           "legendgroup": "MTV Books; origional edition",
           "marker": {
            "color": "#19d3f3",
            "size": [
             213
            ],
            "sizemode": "area",
            "sizeref": 0.9955555555555555,
            "symbol": "circle"
           },
           "mode": "markers",
           "name": "MTV Books; origional edition",
           "orientation": "v",
           "showlegend": true,
           "type": "scatter",
           "x": [
            14
           ],
           "xaxis": "x",
           "y": [
            7.2
           ],
           "yaxis": "y"
          }
         ],
         "name": "1999.0"
        },
        {
         "data": [
          {
           "hovertemplate": "<b>%{hovertext}</b><br><br>Publisher=Atheneum Books for Young Readers<br>Publication Year=1982.0<br>List Price ($)=%{x}<br>Weight (oz)=%{y}<br>Number of Pages=%{marker.size}<extra></extra>",
           "hovertext": [
            "Cloudy With a Chance of Meatballs"
           ],
           "legendgroup": "Atheneum Books for Young Readers",
           "marker": {
            "color": "#FECB52",
            "size": [
             32
            ],
            "sizemode": "area",
            "sizeref": 0.9955555555555555,
            "symbol": "circle"
           },
           "mode": "markers",
           "name": "Atheneum Books for Young Readers",
           "orientation": "v",
           "showlegend": true,
           "type": "scatter",
           "x": [
            6.99
           ],
           "xaxis": "x",
           "y": [
            1.6
           ],
           "yaxis": "y"
          },
          {
           "hovertemplate": "<b>%{hovertext}</b><br><br>Publisher=Perfection Learning<br>Publication Year=1982.0<br>List Price ($)=%{x}<br>Weight (oz)=%{y}<br>Number of Pages=%{marker.size}<extra></extra>",
           "hovertext": [
            "The Awakening"
           ],
           "legendgroup": "Perfection Learning",
           "marker": {
            "color": "#FECB52",
            "size": [
             116
            ],
            "sizemode": "area",
            "sizeref": 0.9955555555555555,
            "symbol": "circle"
           },
           "mode": "markers",
           "name": "Perfection Learning",
           "orientation": "v",
           "showlegend": true,
           "type": "scatter",
           "x": [
            14.1
           ],
           "xaxis": "x",
           "y": [
            4.8
           ],
           "yaxis": "y"
          }
         ],
         "name": "1982.0"
        },
        {
         "data": [
          {
           "hovertemplate": "<b>%{hovertext}</b><br><br>Publisher=Anchor<br>Publication Year=1994.0<br>List Price ($)=%{x}<br>Weight (oz)=%{y}<br>Number of Pages=%{marker.size}<extra></extra>",
           "hovertext": [
            "No Longer at Ease"
           ],
           "legendgroup": "Anchor",
           "marker": {
            "color": "#FECB52",
            "size": [
             194
            ],
            "sizemode": "area",
            "sizeref": 0.9955555555555555,
            "symbol": "circle"
           },
           "mode": "markers",
           "name": "Anchor",
           "orientation": "v",
           "showlegend": true,
           "type": "scatter",
           "x": [
            12
           ],
           "xaxis": "x",
           "y": [
            6.4
           ],
           "yaxis": "y"
          },
          {
           "hovertemplate": "<b>%{hovertext}</b><br><br>Publisher=Ballantine Books<br>Publication Year=1994.0<br>List Price ($)=%{x}<br>Weight (oz)=%{y}<br>Number of Pages=%{marker.size}<extra></extra>",
           "hovertext": [
            "The Guns of August"
           ],
           "legendgroup": "Ballantine Books",
           "marker": {
            "color": "#FFA15A",
            "size": [
             544
            ],
            "sizemode": "area",
            "sizeref": 0.9955555555555555,
            "symbol": "circle"
           },
           "mode": "markers",
           "name": "Ballantine Books",
           "orientation": "v",
           "showlegend": true,
           "type": "scatter",
           "x": [
            17
           ],
           "xaxis": "x",
           "y": [
            16
           ],
           "yaxis": "y"
          },
          {
           "hovertemplate": "<b>%{hovertext}</b><br><br>Publisher=Tor science Fiction<br>Publication Year=1994.0<br>List Price ($)=%{x}<br>Weight (oz)=%{y}<br>Number of Pages=%{marker.size}<extra></extra>",
           "hovertext": [
            "Ender's Game"
           ],
           "legendgroup": "Tor science Fiction",
           "marker": {
            "color": "#FF6692",
            "size": [
             352
            ],
            "sizemode": "area",
            "sizeref": 0.9955555555555555,
            "symbol": "circle"
           },
           "mode": "markers",
           "name": "Tor science Fiction",
           "orientation": "v",
           "showlegend": true,
           "type": "scatter",
           "x": [
            6.99
           ],
           "xaxis": "x",
           "y": [
            5.6
           ],
           "yaxis": "y"
          },
          {
           "hovertemplate": "<b>%{hovertext}</b><br><br>Publisher=William B. Eerdmans Publishing Company<br>Publication Year=1994.0<br>List Price ($)=%{x}<br>Weight (oz)=%{y}<br>Number of Pages=%{marker.size}<extra></extra>",
           "hovertext": [
            "God in the Dock: Essays on Theology and Ethics"
           ],
           "legendgroup": "William B. Eerdmans Publishing Company",
           "marker": {
            "color": "#19d3f3",
            "size": [
             346
            ],
            "sizemode": "area",
            "sizeref": 0.9955555555555555,
            "symbol": "circle"
           },
           "mode": "markers",
           "name": "William B. Eerdmans Publishing Company",
           "orientation": "v",
           "showlegend": true,
           "type": "scatter",
           "x": [
            18
           ],
           "xaxis": "x",
           "y": [
            14.1
           ],
           "yaxis": "y"
          },
          {
           "hovertemplate": "<b>%{hovertext}</b><br><br>Publisher=Grove Press<br>Publication Year=1994.0<br>List Price ($)=%{x}<br>Weight (oz)=%{y}<br>Number of Pages=%{marker.size}<extra></extra>",
           "hovertext": [
            "Train to Pakistan"
           ],
           "legendgroup": "Grove Press",
           "marker": {
            "color": "#FECB52",
            "size": [
             181
            ],
            "sizemode": "area",
            "sizeref": 0.9955555555555555,
            "symbol": "circle"
           },
           "mode": "markers",
           "name": "Grove Press",
           "orientation": "v",
           "showlegend": true,
           "type": "scatter",
           "x": [
            14.95
           ],
           "xaxis": "x",
           "y": [
            7.2
           ],
           "yaxis": "y"
          }
         ],
         "name": "1994.0"
        },
        {
         "data": [
          {
           "hovertemplate": "<b>%{hovertext}</b><br><br>Publisher=Farr, Straus and Giroux<br>Publication Year=1965.0<br>List Price ($)=%{x}<br>Weight (oz)=%{y}<br>Number of Pages=%{marker.size}<extra></extra>",
           "hovertext": [
            "Everything that Rises Must Converge"
           ],
           "legendgroup": "Farr, Straus and Giroux",
           "marker": {
            "color": "#B6E880",
            "size": [
             320
            ],
            "sizemode": "area",
            "sizeref": 0.9955555555555555,
            "symbol": "circle"
           },
           "mode": "markers",
           "name": "Farr, Straus and Giroux",
           "orientation": "v",
           "showlegend": true,
           "type": "scatter",
           "x": [
            16
           ],
           "xaxis": "x",
           "y": [
            10.4
           ],
           "yaxis": "y"
          }
         ],
         "name": "1965.0"
        },
        {
         "data": [
          {
           "hovertemplate": "<b>%{hovertext}</b><br><br>Publisher=Back Bay Books<br>Publication Year=1964.0<br>List Price ($)=%{x}<br>Weight (oz)=%{y}<br>Number of Pages=%{marker.size}<extra></extra>",
           "hovertext": [
            "Final Harvest: Poems"
           ],
           "legendgroup": "Back Bay Books",
           "marker": {
            "color": "#FF6692",
            "size": [
             352
            ],
            "sizemode": "area",
            "sizeref": 0.9955555555555555,
            "symbol": "circle"
           },
           "mode": "markers",
           "name": "Back Bay Books",
           "orientation": "v",
           "showlegend": true,
           "type": "scatter",
           "x": [
            14.99
           ],
           "xaxis": "x",
           "y": [
            10.4
           ],
           "yaxis": "y"
          },
          {
           "hovertemplate": "<b>%{hovertext}</b><br><br>Publisher=Mariner Books<br>Publication Year=1964.0<br>List Price ($)=%{x}<br>Weight (oz)=%{y}<br>Number of Pages=%{marker.size}<extra></extra>",
           "hovertext": [
            "Reflections on the Psalms"
           ],
           "legendgroup": "Mariner Books",
           "marker": {
            "color": "#636efa",
            "size": [
             168
            ],
            "sizemode": "area",
            "sizeref": 0.9955555555555555,
            "symbol": "circle"
           },
           "mode": "markers",
           "name": "Mariner Books",
           "orientation": "v",
           "showlegend": true,
           "type": "scatter",
           "x": [
            13
           ],
           "xaxis": "x",
           "y": [
            5.6
           ],
           "yaxis": "y"
          }
         ],
         "name": "1964.0"
        },
        {
         "data": [
          {
           "hovertemplate": "<b>%{hovertext}</b><br><br>Publisher=Beginner Books<br>Publication Year=1963.0<br>List Price ($)=%{x}<br>Weight (oz)=%{y}<br>Number of Pages=%{marker.size}<extra></extra>",
           "hovertext": [
            "Hop on Pop"
           ],
           "legendgroup": "Beginner Books",
           "marker": {
            "color": "#00cc96",
            "size": [
             72
            ],
            "sizemode": "area",
            "sizeref": 0.9955555555555555,
            "symbol": "circle"
           },
           "mode": "markers",
           "name": "Beginner Books",
           "orientation": "v",
           "showlegend": true,
           "type": "scatter",
           "x": [
            8.99
           ],
           "xaxis": "x",
           "y": [
            14.4
           ],
           "yaxis": "y"
          },
          {
           "hovertemplate": "<b>%{hovertext}</b><br><br>Publisher=Penguin Books<br>Publication Year=1963.0<br>List Price ($)=%{x}<br>Weight (oz)=%{y}<br>Number of Pages=%{marker.size}<extra></extra>",
           "hovertext": [
            "The Conquest of New Spain (Penguin Classics)"
           ],
           "legendgroup": "Penguin Books",
           "marker": {
            "color": "#FFA15A",
            "size": [
             412
            ],
            "sizemode": "area",
            "sizeref": 0.9955555555555555,
            "symbol": "circle"
           },
           "mode": "markers",
           "name": "Penguin Books",
           "orientation": "v",
           "showlegend": true,
           "type": "scatter",
           "x": [
            17
           ],
           "xaxis": "x",
           "y": [
            3.2
           ],
           "yaxis": "y"
          }
         ],
         "name": "1963.0"
        },
        {
         "data": [
          {
           "hovertemplate": "<b>%{hovertext}</b><br><br>Publisher=Vintage<br>Publication Year=1988.0<br>List Price ($)=%{x}<br>Weight (oz)=%{y}<br>Number of Pages=%{marker.size}<extra></extra>",
           "hovertext": [
            "Lady in the Lake"
           ],
           "legendgroup": "Vintage",
           "marker": {
            "color": "#FF97FF",
            "size": [
             272
            ],
            "sizemode": "area",
            "sizeref": 0.9955555555555555,
            "symbol": "circle"
           },
           "mode": "markers",
           "name": "Vintage",
           "orientation": "v",
           "showlegend": true,
           "type": "scatter",
           "x": [
            14
           ],
           "xaxis": "x",
           "y": [
            9.9
           ],
           "yaxis": "y"
          },
          {
           "hovertemplate": "<b>%{hovertext}</b><br><br>Publisher=Farrar Straus Giroux<br>Publication Year=1988.0<br>List Price ($)=%{x}<br>Weight (oz)=%{y}<br>Number of Pages=%{marker.size}<extra></extra>",
           "hovertext": [
            "The Bonfire of the Vanities"
           ],
           "legendgroup": "Farrar Straus Giroux",
           "marker": {
            "color": "#EF553B",
            "size": [
             704
            ],
            "sizemode": "area",
            "sizeref": 0.9955555555555555,
            "symbol": "circle"
           },
           "mode": "markers",
           "name": "Farrar Straus Giroux",
           "orientation": "v",
           "showlegend": true,
           "type": "scatter",
           "x": [
            22
           ],
           "xaxis": "x",
           "y": [
            24
           ],
           "yaxis": "y"
          }
         ],
         "name": "1988.0"
        },
        {
         "data": [
          {
           "hovertemplate": "<b>%{hovertext}</b><br><br>Publisher=Perigee Books<br>Publication Year=1959.0<br>List Price ($)=%{x}<br>Weight (oz)=%{y}<br>Number of Pages=%{marker.size}<extra></extra>",
           "hovertext": [
            "Lord of the Flies"
           ],
           "legendgroup": "Perigee Books",
           "marker": {
            "color": "#B6E880",
            "size": [
             208
            ],
            "sizemode": "area",
            "sizeref": 0.9955555555555555,
            "symbol": "circle"
           },
           "mode": "markers",
           "name": "Perigee Books",
           "orientation": "v",
           "showlegend": true,
           "type": "scatter",
           "x": [
            9.99
           ],
           "xaxis": "x",
           "y": [
            4
           ],
           "yaxis": "y"
          }
         ],
         "name": "1959.0"
        },
        {
         "data": [
          {
           "hovertemplate": "<b>%{hovertext}</b><br><br>Publisher=The Viking Press<br>Publication Year=1967.0<br>List Price ($)=%{x}<br>Weight (oz)=%{y}<br>Number of Pages=%{marker.size}<extra></extra>",
           "hovertext": [
            "Madeline"
           ],
           "legendgroup": "The Viking Press",
           "marker": {
            "color": "#FF97FF",
            "size": [
             54
            ],
            "sizemode": "area",
            "sizeref": 0.9955555555555555,
            "symbol": "circle"
           },
           "mode": "markers",
           "name": "The Viking Press",
           "orientation": "v",
           "showlegend": true,
           "type": "scatter",
           "x": [
            17.99
           ],
           "xaxis": "x",
           "y": [
            17.6
           ],
           "yaxis": "y"
          }
         ],
         "name": "1967.0"
        },
        {
         "data": [
          {
           "hovertemplate": "<b>%{hovertext}</b><br><br>Publisher=Harcourt Harvest<br>Publication Year=1955.0<br>List Price ($)=%{x}<br>Weight (oz)=%{y}<br>Number of Pages=%{marker.size}<extra></extra>",
           "hovertext": [
            "Modern Man in Search of a Soul (Harvest Book)"
           ],
           "legendgroup": "Harcourt Harvest",
           "marker": {
            "color": "#FFA15A",
            "size": [
             244
            ],
            "sizemode": "area",
            "sizeref": 0.9955555555555555,
            "symbol": "circle"
           },
           "mode": "markers",
           "name": "Harcourt Harvest",
           "orientation": "v",
           "showlegend": true,
           "type": "scatter",
           "x": [
            14
           ],
           "xaxis": "x",
           "y": [
            6.4
           ],
           "yaxis": "y"
          }
         ],
         "name": "1955.0"
        },
        {
         "data": [
          {
           "hovertemplate": "<b>%{hovertext}</b><br><br>Publisher=Vintage<br>Publication Year=1989.0<br>List Price ($)=%{x}<br>Weight (oz)=%{y}<br>Number of Pages=%{marker.size}<extra></extra>",
           "hovertext": [
            "Noe Exit and Three Other Plays",
            "Pnin",
            "Speak, Memory: An Autobiography Revisited"
           ],
           "legendgroup": "Vintage",
           "marker": {
            "color": "#FF97FF",
            "size": [
             275,
             208,
             336
            ],
            "sizemode": "area",
            "sizeref": 0.9955555555555555,
            "symbol": "circle"
           },
           "mode": "markers",
           "name": "Vintage",
           "orientation": "v",
           "showlegend": true,
           "type": "scatter",
           "x": [
            14.95,
            14,
            16
           ],
           "xaxis": "x",
           "y": [
            7.2,
            7.8,
            11.2
           ],
           "yaxis": "y"
          },
          {
           "hovertemplate": "<b>%{hovertext}</b><br><br>Publisher=Houghton Mifflin Books for Children<br>Publication Year=1989.0<br>List Price ($)=%{x}<br>Weight (oz)=%{y}<br>Number of Pages=%{marker.size}<extra></extra>",
           "hovertext": [
            "Number the Stars"
           ],
           "legendgroup": "Houghton Mifflin Books for Children",
           "marker": {
            "color": "#B6E880",
            "size": [
             144
            ],
            "sizemode": "area",
            "sizeref": 0.9955555555555555,
            "symbol": "circle"
           },
           "mode": "markers",
           "name": "Houghton Mifflin Books for Children",
           "orientation": "v",
           "showlegend": true,
           "type": "scatter",
           "x": [
            16.99
           ],
           "xaxis": "x",
           "y": [
            12
           ],
           "yaxis": "y"
          },
          {
           "hovertemplate": "<b>%{hovertext}</b><br><br>Publisher=Lancer Books<br>Publication Year=1989.0<br>List Price ($)=%{x}<br>Weight (oz)=%{y}<br>Number of Pages=%{marker.size}<extra></extra>",
           "hovertext": [
            "Pale Fire"
           ],
           "legendgroup": "Lancer Books",
           "marker": {
            "color": "#FF97FF",
            "size": [
             224
            ],
            "sizemode": "area",
            "sizeref": 0.9955555555555555,
            "symbol": "circle"
           },
           "mode": "markers",
           "name": "Lancer Books",
           "orientation": "v",
           "showlegend": true,
           "type": "scatter",
           "x": [
            15
           ],
           "xaxis": "x",
           "y": [
            8
           ],
           "yaxis": "y"
          },
          {
           "hovertemplate": "<b>%{hovertext}</b><br><br>Publisher=Laurel Leaf<br>Publication Year=1989.0<br>List Price ($)=%{x}<br>Weight (oz)=%{y}<br>Number of Pages=%{marker.size}<extra></extra>",
           "hovertext": [
            "Taming the Star Runner"
           ],
           "legendgroup": "Laurel Leaf",
           "marker": {
            "color": "#19d3f3",
            "size": [
             192
            ],
            "sizemode": "area",
            "sizeref": 0.9955555555555555,
            "symbol": "circle"
           },
           "mode": "markers",
           "name": "Laurel Leaf",
           "orientation": "v",
           "showlegend": true,
           "type": "scatter",
           "x": [
            6.99
           ],
           "xaxis": "x",
           "y": [
            4
           ],
           "yaxis": "y"
          }
         ],
         "name": "1989.0"
        },
        {
         "data": [
          {
           "hovertemplate": "<b>%{hovertext}</b><br><br>Publisher=Vintage<br>Publication Year=1979.0<br>List Price ($)=%{x}<br>Weight (oz)=%{y}<br>Number of Pages=%{marker.size}<extra></extra>",
           "hovertext": [
            "Orientalism"
           ],
           "legendgroup": "Vintage",
           "marker": {
            "color": "#FF97FF",
            "size": [
             368
            ],
            "sizemode": "area",
            "sizeref": 0.9955555555555555,
            "symbol": "circle"
           },
           "mode": "markers",
           "name": "Vintage",
           "orientation": "v",
           "showlegend": true,
           "type": "scatter",
           "x": [
            16
           ],
           "xaxis": "x",
           "y": [
            11.2
           ],
           "yaxis": "y"
          }
         ],
         "name": "1979.0"
        },
        {
         "data": [
          {
           "hovertemplate": "<b>%{hovertext}</b><br><br>Publisher=Random House Books<br>Publication Year=1957.0<br>List Price ($)=%{x}<br>Weight (oz)=%{y}<br>Number of Pages=%{marker.size}<extra></extra>",
           "hovertext": [
            "The Cat in the Hat"
           ],
           "legendgroup": "Random House Books",
           "marker": {
            "color": "#B6E880",
            "size": [
             72
            ],
            "sizemode": "area",
            "sizeref": 0.9955555555555555,
            "symbol": "circle"
           },
           "mode": "markers",
           "name": "Random House Books",
           "orientation": "v",
           "showlegend": true,
           "type": "scatter",
           "x": [
            8.99
           ],
           "xaxis": "x",
           "y": [
            8.5
           ],
           "yaxis": "y"
          }
         ],
         "name": "1957.0"
        },
        {
         "data": [
          {
           "hovertemplate": "<b>%{hovertext}</b><br><br>Publisher=Penguin (Non-Classics)<br>Publication Year=1976.0<br>List Price ($)=%{x}<br>Weight (oz)=%{y}<br>Number of Pages=%{marker.size}<extra></extra>",
           "hovertext": [
            "The Crucible"
           ],
           "legendgroup": "Penguin (Non-Classics)",
           "marker": {
            "color": "#FF97FF",
            "size": [
             152
            ],
            "sizemode": "area",
            "sizeref": 0.9955555555555555,
            "symbol": "circle"
           },
           "mode": "markers",
           "name": "Penguin (Non-Classics)",
           "orientation": "v",
           "showlegend": true,
           "type": "scatter",
           "x": [
            13
           ],
           "xaxis": "x",
           "y": [
            4
           ],
           "yaxis": "y"
          }
         ],
         "name": "1976.0"
        },
        {
         "data": [
          {
           "hovertemplate": "<b>%{hovertext}</b><br><br>Publisher=Ballantine Books<br>Publication Year=1985.0<br>List Price ($)=%{x}<br>Weight (oz)=%{y}<br>Number of Pages=%{marker.size}<extra></extra>",
           "hovertext": [
            "The March of Folly: From Troy to Vietnam"
           ],
           "legendgroup": "Ballantine Books",
           "marker": {
            "color": "#FFA15A",
            "size": [
             447
            ],
            "sizemode": "area",
            "sizeref": 0.9955555555555555,
            "symbol": "circle"
           },
           "mode": "markers",
           "name": "Ballantine Books",
           "orientation": "v",
           "showlegend": true,
           "type": "scatter",
           "x": [
            16.95
           ],
           "xaxis": "x",
           "y": [
            17.6
           ],
           "yaxis": "y"
          }
         ],
         "name": "1985.0"
        },
        {
         "data": [
          {
           "hovertemplate": "<b>%{hovertext}</b><br><br>Publisher=Viking Juvenile<br>Publication Year=1936.0<br>List Price ($)=%{x}<br>Weight (oz)=%{y}<br>Number of Pages=%{marker.size}<extra></extra>",
           "hovertext": [
            "The Story of Ferdinand"
           ],
           "legendgroup": "Viking Juvenile",
           "marker": {
            "color": "#636efa",
            "size": [
             72
            ],
            "sizemode": "area",
            "sizeref": 0.9955555555555555,
            "symbol": "circle"
           },
           "mode": "markers",
           "name": "Viking Juvenile",
           "orientation": "v",
           "showlegend": true,
           "type": "scatter",
           "x": [
            17.99
           ],
           "xaxis": "x",
           "y": [
            14.4
           ],
           "yaxis": "y"
          }
         ],
         "name": "1936.0"
        }
       ],
       "layout": {
        "legend": {
         "itemsizing": "constant",
         "title": {
          "text": "Publisher"
         },
         "tracegroupgap": 0
        },
        "sliders": [
         {
          "active": 0,
          "currentvalue": {
           "prefix": "Publication Year="
          },
          "len": 0.9,
          "pad": {
           "b": 10,
           "t": 60
          },
          "steps": [
           {
            "args": [
             [
              "2010.0"
             ],
             {
              "frame": {
               "duration": 0,
               "redraw": false
              },
              "fromcurrent": true,
              "mode": "immediate",
              "transition": {
               "duration": 0,
               "easing": "linear"
              }
             }
            ],
            "label": "2010.0",
            "method": "animate"
           },
           {
            "args": [
             [
              "2008.0"
             ],
             {
              "frame": {
               "duration": 0,
               "redraw": false
              },
              "fromcurrent": true,
              "mode": "immediate",
              "transition": {
               "duration": 0,
               "easing": "linear"
              }
             }
            ],
            "label": "2008.0",
            "method": "animate"
           },
           {
            "args": [
             [
              "1995.0"
             ],
             {
              "frame": {
               "duration": 0,
               "redraw": false
              },
              "fromcurrent": true,
              "mode": "immediate",
              "transition": {
               "duration": 0,
               "easing": "linear"
              }
             }
            ],
            "label": "1995.0",
            "method": "animate"
           },
           {
            "args": [
             [
              "2011.0"
             ],
             {
              "frame": {
               "duration": 0,
               "redraw": false
              },
              "fromcurrent": true,
              "mode": "immediate",
              "transition": {
               "duration": 0,
               "easing": "linear"
              }
             }
            ],
            "label": "2011.0",
            "method": "animate"
           },
           {
            "args": [
             [
              "1987.0"
             ],
             {
              "frame": {
               "duration": 0,
               "redraw": false
              },
              "fromcurrent": true,
              "mode": "immediate",
              "transition": {
               "duration": 0,
               "easing": "linear"
              }
             }
            ],
            "label": "1987.0",
            "method": "animate"
           },
           {
            "args": [
             [
              "1997.0"
             ],
             {
              "frame": {
               "duration": 0,
               "redraw": false
              },
              "fromcurrent": true,
              "mode": "immediate",
              "transition": {
               "duration": 0,
               "easing": "linear"
              }
             }
            ],
            "label": "1997.0",
            "method": "animate"
           },
           {
            "args": [
             [
              "2001.0"
             ],
             {
              "frame": {
               "duration": 0,
               "redraw": false
              },
              "fromcurrent": true,
              "mode": "immediate",
              "transition": {
               "duration": 0,
               "easing": "linear"
              }
             }
            ],
            "label": "2001.0",
            "method": "animate"
           },
           {
            "args": [
             [
              "1992.0"
             ],
             {
              "frame": {
               "duration": 0,
               "redraw": false
              },
              "fromcurrent": true,
              "mode": "immediate",
              "transition": {
               "duration": 0,
               "easing": "linear"
              }
             }
            ],
            "label": "1992.0",
            "method": "animate"
           },
           {
            "args": [
             [
              "2000.0"
             ],
             {
              "frame": {
               "duration": 0,
               "redraw": false
              },
              "fromcurrent": true,
              "mode": "immediate",
              "transition": {
               "duration": 0,
               "easing": "linear"
              }
             }
            ],
            "label": "2000.0",
            "method": "animate"
           },
           {
            "args": [
             [
              "2009.0"
             ],
             {
              "frame": {
               "duration": 0,
               "redraw": false
              },
              "fromcurrent": true,
              "mode": "immediate",
              "transition": {
               "duration": 0,
               "easing": "linear"
              }
             }
            ],
            "label": "2009.0",
            "method": "animate"
           },
           {
            "args": [
             [
              "2003.0"
             ],
             {
              "frame": {
               "duration": 0,
               "redraw": false
              },
              "fromcurrent": true,
              "mode": "immediate",
              "transition": {
               "duration": 0,
               "easing": "linear"
              }
             }
            ],
            "label": "2003.0",
            "method": "animate"
           },
           {
            "args": [
             [
              "2004.0"
             ],
             {
              "frame": {
               "duration": 0,
               "redraw": false
              },
              "fromcurrent": true,
              "mode": "immediate",
              "transition": {
               "duration": 0,
               "easing": "linear"
              }
             }
            ],
            "label": "2004.0",
            "method": "animate"
           },
           {
            "args": [
             [
              "1991.0"
             ],
             {
              "frame": {
               "duration": 0,
               "redraw": false
              },
              "fromcurrent": true,
              "mode": "immediate",
              "transition": {
               "duration": 0,
               "easing": "linear"
              }
             }
            ],
            "label": "1991.0",
            "method": "animate"
           },
           {
            "args": [
             [
              "1990.0"
             ],
             {
              "frame": {
               "duration": 0,
               "redraw": false
              },
              "fromcurrent": true,
              "mode": "immediate",
              "transition": {
               "duration": 0,
               "easing": "linear"
              }
             }
            ],
            "label": "1990.0",
            "method": "animate"
           },
           {
            "args": [
             [
              "2007.0"
             ],
             {
              "frame": {
               "duration": 0,
               "redraw": false
              },
              "fromcurrent": true,
              "mode": "immediate",
              "transition": {
               "duration": 0,
               "easing": "linear"
              }
             }
            ],
            "label": "2007.0",
            "method": "animate"
           },
           {
            "args": [
             [
              "2005.0"
             ],
             {
              "frame": {
               "duration": 0,
               "redraw": false
              },
              "fromcurrent": true,
              "mode": "immediate",
              "transition": {
               "duration": 0,
               "easing": "linear"
              }
             }
            ],
            "label": "2005.0",
            "method": "animate"
           },
           {
            "args": [
             [
              "1996.0"
             ],
             {
              "frame": {
               "duration": 0,
               "redraw": false
              },
              "fromcurrent": true,
              "mode": "immediate",
              "transition": {
               "duration": 0,
               "easing": "linear"
              }
             }
            ],
            "label": "1996.0",
            "method": "animate"
           },
           {
            "args": [
             [
              "2006.0"
             ],
             {
              "frame": {
               "duration": 0,
               "redraw": false
              },
              "fromcurrent": true,
              "mode": "immediate",
              "transition": {
               "duration": 0,
               "easing": "linear"
              }
             }
            ],
            "label": "2006.0",
            "method": "animate"
           },
           {
            "args": [
             [
              "1993.0"
             ],
             {
              "frame": {
               "duration": 0,
               "redraw": false
              },
              "fromcurrent": true,
              "mode": "immediate",
              "transition": {
               "duration": 0,
               "easing": "linear"
              }
             }
            ],
            "label": "1993.0",
            "method": "animate"
           },
           {
            "args": [
             [
              "2002.0"
             ],
             {
              "frame": {
               "duration": 0,
               "redraw": false
              },
              "fromcurrent": true,
              "mode": "immediate",
              "transition": {
               "duration": 0,
               "easing": "linear"
              }
             }
            ],
            "label": "2002.0",
            "method": "animate"
           },
           {
            "args": [
             [
              "1998.0"
             ],
             {
              "frame": {
               "duration": 0,
               "redraw": false
              },
              "fromcurrent": true,
              "mode": "immediate",
              "transition": {
               "duration": 0,
               "easing": "linear"
              }
             }
            ],
            "label": "1998.0",
            "method": "animate"
           },
           {
            "args": [
             [
              "1999.0"
             ],
             {
              "frame": {
               "duration": 0,
               "redraw": false
              },
              "fromcurrent": true,
              "mode": "immediate",
              "transition": {
               "duration": 0,
               "easing": "linear"
              }
             }
            ],
            "label": "1999.0",
            "method": "animate"
           },
           {
            "args": [
             [
              "1982.0"
             ],
             {
              "frame": {
               "duration": 0,
               "redraw": false
              },
              "fromcurrent": true,
              "mode": "immediate",
              "transition": {
               "duration": 0,
               "easing": "linear"
              }
             }
            ],
            "label": "1982.0",
            "method": "animate"
           },
           {
            "args": [
             [
              "1994.0"
             ],
             {
              "frame": {
               "duration": 0,
               "redraw": false
              },
              "fromcurrent": true,
              "mode": "immediate",
              "transition": {
               "duration": 0,
               "easing": "linear"
              }
             }
            ],
            "label": "1994.0",
            "method": "animate"
           },
           {
            "args": [
             [
              "1965.0"
             ],
             {
              "frame": {
               "duration": 0,
               "redraw": false
              },
              "fromcurrent": true,
              "mode": "immediate",
              "transition": {
               "duration": 0,
               "easing": "linear"
              }
             }
            ],
            "label": "1965.0",
            "method": "animate"
           },
           {
            "args": [
             [
              "1964.0"
             ],
             {
              "frame": {
               "duration": 0,
               "redraw": false
              },
              "fromcurrent": true,
              "mode": "immediate",
              "transition": {
               "duration": 0,
               "easing": "linear"
              }
             }
            ],
            "label": "1964.0",
            "method": "animate"
           },
           {
            "args": [
             [
              "1963.0"
             ],
             {
              "frame": {
               "duration": 0,
               "redraw": false
              },
              "fromcurrent": true,
              "mode": "immediate",
              "transition": {
               "duration": 0,
               "easing": "linear"
              }
             }
            ],
            "label": "1963.0",
            "method": "animate"
           },
           {
            "args": [
             [
              "1988.0"
             ],
             {
              "frame": {
               "duration": 0,
               "redraw": false
              },
              "fromcurrent": true,
              "mode": "immediate",
              "transition": {
               "duration": 0,
               "easing": "linear"
              }
             }
            ],
            "label": "1988.0",
            "method": "animate"
           },
           {
            "args": [
             [
              "1959.0"
             ],
             {
              "frame": {
               "duration": 0,
               "redraw": false
              },
              "fromcurrent": true,
              "mode": "immediate",
              "transition": {
               "duration": 0,
               "easing": "linear"
              }
             }
            ],
            "label": "1959.0",
            "method": "animate"
           },
           {
            "args": [
             [
              "1967.0"
             ],
             {
              "frame": {
               "duration": 0,
               "redraw": false
              },
              "fromcurrent": true,
              "mode": "immediate",
              "transition": {
               "duration": 0,
               "easing": "linear"
              }
             }
            ],
            "label": "1967.0",
            "method": "animate"
           },
           {
            "args": [
             [
              "1955.0"
             ],
             {
              "frame": {
               "duration": 0,
               "redraw": false
              },
              "fromcurrent": true,
              "mode": "immediate",
              "transition": {
               "duration": 0,
               "easing": "linear"
              }
             }
            ],
            "label": "1955.0",
            "method": "animate"
           },
           {
            "args": [
             [
              "1989.0"
             ],
             {
              "frame": {
               "duration": 0,
               "redraw": false
              },
              "fromcurrent": true,
              "mode": "immediate",
              "transition": {
               "duration": 0,
               "easing": "linear"
              }
             }
            ],
            "label": "1989.0",
            "method": "animate"
           },
           {
            "args": [
             [
              "1979.0"
             ],
             {
              "frame": {
               "duration": 0,
               "redraw": false
              },
              "fromcurrent": true,
              "mode": "immediate",
              "transition": {
               "duration": 0,
               "easing": "linear"
              }
             }
            ],
            "label": "1979.0",
            "method": "animate"
           },
           {
            "args": [
             [
              "1957.0"
             ],
             {
              "frame": {
               "duration": 0,
               "redraw": false
              },
              "fromcurrent": true,
              "mode": "immediate",
              "transition": {
               "duration": 0,
               "easing": "linear"
              }
             }
            ],
            "label": "1957.0",
            "method": "animate"
           },
           {
            "args": [
             [
              "1976.0"
             ],
             {
              "frame": {
               "duration": 0,
               "redraw": false
              },
              "fromcurrent": true,
              "mode": "immediate",
              "transition": {
               "duration": 0,
               "easing": "linear"
              }
             }
            ],
            "label": "1976.0",
            "method": "animate"
           },
           {
            "args": [
             [
              "1985.0"
             ],
             {
              "frame": {
               "duration": 0,
               "redraw": false
              },
              "fromcurrent": true,
              "mode": "immediate",
              "transition": {
               "duration": 0,
               "easing": "linear"
              }
             }
            ],
            "label": "1985.0",
            "method": "animate"
           },
           {
            "args": [
             [
              "1936.0"
             ],
             {
              "frame": {
               "duration": 0,
               "redraw": false
              },
              "fromcurrent": true,
              "mode": "immediate",
              "transition": {
               "duration": 0,
               "easing": "linear"
              }
             }
            ],
            "label": "1936.0",
            "method": "animate"
           }
          ],
          "x": 0.1,
          "xanchor": "left",
          "y": 0,
          "yanchor": "top"
         }
        ],
        "template": {
         "data": {
          "bar": [
           {
            "error_x": {
             "color": "#2a3f5f"
            },
            "error_y": {
             "color": "#2a3f5f"
            },
            "marker": {
             "line": {
              "color": "#E5ECF6",
              "width": 0.5
             },
             "pattern": {
              "fillmode": "overlay",
              "size": 10,
              "solidity": 0.2
             }
            },
            "type": "bar"
           }
          ],
          "barpolar": [
           {
            "marker": {
             "line": {
              "color": "#E5ECF6",
              "width": 0.5
             },
             "pattern": {
              "fillmode": "overlay",
              "size": 10,
              "solidity": 0.2
             }
            },
            "type": "barpolar"
           }
          ],
          "carpet": [
           {
            "aaxis": {
             "endlinecolor": "#2a3f5f",
             "gridcolor": "white",
             "linecolor": "white",
             "minorgridcolor": "white",
             "startlinecolor": "#2a3f5f"
            },
            "baxis": {
             "endlinecolor": "#2a3f5f",
             "gridcolor": "white",
             "linecolor": "white",
             "minorgridcolor": "white",
             "startlinecolor": "#2a3f5f"
            },
            "type": "carpet"
           }
          ],
          "choropleth": [
           {
            "colorbar": {
             "outlinewidth": 0,
             "ticks": ""
            },
            "type": "choropleth"
           }
          ],
          "contour": [
           {
            "colorbar": {
             "outlinewidth": 0,
             "ticks": ""
            },
            "colorscale": [
             [
              0,
              "#0d0887"
             ],
             [
              0.1111111111111111,
              "#46039f"
             ],
             [
              0.2222222222222222,
              "#7201a8"
             ],
             [
              0.3333333333333333,
              "#9c179e"
             ],
             [
              0.4444444444444444,
              "#bd3786"
             ],
             [
              0.5555555555555556,
              "#d8576b"
             ],
             [
              0.6666666666666666,
              "#ed7953"
             ],
             [
              0.7777777777777778,
              "#fb9f3a"
             ],
             [
              0.8888888888888888,
              "#fdca26"
             ],
             [
              1,
              "#f0f921"
             ]
            ],
            "type": "contour"
           }
          ],
          "contourcarpet": [
           {
            "colorbar": {
             "outlinewidth": 0,
             "ticks": ""
            },
            "type": "contourcarpet"
           }
          ],
          "heatmap": [
           {
            "colorbar": {
             "outlinewidth": 0,
             "ticks": ""
            },
            "colorscale": [
             [
              0,
              "#0d0887"
             ],
             [
              0.1111111111111111,
              "#46039f"
             ],
             [
              0.2222222222222222,
              "#7201a8"
             ],
             [
              0.3333333333333333,
              "#9c179e"
             ],
             [
              0.4444444444444444,
              "#bd3786"
             ],
             [
              0.5555555555555556,
              "#d8576b"
             ],
             [
              0.6666666666666666,
              "#ed7953"
             ],
             [
              0.7777777777777778,
              "#fb9f3a"
             ],
             [
              0.8888888888888888,
              "#fdca26"
             ],
             [
              1,
              "#f0f921"
             ]
            ],
            "type": "heatmap"
           }
          ],
          "heatmapgl": [
           {
            "colorbar": {
             "outlinewidth": 0,
             "ticks": ""
            },
            "colorscale": [
             [
              0,
              "#0d0887"
             ],
             [
              0.1111111111111111,
              "#46039f"
             ],
             [
              0.2222222222222222,
              "#7201a8"
             ],
             [
              0.3333333333333333,
              "#9c179e"
             ],
             [
              0.4444444444444444,
              "#bd3786"
             ],
             [
              0.5555555555555556,
              "#d8576b"
             ],
             [
              0.6666666666666666,
              "#ed7953"
             ],
             [
              0.7777777777777778,
              "#fb9f3a"
             ],
             [
              0.8888888888888888,
              "#fdca26"
             ],
             [
              1,
              "#f0f921"
             ]
            ],
            "type": "heatmapgl"
           }
          ],
          "histogram": [
           {
            "marker": {
             "pattern": {
              "fillmode": "overlay",
              "size": 10,
              "solidity": 0.2
             }
            },
            "type": "histogram"
           }
          ],
          "histogram2d": [
           {
            "colorbar": {
             "outlinewidth": 0,
             "ticks": ""
            },
            "colorscale": [
             [
              0,
              "#0d0887"
             ],
             [
              0.1111111111111111,
              "#46039f"
             ],
             [
              0.2222222222222222,
              "#7201a8"
             ],
             [
              0.3333333333333333,
              "#9c179e"
             ],
             [
              0.4444444444444444,
              "#bd3786"
             ],
             [
              0.5555555555555556,
              "#d8576b"
             ],
             [
              0.6666666666666666,
              "#ed7953"
             ],
             [
              0.7777777777777778,
              "#fb9f3a"
             ],
             [
              0.8888888888888888,
              "#fdca26"
             ],
             [
              1,
              "#f0f921"
             ]
            ],
            "type": "histogram2d"
           }
          ],
          "histogram2dcontour": [
           {
            "colorbar": {
             "outlinewidth": 0,
             "ticks": ""
            },
            "colorscale": [
             [
              0,
              "#0d0887"
             ],
             [
              0.1111111111111111,
              "#46039f"
             ],
             [
              0.2222222222222222,
              "#7201a8"
             ],
             [
              0.3333333333333333,
              "#9c179e"
             ],
             [
              0.4444444444444444,
              "#bd3786"
             ],
             [
              0.5555555555555556,
              "#d8576b"
             ],
             [
              0.6666666666666666,
              "#ed7953"
             ],
             [
              0.7777777777777778,
              "#fb9f3a"
             ],
             [
              0.8888888888888888,
              "#fdca26"
             ],
             [
              1,
              "#f0f921"
             ]
            ],
            "type": "histogram2dcontour"
           }
          ],
          "mesh3d": [
           {
            "colorbar": {
             "outlinewidth": 0,
             "ticks": ""
            },
            "type": "mesh3d"
           }
          ],
          "parcoords": [
           {
            "line": {
             "colorbar": {
              "outlinewidth": 0,
              "ticks": ""
             }
            },
            "type": "parcoords"
           }
          ],
          "pie": [
           {
            "automargin": true,
            "type": "pie"
           }
          ],
          "scatter": [
           {
            "fillpattern": {
             "fillmode": "overlay",
             "size": 10,
             "solidity": 0.2
            },
            "type": "scatter"
           }
          ],
          "scatter3d": [
           {
            "line": {
             "colorbar": {
              "outlinewidth": 0,
              "ticks": ""
             }
            },
            "marker": {
             "colorbar": {
              "outlinewidth": 0,
              "ticks": ""
             }
            },
            "type": "scatter3d"
           }
          ],
          "scattercarpet": [
           {
            "marker": {
             "colorbar": {
              "outlinewidth": 0,
              "ticks": ""
             }
            },
            "type": "scattercarpet"
           }
          ],
          "scattergeo": [
           {
            "marker": {
             "colorbar": {
              "outlinewidth": 0,
              "ticks": ""
             }
            },
            "type": "scattergeo"
           }
          ],
          "scattergl": [
           {
            "marker": {
             "colorbar": {
              "outlinewidth": 0,
              "ticks": ""
             }
            },
            "type": "scattergl"
           }
          ],
          "scattermapbox": [
           {
            "marker": {
             "colorbar": {
              "outlinewidth": 0,
              "ticks": ""
             }
            },
            "type": "scattermapbox"
           }
          ],
          "scatterpolar": [
           {
            "marker": {
             "colorbar": {
              "outlinewidth": 0,
              "ticks": ""
             }
            },
            "type": "scatterpolar"
           }
          ],
          "scatterpolargl": [
           {
            "marker": {
             "colorbar": {
              "outlinewidth": 0,
              "ticks": ""
             }
            },
            "type": "scatterpolargl"
           }
          ],
          "scatterternary": [
           {
            "marker": {
             "colorbar": {
              "outlinewidth": 0,
              "ticks": ""
             }
            },
            "type": "scatterternary"
           }
          ],
          "surface": [
           {
            "colorbar": {
             "outlinewidth": 0,
             "ticks": ""
            },
            "colorscale": [
             [
              0,
              "#0d0887"
             ],
             [
              0.1111111111111111,
              "#46039f"
             ],
             [
              0.2222222222222222,
              "#7201a8"
             ],
             [
              0.3333333333333333,
              "#9c179e"
             ],
             [
              0.4444444444444444,
              "#bd3786"
             ],
             [
              0.5555555555555556,
              "#d8576b"
             ],
             [
              0.6666666666666666,
              "#ed7953"
             ],
             [
              0.7777777777777778,
              "#fb9f3a"
             ],
             [
              0.8888888888888888,
              "#fdca26"
             ],
             [
              1,
              "#f0f921"
             ]
            ],
            "type": "surface"
           }
          ],
          "table": [
           {
            "cells": {
             "fill": {
              "color": "#EBF0F8"
             },
             "line": {
              "color": "white"
             }
            },
            "header": {
             "fill": {
              "color": "#C8D4E3"
             },
             "line": {
              "color": "white"
             }
            },
            "type": "table"
           }
          ]
         },
         "layout": {
          "annotationdefaults": {
           "arrowcolor": "#2a3f5f",
           "arrowhead": 0,
           "arrowwidth": 1
          },
          "autotypenumbers": "strict",
          "coloraxis": {
           "colorbar": {
            "outlinewidth": 0,
            "ticks": ""
           }
          },
          "colorscale": {
           "diverging": [
            [
             0,
             "#8e0152"
            ],
            [
             0.1,
             "#c51b7d"
            ],
            [
             0.2,
             "#de77ae"
            ],
            [
             0.3,
             "#f1b6da"
            ],
            [
             0.4,
             "#fde0ef"
            ],
            [
             0.5,
             "#f7f7f7"
            ],
            [
             0.6,
             "#e6f5d0"
            ],
            [
             0.7,
             "#b8e186"
            ],
            [
             0.8,
             "#7fbc41"
            ],
            [
             0.9,
             "#4d9221"
            ],
            [
             1,
             "#276419"
            ]
           ],
           "sequential": [
            [
             0,
             "#0d0887"
            ],
            [
             0.1111111111111111,
             "#46039f"
            ],
            [
             0.2222222222222222,
             "#7201a8"
            ],
            [
             0.3333333333333333,
             "#9c179e"
            ],
            [
             0.4444444444444444,
             "#bd3786"
            ],
            [
             0.5555555555555556,
             "#d8576b"
            ],
            [
             0.6666666666666666,
             "#ed7953"
            ],
            [
             0.7777777777777778,
             "#fb9f3a"
            ],
            [
             0.8888888888888888,
             "#fdca26"
            ],
            [
             1,
             "#f0f921"
            ]
           ],
           "sequentialminus": [
            [
             0,
             "#0d0887"
            ],
            [
             0.1111111111111111,
             "#46039f"
            ],
            [
             0.2222222222222222,
             "#7201a8"
            ],
            [
             0.3333333333333333,
             "#9c179e"
            ],
            [
             0.4444444444444444,
             "#bd3786"
            ],
            [
             0.5555555555555556,
             "#d8576b"
            ],
            [
             0.6666666666666666,
             "#ed7953"
            ],
            [
             0.7777777777777778,
             "#fb9f3a"
            ],
            [
             0.8888888888888888,
             "#fdca26"
            ],
            [
             1,
             "#f0f921"
            ]
           ]
          },
          "colorway": [
           "#636efa",
           "#EF553B",
           "#00cc96",
           "#ab63fa",
           "#FFA15A",
           "#19d3f3",
           "#FF6692",
           "#B6E880",
           "#FF97FF",
           "#FECB52"
          ],
          "font": {
           "color": "#2a3f5f"
          },
          "geo": {
           "bgcolor": "white",
           "lakecolor": "white",
           "landcolor": "#E5ECF6",
           "showlakes": true,
           "showland": true,
           "subunitcolor": "white"
          },
          "hoverlabel": {
           "align": "left"
          },
          "hovermode": "closest",
          "mapbox": {
           "style": "light"
          },
          "paper_bgcolor": "white",
          "plot_bgcolor": "#E5ECF6",
          "polar": {
           "angularaxis": {
            "gridcolor": "white",
            "linecolor": "white",
            "ticks": ""
           },
           "bgcolor": "#E5ECF6",
           "radialaxis": {
            "gridcolor": "white",
            "linecolor": "white",
            "ticks": ""
           }
          },
          "scene": {
           "xaxis": {
            "backgroundcolor": "#E5ECF6",
            "gridcolor": "white",
            "gridwidth": 2,
            "linecolor": "white",
            "showbackground": true,
            "ticks": "",
            "zerolinecolor": "white"
           },
           "yaxis": {
            "backgroundcolor": "#E5ECF6",
            "gridcolor": "white",
            "gridwidth": 2,
            "linecolor": "white",
            "showbackground": true,
            "ticks": "",
            "zerolinecolor": "white"
           },
           "zaxis": {
            "backgroundcolor": "#E5ECF6",
            "gridcolor": "white",
            "gridwidth": 2,
            "linecolor": "white",
            "showbackground": true,
            "ticks": "",
            "zerolinecolor": "white"
           }
          },
          "shapedefaults": {
           "line": {
            "color": "#2a3f5f"
           }
          },
          "ternary": {
           "aaxis": {
            "gridcolor": "white",
            "linecolor": "white",
            "ticks": ""
           },
           "baxis": {
            "gridcolor": "white",
            "linecolor": "white",
            "ticks": ""
           },
           "bgcolor": "#E5ECF6",
           "caxis": {
            "gridcolor": "white",
            "linecolor": "white",
            "ticks": ""
           }
          },
          "title": {
           "x": 0.05
          },
          "xaxis": {
           "automargin": true,
           "gridcolor": "white",
           "linecolor": "white",
           "ticks": "",
           "title": {
            "standoff": 15
           },
           "zerolinecolor": "white",
           "zerolinewidth": 2
          },
          "yaxis": {
           "automargin": true,
           "gridcolor": "white",
           "linecolor": "white",
           "ticks": "",
           "title": {
            "standoff": 15
           },
           "zerolinecolor": "white",
           "zerolinewidth": 2
          }
         }
        },
        "title": {
         "text": "Amazon Books: List Price, Weight, and Pages Over Publication Years"
        },
        "updatemenus": [
         {
          "buttons": [
           {
            "args": [
             null,
             {
              "frame": {
               "duration": 500,
               "redraw": false
              },
              "fromcurrent": true,
              "mode": "immediate",
              "transition": {
               "duration": 500,
               "easing": "linear"
              }
             }
            ],
            "label": "&#9654;",
            "method": "animate"
           },
           {
            "args": [
             [
              null
             ],
             {
              "frame": {
               "duration": 0,
               "redraw": false
              },
              "fromcurrent": true,
              "mode": "immediate",
              "transition": {
               "duration": 0,
               "easing": "linear"
              }
             }
            ],
            "label": "&#9724;",
            "method": "animate"
           }
          ],
          "direction": "left",
          "pad": {
           "r": 10,
           "t": 70
          },
          "showactive": false,
          "type": "buttons",
          "x": 0.1,
          "xanchor": "right",
          "y": 0,
          "yanchor": "top"
         }
        ],
        "xaxis": {
         "anchor": "y",
         "domain": [
          0,
          1
         ],
         "title": {
          "text": "List Price ($)"
         }
        },
        "yaxis": {
         "anchor": "x",
         "domain": [
          0,
          1
         ],
         "title": {
          "text": "Weight (oz)"
         }
        }
       }
      }
     },
     "metadata": {},
     "output_type": "display_data"
    }
   ],
   "source": [
    "# Drop rows with missing or invalid values in relevant columns\n",
    "cleaned_books_df = ab.dropna(subset=[\"List Price\", \"Weight_oz\", \"NumPages\", \"Publisher\", \"Pub year\"])\n",
    "\n",
    "# Ensure all necessary columns are of appropriate types\n",
    "cleaned_books_df.loc[:, \"Pub year\"] = cleaned_books_df[\"Pub year\"].astype(int)\n",
    "\n",
    "# Create the updated dynamic bubble chart with smaller bubbles\n",
    "fig = px.scatter(\n",
    "    cleaned_books_df,\n",
    "    x=\"List Price\",\n",
    "    y=\"Weight_oz\",\n",
    "    size=\"NumPages\",\n",
    "    color=\"Publisher\",\n",
    "    animation_frame=\"Pub year\",\n",
    "    hover_name=\"Title\",\n",
    "    size_max=30,  # Reduce the maximum bubble size\n",
    "    title=\"Amazon Books: List Price, Weight, and Pages Over Publication Years\",\n",
    "    labels={\n",
    "        \"List Price\": \"List Price ($)\",\n",
    "        \"Weight_oz\": \"Weight (oz)\",\n",
    "        \"NumPages\": \"Number of Pages\",\n",
    "        \"Pub year\": \"Publication Year\",\n",
    "        \"Publisher\": \"Publisher\",\n",
    "    },\n",
    ")\n",
    "\n",
    "# Display the plot\n",
    "fig.show(renderer='png')\n",
    "\n",
    "# No renderer='png' here cause its animated?\n",
    "# idk the slider won't work if I add it\n",
    "# oh shoot, it just won't show on github without renderer='png'\n",
    "# ok then..."
   ]
  },
  {
   "cell_type": "markdown",
   "metadata": {},
   "source": [
    "Still doesn't look great but, It's pretty good compared to what I had in [HW03](https://github.com/HDEnt327/sta130/blob/main/HW/STA130_HW03.ipynb) I guess...\n",
    "\n",
    "Ok let's move on."
   ]
  },
  {
   "cell_type": "markdown",
   "metadata": {},
   "source": [
    "## Question 4"
   ]
  },
  {
   "cell_type": "code",
   "execution_count": 31,
   "metadata": {},
   "outputs": [
    {
     "data": {
      "text/plain": [
       "255"
      ]
     },
     "execution_count": 31,
     "metadata": {},
     "output_type": "execute_result"
    }
   ],
   "source": [
    "ab_reduced_noNaN_train, ab_reduced_noNaN_test = train_test_split(ab_reduced_noNaN, test_size=0.2)\n",
    "ab_reduced_noNaN_train.shape[0] # row count"
   ]
  },
  {
   "cell_type": "code",
   "execution_count": 32,
   "metadata": {},
   "outputs": [
    {
     "data": {
      "text/plain": [
       "64"
      ]
     },
     "execution_count": 32,
     "metadata": {},
     "output_type": "execute_result"
    }
   ],
   "source": [
    "ab_reduced_noNaN_test.shape[0]"
   ]
  },
  {
   "cell_type": "markdown",
   "metadata": {},
   "source": [
    "The training dataset has 255 observations, and the testing dataset has 64 observations.\n",
    "\n",
    "For the following two lines of code:\n",
    "\n",
    "```python\n",
    "y = pd.get_dummies(ab_reduced_noNaN[\"Hard_or_Paper\"])['H']\n",
    "X = ab_reduced_noNaN[['List Price']]\n",
    "```\n",
    "\n",
    "The first line creates dummy/indicator variable for the `Hard_or_Paper` column, where each unique category in the column becomes a separate column, one for Hardcover, `H`, and one for Paperback, `P`. The rows that are `H` will have a 1 in the `H` column, and 0 in others, same for the `P` column. This new dataframe is `y`, the outcome variable.\n",
    "\n",
    "The second line takes a column from the `ab_reduced_noNaN` dataframe and creates a new dataframe with one column. This new dataframe is `x`, the predicator variable.\n",
    "\n",
    "The two lines define what data are used as the predictor, and what data are used for the outcome (target) classes.\n",
    "\n",
    "Following is the code for \"training\" the tree:"
   ]
  },
  {
   "cell_type": "code",
   "execution_count": null,
   "metadata": {},
   "outputs": [
    {
     "name": "stdout",
     "output_type": "stream",
     "text": [
      "Tree depth: 2\n",
      "Number of leaves: 4\n"
     ]
    }
   ],
   "source": [
    "y = pd.get_dummies(ab_reduced_noNaN_train[\"Hard_or_Paper\"])['H']\n",
    "X = ab_reduced_noNaN_train[['List Price']]\n",
    "\n",
    "# Create a DecisionTreeClassifier with max depth of 2\n",
    "clf = tree.DecisionTreeClassifier(max_depth=2, random_state=42)\n",
    "\n",
    "# Fit the model to the data\n",
    "clf.fit(X, y)\n",
    "\n",
    "# Print the trained tree's properties (optional, for verification)\n",
    "print(f\"Tree depth: {clf.get_depth()}\")\n",
    "print(f\"Number of leaves: {clf.get_n_leaves()}\")"
   ]
  },
  {
   "cell_type": "markdown",
   "metadata": {},
   "source": [
    "Note how we only use the `train` dataset to train the model, not the main `ab_reduced_noNaN` dataset or the `test` dataset.\n",
    "\n",
    "Now let's see the results with a visualization of the resulting tree:"
   ]
  },
  {
   "cell_type": "code",
   "execution_count": 34,
   "metadata": {},
   "outputs": [
    {
     "data": {
      "image/svg+xml": [
       "<?xml version=\"1.0\" encoding=\"UTF-8\" standalone=\"no\"?>\n",
       "<!DOCTYPE svg PUBLIC \"-//W3C//DTD SVG 1.1//EN\"\n",
       " \"http://www.w3.org/Graphics/SVG/1.1/DTD/svg11.dtd\">\n",
       "<!-- Generated by graphviz version 12.2.0 (20241103.1931)\n",
       " -->\n",
       "<!-- Title: Tree Pages: 1 -->\n",
       "<svg width=\"498pt\" height=\"269pt\"\n",
       " viewBox=\"0.00 0.00 498.25 269.00\" xmlns=\"http://www.w3.org/2000/svg\" xmlns:xlink=\"http://www.w3.org/1999/xlink\">\n",
       "<g id=\"graph0\" class=\"graph\" transform=\"scale(1 1) rotate(0) translate(4 265)\">\n",
       "<title>Tree</title>\n",
       "<polygon fill=\"white\" stroke=\"none\" points=\"-4,4 -4,-265 494.25,-265 494.25,4 -4,4\"/>\n",
       "<!-- 0 -->\n",
       "<g id=\"node1\" class=\"node\">\n",
       "<title>0</title>\n",
       "<polygon fill=\"none\" stroke=\"black\" points=\"308.75,-261 192.25,-261 192.25,-193 308.75,-193 308.75,-261\"/>\n",
       "<text text-anchor=\"middle\" x=\"250.5\" y=\"-243.7\" font-family=\"Helvetica,sans-Serif\" font-size=\"14.00\">x[0] &lt;= 17.97</text>\n",
       "<text text-anchor=\"middle\" x=\"250.5\" y=\"-228.7\" font-family=\"Helvetica,sans-Serif\" font-size=\"14.00\">gini = 0.394</text>\n",
       "<text text-anchor=\"middle\" x=\"250.5\" y=\"-213.7\" font-family=\"Helvetica,sans-Serif\" font-size=\"14.00\">samples = 319</text>\n",
       "<text text-anchor=\"middle\" x=\"250.5\" y=\"-198.7\" font-family=\"Helvetica,sans-Serif\" font-size=\"14.00\">value = [233, 86]</text>\n",
       "</g>\n",
       "<!-- 1 -->\n",
       "<g id=\"node2\" class=\"node\">\n",
       "<title>1</title>\n",
       "<polygon fill=\"none\" stroke=\"black\" points=\"243.75,-157 127.25,-157 127.25,-89 243.75,-89 243.75,-157\"/>\n",
       "<text text-anchor=\"middle\" x=\"185.5\" y=\"-139.7\" font-family=\"Helvetica,sans-Serif\" font-size=\"14.00\">x[0] &lt;= 10.8</text>\n",
       "<text text-anchor=\"middle\" x=\"185.5\" y=\"-124.7\" font-family=\"Helvetica,sans-Serif\" font-size=\"14.00\">gini = 0.194</text>\n",
       "<text text-anchor=\"middle\" x=\"185.5\" y=\"-109.7\" font-family=\"Helvetica,sans-Serif\" font-size=\"14.00\">samples = 221</text>\n",
       "<text text-anchor=\"middle\" x=\"185.5\" y=\"-94.7\" font-family=\"Helvetica,sans-Serif\" font-size=\"14.00\">value = [197, 24]</text>\n",
       "</g>\n",
       "<!-- 0&#45;&gt;1 -->\n",
       "<g id=\"edge1\" class=\"edge\">\n",
       "<title>0&#45;&gt;1</title>\n",
       "<path fill=\"none\" stroke=\"black\" d=\"M229.22,-192.6C224,-184.41 218.34,-175.53 212.88,-166.96\"/>\n",
       "<polygon fill=\"black\" stroke=\"black\" points=\"215.97,-165.3 207.64,-158.75 210.07,-169.06 215.97,-165.3\"/>\n",
       "<text text-anchor=\"middle\" x=\"201.42\" y=\"-176.08\" font-family=\"Helvetica,sans-Serif\" font-size=\"14.00\">True</text>\n",
       "</g>\n",
       "<!-- 4 -->\n",
       "<g id=\"node5\" class=\"node\">\n",
       "<title>4</title>\n",
       "<polygon fill=\"none\" stroke=\"black\" points=\"371,-157 262,-157 262,-89 371,-89 371,-157\"/>\n",
       "<text text-anchor=\"middle\" x=\"316.5\" y=\"-139.7\" font-family=\"Helvetica,sans-Serif\" font-size=\"14.00\">x[0] &lt;= 29.225</text>\n",
       "<text text-anchor=\"middle\" x=\"316.5\" y=\"-124.7\" font-family=\"Helvetica,sans-Serif\" font-size=\"14.00\">gini = 0.465</text>\n",
       "<text text-anchor=\"middle\" x=\"316.5\" y=\"-109.7\" font-family=\"Helvetica,sans-Serif\" font-size=\"14.00\">samples = 98</text>\n",
       "<text text-anchor=\"middle\" x=\"316.5\" y=\"-94.7\" font-family=\"Helvetica,sans-Serif\" font-size=\"14.00\">value = [36, 62]</text>\n",
       "</g>\n",
       "<!-- 0&#45;&gt;4 -->\n",
       "<g id=\"edge4\" class=\"edge\">\n",
       "<title>0&#45;&gt;4</title>\n",
       "<path fill=\"none\" stroke=\"black\" d=\"M272.11,-192.6C277.41,-184.41 283.16,-175.53 288.7,-166.96\"/>\n",
       "<polygon fill=\"black\" stroke=\"black\" points=\"291.52,-169.04 294.02,-158.74 285.65,-165.24 291.52,-169.04\"/>\n",
       "<text text-anchor=\"middle\" x=\"300.08\" y=\"-176.12\" font-family=\"Helvetica,sans-Serif\" font-size=\"14.00\">False</text>\n",
       "</g>\n",
       "<!-- 2 -->\n",
       "<g id=\"node3\" class=\"node\">\n",
       "<title>2</title>\n",
       "<polygon fill=\"none\" stroke=\"black\" points=\"109,-53 0,-53 0,0 109,0 109,-53\"/>\n",
       "<text text-anchor=\"middle\" x=\"54.5\" y=\"-35.7\" font-family=\"Helvetica,sans-Serif\" font-size=\"14.00\">gini = 0.355</text>\n",
       "<text text-anchor=\"middle\" x=\"54.5\" y=\"-20.7\" font-family=\"Helvetica,sans-Serif\" font-size=\"14.00\">samples = 52</text>\n",
       "<text text-anchor=\"middle\" x=\"54.5\" y=\"-5.7\" font-family=\"Helvetica,sans-Serif\" font-size=\"14.00\">value = [40, 12]</text>\n",
       "</g>\n",
       "<!-- 1&#45;&gt;2 -->\n",
       "<g id=\"edge2\" class=\"edge\">\n",
       "<title>1&#45;&gt;2</title>\n",
       "<path fill=\"none\" stroke=\"black\" d=\"M139.31,-88.68C126.39,-79.36 112.37,-69.24 99.52,-59.97\"/>\n",
       "<polygon fill=\"black\" stroke=\"black\" points=\"101.78,-57.29 91.62,-54.28 97.69,-62.97 101.78,-57.29\"/>\n",
       "</g>\n",
       "<!-- 3 -->\n",
       "<g id=\"node4\" class=\"node\">\n",
       "<title>3</title>\n",
       "<polygon fill=\"none\" stroke=\"black\" points=\"243.75,-53 127.25,-53 127.25,0 243.75,0 243.75,-53\"/>\n",
       "<text text-anchor=\"middle\" x=\"185.5\" y=\"-35.7\" font-family=\"Helvetica,sans-Serif\" font-size=\"14.00\">gini = 0.132</text>\n",
       "<text text-anchor=\"middle\" x=\"185.5\" y=\"-20.7\" font-family=\"Helvetica,sans-Serif\" font-size=\"14.00\">samples = 169</text>\n",
       "<text text-anchor=\"middle\" x=\"185.5\" y=\"-5.7\" font-family=\"Helvetica,sans-Serif\" font-size=\"14.00\">value = [157, 12]</text>\n",
       "</g>\n",
       "<!-- 1&#45;&gt;3 -->\n",
       "<g id=\"edge3\" class=\"edge\">\n",
       "<title>1&#45;&gt;3</title>\n",
       "<path fill=\"none\" stroke=\"black\" d=\"M185.5,-88.68C185.5,-80.99 185.5,-72.76 185.5,-64.9\"/>\n",
       "<polygon fill=\"black\" stroke=\"black\" points=\"189,-64.91 185.5,-54.91 182,-64.91 189,-64.91\"/>\n",
       "</g>\n",
       "<!-- 5 -->\n",
       "<g id=\"node6\" class=\"node\">\n",
       "<title>5</title>\n",
       "<polygon fill=\"none\" stroke=\"black\" points=\"371,-53 262,-53 262,0 371,0 371,-53\"/>\n",
       "<text text-anchor=\"middle\" x=\"316.5\" y=\"-35.7\" font-family=\"Helvetica,sans-Serif\" font-size=\"14.00\">gini = 0.382</text>\n",
       "<text text-anchor=\"middle\" x=\"316.5\" y=\"-20.7\" font-family=\"Helvetica,sans-Serif\" font-size=\"14.00\">samples = 74</text>\n",
       "<text text-anchor=\"middle\" x=\"316.5\" y=\"-5.7\" font-family=\"Helvetica,sans-Serif\" font-size=\"14.00\">value = [19, 55]</text>\n",
       "</g>\n",
       "<!-- 4&#45;&gt;5 -->\n",
       "<g id=\"edge5\" class=\"edge\">\n",
       "<title>4&#45;&gt;5</title>\n",
       "<path fill=\"none\" stroke=\"black\" d=\"M316.5,-88.68C316.5,-80.99 316.5,-72.76 316.5,-64.9\"/>\n",
       "<polygon fill=\"black\" stroke=\"black\" points=\"320,-64.91 316.5,-54.91 313,-64.91 320,-64.91\"/>\n",
       "</g>\n",
       "<!-- 6 -->\n",
       "<g id=\"node7\" class=\"node\">\n",
       "<title>6</title>\n",
       "<polygon fill=\"none\" stroke=\"black\" points=\"490.25,-53 388.75,-53 388.75,0 490.25,0 490.25,-53\"/>\n",
       "<text text-anchor=\"middle\" x=\"439.5\" y=\"-35.7\" font-family=\"Helvetica,sans-Serif\" font-size=\"14.00\">gini = 0.413</text>\n",
       "<text text-anchor=\"middle\" x=\"439.5\" y=\"-20.7\" font-family=\"Helvetica,sans-Serif\" font-size=\"14.00\">samples = 24</text>\n",
       "<text text-anchor=\"middle\" x=\"439.5\" y=\"-5.7\" font-family=\"Helvetica,sans-Serif\" font-size=\"14.00\">value = [17, 7]</text>\n",
       "</g>\n",
       "<!-- 4&#45;&gt;6 -->\n",
       "<g id=\"edge6\" class=\"edge\">\n",
       "<title>4&#45;&gt;6</title>\n",
       "<path fill=\"none\" stroke=\"black\" d=\"M359.87,-88.68C371.88,-79.45 384.91,-69.44 396.88,-60.24\"/>\n",
       "<polygon fill=\"black\" stroke=\"black\" points=\"398.8,-63.18 404.6,-54.32 394.53,-57.63 398.8,-63.18\"/>\n",
       "</g>\n",
       "</g>\n",
       "</svg>\n"
      ],
      "text/plain": [
       "<graphviz.sources.Source at 0x128784850>"
      ]
     },
     "execution_count": 34,
     "metadata": {},
     "output_type": "execute_result"
    }
   ],
   "source": [
    "dot_data = tree.export_graphviz(clf, out_file=None) \n",
    "graph = gv.Source(dot_data) \n",
    "graph"
   ]
  },
  {
   "cell_type": "markdown",
   "metadata": {},
   "source": [
    "This is an initial example of the process of creating a CDT and what one might look like through a visualization. We see on the second line of each node there is a `gini` value, this is exactly the \"impurity\" value we've discussed before, and the goal of the CDT model is to minimize this gini value as much as possible.\n",
    "\n",
    "At the top of each node there is a condition, for example, in the root note of the visualization above, the condition for a predictor to have a \"true\" value (or \"positive\" value, which in this case is being a Hard cover book) is if the price `x[0]` was less than or equal to 17.97. So, when making a prediction, the model will look at the price variable, if it satisfies the condition, it is put into the corresponding node on the next level, which, may be a leaf node, or in our example, are another level of conditional nodes that split the predictors once again.\n",
    "\n",
    "To put it all together, when our model makes a prediction, it looks at whether or not the `x[0]` variable of the predictor is less than or equal to 17.97. For those predictors that are true, their `x[0]` variable is looked at once again to see if they are less than or equal to 10.8, and the predictors finally reach a final category. For those that are false, their `x[0]` variable is also looked at again to see if they are less than or equal to 29.225, and also reaching a final leaf node.\n",
    "\n",
    "Again, note that leaf nodes are the final categorization result for a prediction."
   ]
  },
  {
   "cell_type": "markdown",
   "metadata": {},
   "source": [
    "## Question 5\n",
    "\n"
   ]
  },
  {
   "cell_type": "code",
   "execution_count": null,
   "metadata": {},
   "outputs": [
    {
     "data": {
      "image/svg+xml": [
       "<?xml version=\"1.0\" encoding=\"UTF-8\" standalone=\"no\"?>\n",
       "<!DOCTYPE svg PUBLIC \"-//W3C//DTD SVG 1.1//EN\"\n",
       " \"http://www.w3.org/Graphics/SVG/1.1/DTD/svg11.dtd\">\n",
       "<!-- Generated by graphviz version 12.2.0 (20241103.1931)\n",
       " -->\n",
       "<!-- Title: Tree Pages: 1 -->\n",
       "<svg width=\"1261pt\" height=\"477pt\"\n",
       " viewBox=\"0.00 0.00 1261.00 477.00\" xmlns=\"http://www.w3.org/2000/svg\" xmlns:xlink=\"http://www.w3.org/1999/xlink\">\n",
       "<g id=\"graph0\" class=\"graph\" transform=\"scale(1 1) rotate(0) translate(4 473)\">\n",
       "<title>Tree</title>\n",
       "<polygon fill=\"white\" stroke=\"none\" points=\"-4,4 -4,-473 1257,-473 1257,4 -4,4\"/>\n",
       "<!-- 0 -->\n",
       "<g id=\"node1\" class=\"node\">\n",
       "<title>0</title>\n",
       "<polygon fill=\"none\" stroke=\"black\" points=\"627.25,-469 510.75,-469 510.75,-401 627.25,-401 627.25,-469\"/>\n",
       "<text text-anchor=\"middle\" x=\"569\" y=\"-451.7\" font-family=\"Helvetica,sans-Serif\" font-size=\"14.00\">x[2] &lt;= 17.97</text>\n",
       "<text text-anchor=\"middle\" x=\"569\" y=\"-436.7\" font-family=\"Helvetica,sans-Serif\" font-size=\"14.00\">gini = 0.394</text>\n",
       "<text text-anchor=\"middle\" x=\"569\" y=\"-421.7\" font-family=\"Helvetica,sans-Serif\" font-size=\"14.00\">samples = 319</text>\n",
       "<text text-anchor=\"middle\" x=\"569\" y=\"-406.7\" font-family=\"Helvetica,sans-Serif\" font-size=\"14.00\">value = [233, 86]</text>\n",
       "</g>\n",
       "<!-- 1 -->\n",
       "<g id=\"node2\" class=\"node\">\n",
       "<title>1</title>\n",
       "<polygon fill=\"none\" stroke=\"black\" points=\"402.25,-365 285.75,-365 285.75,-297 402.25,-297 402.25,-365\"/>\n",
       "<text text-anchor=\"middle\" x=\"344\" y=\"-347.7\" font-family=\"Helvetica,sans-Serif\" font-size=\"14.00\">x[0] &lt;= 82.0</text>\n",
       "<text text-anchor=\"middle\" x=\"344\" y=\"-332.7\" font-family=\"Helvetica,sans-Serif\" font-size=\"14.00\">gini = 0.194</text>\n",
       "<text text-anchor=\"middle\" x=\"344\" y=\"-317.7\" font-family=\"Helvetica,sans-Serif\" font-size=\"14.00\">samples = 221</text>\n",
       "<text text-anchor=\"middle\" x=\"344\" y=\"-302.7\" font-family=\"Helvetica,sans-Serif\" font-size=\"14.00\">value = [197, 24]</text>\n",
       "</g>\n",
       "<!-- 0&#45;&gt;1 -->\n",
       "<g id=\"edge1\" class=\"edge\">\n",
       "<title>0&#45;&gt;1</title>\n",
       "<path fill=\"none\" stroke=\"black\" d=\"M510.47,-407.47C480.64,-393.94 444.17,-377.41 412.98,-363.27\"/>\n",
       "<polygon fill=\"black\" stroke=\"black\" points=\"414.56,-360.14 404,-359.2 411.67,-366.52 414.56,-360.14\"/>\n",
       "<text text-anchor=\"middle\" x=\"411.43\" y=\"-376.18\" font-family=\"Helvetica,sans-Serif\" font-size=\"14.00\">True</text>\n",
       "</g>\n",
       "<!-- 12 -->\n",
       "<g id=\"node13\" class=\"node\">\n",
       "<title>12</title>\n",
       "<polygon fill=\"none\" stroke=\"black\" points=\"768.5,-365 659.5,-365 659.5,-297 768.5,-297 768.5,-365\"/>\n",
       "<text text-anchor=\"middle\" x=\"714\" y=\"-347.7\" font-family=\"Helvetica,sans-Serif\" font-size=\"14.00\">x[1] &lt;= 0.95</text>\n",
       "<text text-anchor=\"middle\" x=\"714\" y=\"-332.7\" font-family=\"Helvetica,sans-Serif\" font-size=\"14.00\">gini = 0.465</text>\n",
       "<text text-anchor=\"middle\" x=\"714\" y=\"-317.7\" font-family=\"Helvetica,sans-Serif\" font-size=\"14.00\">samples = 98</text>\n",
       "<text text-anchor=\"middle\" x=\"714\" y=\"-302.7\" font-family=\"Helvetica,sans-Serif\" font-size=\"14.00\">value = [36, 62]</text>\n",
       "</g>\n",
       "<!-- 0&#45;&gt;12 -->\n",
       "<g id=\"edge12\" class=\"edge\">\n",
       "<title>0&#45;&gt;12</title>\n",
       "<path fill=\"none\" stroke=\"black\" d=\"M616.48,-400.6C629.5,-391.44 643.74,-381.42 657.23,-371.94\"/>\n",
       "<polygon fill=\"black\" stroke=\"black\" points=\"659.01,-374.96 665.18,-366.34 654.98,-369.24 659.01,-374.96\"/>\n",
       "<text text-anchor=\"middle\" x=\"662.13\" y=\"-384.3\" font-family=\"Helvetica,sans-Serif\" font-size=\"14.00\">False</text>\n",
       "</g>\n",
       "<!-- 2 -->\n",
       "<g id=\"node3\" class=\"node\">\n",
       "<title>2</title>\n",
       "<polygon fill=\"none\" stroke=\"black\" points=\"206,-261 112,-261 112,-193 206,-193 206,-261\"/>\n",
       "<text text-anchor=\"middle\" x=\"159\" y=\"-243.7\" font-family=\"Helvetica,sans-Serif\" font-size=\"14.00\">x[1] &lt;= 0.25</text>\n",
       "<text text-anchor=\"middle\" x=\"159\" y=\"-228.7\" font-family=\"Helvetica,sans-Serif\" font-size=\"14.00\">gini = 0.375</text>\n",
       "<text text-anchor=\"middle\" x=\"159\" y=\"-213.7\" font-family=\"Helvetica,sans-Serif\" font-size=\"14.00\">samples = 8</text>\n",
       "<text text-anchor=\"middle\" x=\"159\" y=\"-198.7\" font-family=\"Helvetica,sans-Serif\" font-size=\"14.00\">value = [2, 6]</text>\n",
       "</g>\n",
       "<!-- 1&#45;&gt;2 -->\n",
       "<g id=\"edge2\" class=\"edge\">\n",
       "<title>1&#45;&gt;2</title>\n",
       "<path fill=\"none\" stroke=\"black\" d=\"M285.46,-297.73C263.34,-285.53 238.21,-271.67 216.21,-259.54\"/>\n",
       "<polygon fill=\"black\" stroke=\"black\" points=\"218.11,-256.6 207.67,-254.83 214.73,-262.73 218.11,-256.6\"/>\n",
       "</g>\n",
       "<!-- 5 -->\n",
       "<g id=\"node6\" class=\"node\">\n",
       "<title>5</title>\n",
       "<polygon fill=\"none\" stroke=\"black\" points=\"402.25,-261 285.75,-261 285.75,-193 402.25,-193 402.25,-261\"/>\n",
       "<text text-anchor=\"middle\" x=\"344\" y=\"-243.7\" font-family=\"Helvetica,sans-Serif\" font-size=\"14.00\">x[1] &lt;= 1.65</text>\n",
       "<text text-anchor=\"middle\" x=\"344\" y=\"-228.7\" font-family=\"Helvetica,sans-Serif\" font-size=\"14.00\">gini = 0.155</text>\n",
       "<text text-anchor=\"middle\" x=\"344\" y=\"-213.7\" font-family=\"Helvetica,sans-Serif\" font-size=\"14.00\">samples = 213</text>\n",
       "<text text-anchor=\"middle\" x=\"344\" y=\"-198.7\" font-family=\"Helvetica,sans-Serif\" font-size=\"14.00\">value = [195, 18]</text>\n",
       "</g>\n",
       "<!-- 1&#45;&gt;5 -->\n",
       "<g id=\"edge5\" class=\"edge\">\n",
       "<title>1&#45;&gt;5</title>\n",
       "<path fill=\"none\" stroke=\"black\" d=\"M344,-296.6C344,-289.03 344,-280.87 344,-272.9\"/>\n",
       "<polygon fill=\"black\" stroke=\"black\" points=\"347.5,-272.99 344,-262.99 340.5,-272.99 347.5,-272.99\"/>\n",
       "</g>\n",
       "<!-- 3 -->\n",
       "<g id=\"node4\" class=\"node\">\n",
       "<title>3</title>\n",
       "<polygon fill=\"none\" stroke=\"black\" points=\"94,-149.5 0,-149.5 0,-96.5 94,-96.5 94,-149.5\"/>\n",
       "<text text-anchor=\"middle\" x=\"47\" y=\"-132.2\" font-family=\"Helvetica,sans-Serif\" font-size=\"14.00\">gini = 0.0</text>\n",
       "<text text-anchor=\"middle\" x=\"47\" y=\"-117.2\" font-family=\"Helvetica,sans-Serif\" font-size=\"14.00\">samples = 2</text>\n",
       "<text text-anchor=\"middle\" x=\"47\" y=\"-102.2\" font-family=\"Helvetica,sans-Serif\" font-size=\"14.00\">value = [2, 0]</text>\n",
       "</g>\n",
       "<!-- 2&#45;&gt;3 -->\n",
       "<g id=\"edge3\" class=\"edge\">\n",
       "<title>2&#45;&gt;3</title>\n",
       "<path fill=\"none\" stroke=\"black\" d=\"M122.33,-192.6C109.89,-181.27 96,-168.62 83.56,-157.3\"/>\n",
       "<polygon fill=\"black\" stroke=\"black\" points=\"86.1,-154.87 76.35,-150.73 81.38,-160.05 86.1,-154.87\"/>\n",
       "</g>\n",
       "<!-- 4 -->\n",
       "<g id=\"node5\" class=\"node\">\n",
       "<title>4</title>\n",
       "<polygon fill=\"none\" stroke=\"black\" points=\"206,-149.5 112,-149.5 112,-96.5 206,-96.5 206,-149.5\"/>\n",
       "<text text-anchor=\"middle\" x=\"159\" y=\"-132.2\" font-family=\"Helvetica,sans-Serif\" font-size=\"14.00\">gini = 0.0</text>\n",
       "<text text-anchor=\"middle\" x=\"159\" y=\"-117.2\" font-family=\"Helvetica,sans-Serif\" font-size=\"14.00\">samples = 6</text>\n",
       "<text text-anchor=\"middle\" x=\"159\" y=\"-102.2\" font-family=\"Helvetica,sans-Serif\" font-size=\"14.00\">value = [0, 6]</text>\n",
       "</g>\n",
       "<!-- 2&#45;&gt;4 -->\n",
       "<g id=\"edge4\" class=\"edge\">\n",
       "<title>2&#45;&gt;4</title>\n",
       "<path fill=\"none\" stroke=\"black\" d=\"M159,-192.6C159,-182.47 159,-171.28 159,-160.93\"/>\n",
       "<polygon fill=\"black\" stroke=\"black\" points=\"162.5,-161.22 159,-151.22 155.5,-161.22 162.5,-161.22\"/>\n",
       "</g>\n",
       "<!-- 6 -->\n",
       "<g id=\"node7\" class=\"node\">\n",
       "<title>6</title>\n",
       "<polygon fill=\"none\" stroke=\"black\" points=\"340.25,-157 223.75,-157 223.75,-89 340.25,-89 340.25,-157\"/>\n",
       "<text text-anchor=\"middle\" x=\"282\" y=\"-139.7\" font-family=\"Helvetica,sans-Serif\" font-size=\"14.00\">x[2] &lt;= 16.97</text>\n",
       "<text text-anchor=\"middle\" x=\"282\" y=\"-124.7\" font-family=\"Helvetica,sans-Serif\" font-size=\"14.00\">gini = 0.148</text>\n",
       "<text text-anchor=\"middle\" x=\"282\" y=\"-109.7\" font-family=\"Helvetica,sans-Serif\" font-size=\"14.00\">samples = 211</text>\n",
       "<text text-anchor=\"middle\" x=\"282\" y=\"-94.7\" font-family=\"Helvetica,sans-Serif\" font-size=\"14.00\">value = [194, 17]</text>\n",
       "</g>\n",
       "<!-- 5&#45;&gt;6 -->\n",
       "<g id=\"edge6\" class=\"edge\">\n",
       "<title>5&#45;&gt;6</title>\n",
       "<path fill=\"none\" stroke=\"black\" d=\"M323.7,-192.6C318.77,-184.5 313.44,-175.72 308.28,-167.24\"/>\n",
       "<polygon fill=\"black\" stroke=\"black\" points=\"311.32,-165.49 303.13,-158.77 305.34,-169.13 311.32,-165.49\"/>\n",
       "</g>\n",
       "<!-- 9 -->\n",
       "<g id=\"node10\" class=\"node\">\n",
       "<title>9</title>\n",
       "<polygon fill=\"none\" stroke=\"black\" points=\"453.75,-157 358.25,-157 358.25,-89 453.75,-89 453.75,-157\"/>\n",
       "<text text-anchor=\"middle\" x=\"406\" y=\"-139.7\" font-family=\"Helvetica,sans-Serif\" font-size=\"14.00\">x[0] &lt;= 656.0</text>\n",
       "<text text-anchor=\"middle\" x=\"406\" y=\"-124.7\" font-family=\"Helvetica,sans-Serif\" font-size=\"14.00\">gini = 0.5</text>\n",
       "<text text-anchor=\"middle\" x=\"406\" y=\"-109.7\" font-family=\"Helvetica,sans-Serif\" font-size=\"14.00\">samples = 2</text>\n",
       "<text text-anchor=\"middle\" x=\"406\" y=\"-94.7\" font-family=\"Helvetica,sans-Serif\" font-size=\"14.00\">value = [1, 1]</text>\n",
       "</g>\n",
       "<!-- 5&#45;&gt;9 -->\n",
       "<g id=\"edge9\" class=\"edge\">\n",
       "<title>5&#45;&gt;9</title>\n",
       "<path fill=\"none\" stroke=\"black\" d=\"M364.3,-192.6C369.23,-184.5 374.56,-175.72 379.72,-167.24\"/>\n",
       "<polygon fill=\"black\" stroke=\"black\" points=\"382.66,-169.13 384.87,-158.77 376.68,-165.49 382.66,-169.13\"/>\n",
       "</g>\n",
       "<!-- 7 -->\n",
       "<g id=\"node8\" class=\"node\">\n",
       "<title>7</title>\n",
       "<polygon fill=\"none\" stroke=\"black\" points=\"213.25,-53 96.75,-53 96.75,0 213.25,0 213.25,-53\"/>\n",
       "<text text-anchor=\"middle\" x=\"155\" y=\"-35.7\" font-family=\"Helvetica,sans-Serif\" font-size=\"14.00\">gini = 0.131</text>\n",
       "<text text-anchor=\"middle\" x=\"155\" y=\"-20.7\" font-family=\"Helvetica,sans-Serif\" font-size=\"14.00\">samples = 198</text>\n",
       "<text text-anchor=\"middle\" x=\"155\" y=\"-5.7\" font-family=\"Helvetica,sans-Serif\" font-size=\"14.00\">value = [184, 14]</text>\n",
       "</g>\n",
       "<!-- 6&#45;&gt;7 -->\n",
       "<g id=\"edge7\" class=\"edge\">\n",
       "<title>6&#45;&gt;7</title>\n",
       "<path fill=\"none\" stroke=\"black\" d=\"M237.22,-88.68C224.82,-79.45 211.37,-69.44 199,-60.24\"/>\n",
       "<polygon fill=\"black\" stroke=\"black\" points=\"201.13,-57.46 191.01,-54.3 196.95,-63.07 201.13,-57.46\"/>\n",
       "</g>\n",
       "<!-- 8 -->\n",
       "<g id=\"node9\" class=\"node\">\n",
       "<title>8</title>\n",
       "<polygon fill=\"none\" stroke=\"black\" points=\"332.75,-53 231.25,-53 231.25,0 332.75,0 332.75,-53\"/>\n",
       "<text text-anchor=\"middle\" x=\"282\" y=\"-35.7\" font-family=\"Helvetica,sans-Serif\" font-size=\"14.00\">gini = 0.355</text>\n",
       "<text text-anchor=\"middle\" x=\"282\" y=\"-20.7\" font-family=\"Helvetica,sans-Serif\" font-size=\"14.00\">samples = 13</text>\n",
       "<text text-anchor=\"middle\" x=\"282\" y=\"-5.7\" font-family=\"Helvetica,sans-Serif\" font-size=\"14.00\">value = [10, 3]</text>\n",
       "</g>\n",
       "<!-- 6&#45;&gt;8 -->\n",
       "<g id=\"edge8\" class=\"edge\">\n",
       "<title>6&#45;&gt;8</title>\n",
       "<path fill=\"none\" stroke=\"black\" d=\"M282,-88.68C282,-80.99 282,-72.76 282,-64.9\"/>\n",
       "<polygon fill=\"black\" stroke=\"black\" points=\"285.5,-64.91 282,-54.91 278.5,-64.91 285.5,-64.91\"/>\n",
       "</g>\n",
       "<!-- 10 -->\n",
       "<g id=\"node11\" class=\"node\">\n",
       "<title>10</title>\n",
       "<polygon fill=\"none\" stroke=\"black\" points=\"445,-53 351,-53 351,0 445,0 445,-53\"/>\n",
       "<text text-anchor=\"middle\" x=\"398\" y=\"-35.7\" font-family=\"Helvetica,sans-Serif\" font-size=\"14.00\">gini = 0.0</text>\n",
       "<text text-anchor=\"middle\" x=\"398\" y=\"-20.7\" font-family=\"Helvetica,sans-Serif\" font-size=\"14.00\">samples = 1</text>\n",
       "<text text-anchor=\"middle\" x=\"398\" y=\"-5.7\" font-family=\"Helvetica,sans-Serif\" font-size=\"14.00\">value = [1, 0]</text>\n",
       "</g>\n",
       "<!-- 9&#45;&gt;10 -->\n",
       "<g id=\"edge10\" class=\"edge\">\n",
       "<title>9&#45;&gt;10</title>\n",
       "<path fill=\"none\" stroke=\"black\" d=\"M403.18,-88.68C402.52,-80.9 401.81,-72.56 401.14,-64.63\"/>\n",
       "<polygon fill=\"black\" stroke=\"black\" points=\"404.65,-64.57 400.32,-54.9 397.68,-65.16 404.65,-64.57\"/>\n",
       "</g>\n",
       "<!-- 11 -->\n",
       "<g id=\"node12\" class=\"node\">\n",
       "<title>11</title>\n",
       "<polygon fill=\"none\" stroke=\"black\" points=\"557,-53 463,-53 463,0 557,0 557,-53\"/>\n",
       "<text text-anchor=\"middle\" x=\"510\" y=\"-35.7\" font-family=\"Helvetica,sans-Serif\" font-size=\"14.00\">gini = 0.0</text>\n",
       "<text text-anchor=\"middle\" x=\"510\" y=\"-20.7\" font-family=\"Helvetica,sans-Serif\" font-size=\"14.00\">samples = 1</text>\n",
       "<text text-anchor=\"middle\" x=\"510\" y=\"-5.7\" font-family=\"Helvetica,sans-Serif\" font-size=\"14.00\">value = [0, 1]</text>\n",
       "</g>\n",
       "<!-- 9&#45;&gt;11 -->\n",
       "<g id=\"edge11\" class=\"edge\">\n",
       "<title>9&#45;&gt;11</title>\n",
       "<path fill=\"none\" stroke=\"black\" d=\"M442.67,-88.68C452.53,-79.72 463.2,-70.03 473.07,-61.06\"/>\n",
       "<polygon fill=\"black\" stroke=\"black\" points=\"475.34,-63.73 480.38,-54.41 470.63,-58.55 475.34,-63.73\"/>\n",
       "</g>\n",
       "<!-- 13 -->\n",
       "<g id=\"node14\" class=\"node\">\n",
       "<title>13</title>\n",
       "<polygon fill=\"none\" stroke=\"black\" points=\"768.5,-261 659.5,-261 659.5,-193 768.5,-193 768.5,-261\"/>\n",
       "<text text-anchor=\"middle\" x=\"714\" y=\"-243.7\" font-family=\"Helvetica,sans-Serif\" font-size=\"14.00\">x[0] &lt;= 280.0</text>\n",
       "<text text-anchor=\"middle\" x=\"714\" y=\"-228.7\" font-family=\"Helvetica,sans-Serif\" font-size=\"14.00\">gini = 0.424</text>\n",
       "<text text-anchor=\"middle\" x=\"714\" y=\"-213.7\" font-family=\"Helvetica,sans-Serif\" font-size=\"14.00\">samples = 36</text>\n",
       "<text text-anchor=\"middle\" x=\"714\" y=\"-198.7\" font-family=\"Helvetica,sans-Serif\" font-size=\"14.00\">value = [25, 11]</text>\n",
       "</g>\n",
       "<!-- 12&#45;&gt;13 -->\n",
       "<g id=\"edge13\" class=\"edge\">\n",
       "<title>12&#45;&gt;13</title>\n",
       "<path fill=\"none\" stroke=\"black\" d=\"M714,-296.6C714,-289.03 714,-280.87 714,-272.9\"/>\n",
       "<polygon fill=\"black\" stroke=\"black\" points=\"717.5,-272.99 714,-262.99 710.5,-272.99 717.5,-272.99\"/>\n",
       "</g>\n",
       "<!-- 18 -->\n",
       "<g id=\"node19\" class=\"node\">\n",
       "<title>18</title>\n",
       "<polygon fill=\"none\" stroke=\"black\" points=\"1003.5,-261 894.5,-261 894.5,-193 1003.5,-193 1003.5,-261\"/>\n",
       "<text text-anchor=\"middle\" x=\"949\" y=\"-243.7\" font-family=\"Helvetica,sans-Serif\" font-size=\"14.00\">x[0] &lt;= 560.0</text>\n",
       "<text text-anchor=\"middle\" x=\"949\" y=\"-228.7\" font-family=\"Helvetica,sans-Serif\" font-size=\"14.00\">gini = 0.292</text>\n",
       "<text text-anchor=\"middle\" x=\"949\" y=\"-213.7\" font-family=\"Helvetica,sans-Serif\" font-size=\"14.00\">samples = 62</text>\n",
       "<text text-anchor=\"middle\" x=\"949\" y=\"-198.7\" font-family=\"Helvetica,sans-Serif\" font-size=\"14.00\">value = [11, 51]</text>\n",
       "</g>\n",
       "<!-- 12&#45;&gt;18 -->\n",
       "<g id=\"edge18\" class=\"edge\">\n",
       "<title>12&#45;&gt;18</title>\n",
       "<path fill=\"none\" stroke=\"black\" d=\"M768.8,-306.21C803.12,-291.32 847.52,-272.04 883.67,-256.36\"/>\n",
       "<polygon fill=\"black\" stroke=\"black\" points=\"884.94,-259.62 892.72,-252.43 882.16,-253.2 884.94,-259.62\"/>\n",
       "</g>\n",
       "<!-- 14 -->\n",
       "<g id=\"node15\" class=\"node\">\n",
       "<title>14</title>\n",
       "<polygon fill=\"none\" stroke=\"black\" points=\"707.5,-157 598.5,-157 598.5,-89 707.5,-89 707.5,-157\"/>\n",
       "<text text-anchor=\"middle\" x=\"653\" y=\"-139.7\" font-family=\"Helvetica,sans-Serif\" font-size=\"14.00\">x[1] &lt;= 0.75</text>\n",
       "<text text-anchor=\"middle\" x=\"653\" y=\"-124.7\" font-family=\"Helvetica,sans-Serif\" font-size=\"14.00\">gini = 0.5</text>\n",
       "<text text-anchor=\"middle\" x=\"653\" y=\"-109.7\" font-family=\"Helvetica,sans-Serif\" font-size=\"14.00\">samples = 22</text>\n",
       "<text text-anchor=\"middle\" x=\"653\" y=\"-94.7\" font-family=\"Helvetica,sans-Serif\" font-size=\"14.00\">value = [11, 11]</text>\n",
       "</g>\n",
       "<!-- 13&#45;&gt;14 -->\n",
       "<g id=\"edge14\" class=\"edge\">\n",
       "<title>13&#45;&gt;14</title>\n",
       "<path fill=\"none\" stroke=\"black\" d=\"M694.03,-192.6C689.18,-184.5 683.93,-175.72 678.86,-167.24\"/>\n",
       "<polygon fill=\"black\" stroke=\"black\" points=\"681.93,-165.56 673.8,-158.77 675.92,-169.15 681.93,-165.56\"/>\n",
       "</g>\n",
       "<!-- 17 -->\n",
       "<g id=\"node18\" class=\"node\">\n",
       "<title>17</title>\n",
       "<polygon fill=\"none\" stroke=\"black\" points=\"826.75,-149.5 725.25,-149.5 725.25,-96.5 826.75,-96.5 826.75,-149.5\"/>\n",
       "<text text-anchor=\"middle\" x=\"776\" y=\"-132.2\" font-family=\"Helvetica,sans-Serif\" font-size=\"14.00\">gini = 0.0</text>\n",
       "<text text-anchor=\"middle\" x=\"776\" y=\"-117.2\" font-family=\"Helvetica,sans-Serif\" font-size=\"14.00\">samples = 14</text>\n",
       "<text text-anchor=\"middle\" x=\"776\" y=\"-102.2\" font-family=\"Helvetica,sans-Serif\" font-size=\"14.00\">value = [14, 0]</text>\n",
       "</g>\n",
       "<!-- 13&#45;&gt;17 -->\n",
       "<g id=\"edge17\" class=\"edge\">\n",
       "<title>13&#45;&gt;17</title>\n",
       "<path fill=\"none\" stroke=\"black\" d=\"M734.3,-192.6C740.79,-181.93 747.99,-170.08 754.56,-159.27\"/>\n",
       "<polygon fill=\"black\" stroke=\"black\" points=\"757.39,-161.36 759.59,-151 751.4,-157.73 757.39,-161.36\"/>\n",
       "</g>\n",
       "<!-- 15 -->\n",
       "<g id=\"node16\" class=\"node\">\n",
       "<title>15</title>\n",
       "<polygon fill=\"none\" stroke=\"black\" points=\"676.75,-53 575.25,-53 575.25,0 676.75,0 676.75,-53\"/>\n",
       "<text text-anchor=\"middle\" x=\"626\" y=\"-35.7\" font-family=\"Helvetica,sans-Serif\" font-size=\"14.00\">gini = 0.43</text>\n",
       "<text text-anchor=\"middle\" x=\"626\" y=\"-20.7\" font-family=\"Helvetica,sans-Serif\" font-size=\"14.00\">samples = 16</text>\n",
       "<text text-anchor=\"middle\" x=\"626\" y=\"-5.7\" font-family=\"Helvetica,sans-Serif\" font-size=\"14.00\">value = [11, 5]</text>\n",
       "</g>\n",
       "<!-- 14&#45;&gt;15 -->\n",
       "<g id=\"edge15\" class=\"edge\">\n",
       "<title>14&#45;&gt;15</title>\n",
       "<path fill=\"none\" stroke=\"black\" d=\"M643.48,-88.68C641.23,-80.81 638.82,-72.37 636.53,-64.35\"/>\n",
       "<polygon fill=\"black\" stroke=\"black\" points=\"639.93,-63.5 633.81,-54.85 633.2,-65.43 639.93,-63.5\"/>\n",
       "</g>\n",
       "<!-- 16 -->\n",
       "<g id=\"node17\" class=\"node\">\n",
       "<title>16</title>\n",
       "<polygon fill=\"none\" stroke=\"black\" points=\"789,-53 695,-53 695,0 789,0 789,-53\"/>\n",
       "<text text-anchor=\"middle\" x=\"742\" y=\"-35.7\" font-family=\"Helvetica,sans-Serif\" font-size=\"14.00\">gini = 0.0</text>\n",
       "<text text-anchor=\"middle\" x=\"742\" y=\"-20.7\" font-family=\"Helvetica,sans-Serif\" font-size=\"14.00\">samples = 6</text>\n",
       "<text text-anchor=\"middle\" x=\"742\" y=\"-5.7\" font-family=\"Helvetica,sans-Serif\" font-size=\"14.00\">value = [0, 6]</text>\n",
       "</g>\n",
       "<!-- 14&#45;&gt;16 -->\n",
       "<g id=\"edge16\" class=\"edge\">\n",
       "<title>14&#45;&gt;16</title>\n",
       "<path fill=\"none\" stroke=\"black\" d=\"M684.38,-88.68C692.65,-79.9 701.58,-70.42 709.88,-61.6\"/>\n",
       "<polygon fill=\"black\" stroke=\"black\" points=\"712.27,-64.18 716.58,-54.5 707.17,-59.38 712.27,-64.18\"/>\n",
       "</g>\n",
       "<!-- 19 -->\n",
       "<g id=\"node20\" class=\"node\">\n",
       "<title>19</title>\n",
       "<polygon fill=\"none\" stroke=\"black\" points=\"999.75,-157 898.25,-157 898.25,-89 999.75,-89 999.75,-157\"/>\n",
       "<text text-anchor=\"middle\" x=\"949\" y=\"-139.7\" font-family=\"Helvetica,sans-Serif\" font-size=\"14.00\">x[1] &lt;= 1.05</text>\n",
       "<text text-anchor=\"middle\" x=\"949\" y=\"-124.7\" font-family=\"Helvetica,sans-Serif\" font-size=\"14.00\">gini = 0.153</text>\n",
       "<text text-anchor=\"middle\" x=\"949\" y=\"-109.7\" font-family=\"Helvetica,sans-Serif\" font-size=\"14.00\">samples = 48</text>\n",
       "<text text-anchor=\"middle\" x=\"949\" y=\"-94.7\" font-family=\"Helvetica,sans-Serif\" font-size=\"14.00\">value = [4, 44]</text>\n",
       "</g>\n",
       "<!-- 18&#45;&gt;19 -->\n",
       "<g id=\"edge19\" class=\"edge\">\n",
       "<title>18&#45;&gt;19</title>\n",
       "<path fill=\"none\" stroke=\"black\" d=\"M949,-192.6C949,-185.03 949,-176.87 949,-168.9\"/>\n",
       "<polygon fill=\"black\" stroke=\"black\" points=\"952.5,-168.99 949,-158.99 945.5,-168.99 952.5,-168.99\"/>\n",
       "</g>\n",
       "<!-- 22 -->\n",
       "<g id=\"node23\" class=\"node\">\n",
       "<title>22</title>\n",
       "<polygon fill=\"none\" stroke=\"black\" points=\"1142.88,-157 1045.12,-157 1045.12,-89 1142.88,-89 1142.88,-157\"/>\n",
       "<text text-anchor=\"middle\" x=\"1094\" y=\"-139.7\" font-family=\"Helvetica,sans-Serif\" font-size=\"14.00\">x[1] &lt;= 1.45</text>\n",
       "<text text-anchor=\"middle\" x=\"1094\" y=\"-124.7\" font-family=\"Helvetica,sans-Serif\" font-size=\"14.00\">gini = 0.5</text>\n",
       "<text text-anchor=\"middle\" x=\"1094\" y=\"-109.7\" font-family=\"Helvetica,sans-Serif\" font-size=\"14.00\">samples = 14</text>\n",
       "<text text-anchor=\"middle\" x=\"1094\" y=\"-94.7\" font-family=\"Helvetica,sans-Serif\" font-size=\"14.00\">value = [7, 7]</text>\n",
       "</g>\n",
       "<!-- 18&#45;&gt;22 -->\n",
       "<g id=\"edge22\" class=\"edge\">\n",
       "<title>18&#45;&gt;22</title>\n",
       "<path fill=\"none\" stroke=\"black\" d=\"M996.48,-192.6C1009.5,-183.44 1023.74,-173.42 1037.23,-163.94\"/>\n",
       "<polygon fill=\"black\" stroke=\"black\" points=\"1039.01,-166.96 1045.18,-158.34 1034.98,-161.24 1039.01,-166.96\"/>\n",
       "</g>\n",
       "<!-- 20 -->\n",
       "<g id=\"node21\" class=\"node\">\n",
       "<title>20</title>\n",
       "<polygon fill=\"none\" stroke=\"black\" points=\"908.75,-53 807.25,-53 807.25,0 908.75,0 908.75,-53\"/>\n",
       "<text text-anchor=\"middle\" x=\"858\" y=\"-35.7\" font-family=\"Helvetica,sans-Serif\" font-size=\"14.00\">gini = 0.408</text>\n",
       "<text text-anchor=\"middle\" x=\"858\" y=\"-20.7\" font-family=\"Helvetica,sans-Serif\" font-size=\"14.00\">samples = 14</text>\n",
       "<text text-anchor=\"middle\" x=\"858\" y=\"-5.7\" font-family=\"Helvetica,sans-Serif\" font-size=\"14.00\">value = [4, 10]</text>\n",
       "</g>\n",
       "<!-- 19&#45;&gt;20 -->\n",
       "<g id=\"edge20\" class=\"edge\">\n",
       "<title>19&#45;&gt;20</title>\n",
       "<path fill=\"none\" stroke=\"black\" d=\"M916.92,-88.68C908.46,-79.9 899.33,-70.42 890.84,-61.6\"/>\n",
       "<polygon fill=\"black\" stroke=\"black\" points=\"893.44,-59.26 883.98,-54.48 888.4,-64.12 893.44,-59.26\"/>\n",
       "</g>\n",
       "<!-- 21 -->\n",
       "<g id=\"node22\" class=\"node\">\n",
       "<title>21</title>\n",
       "<polygon fill=\"none\" stroke=\"black\" points=\"1028.75,-53 927.25,-53 927.25,0 1028.75,0 1028.75,-53\"/>\n",
       "<text text-anchor=\"middle\" x=\"978\" y=\"-35.7\" font-family=\"Helvetica,sans-Serif\" font-size=\"14.00\">gini = 0.0</text>\n",
       "<text text-anchor=\"middle\" x=\"978\" y=\"-20.7\" font-family=\"Helvetica,sans-Serif\" font-size=\"14.00\">samples = 34</text>\n",
       "<text text-anchor=\"middle\" x=\"978\" y=\"-5.7\" font-family=\"Helvetica,sans-Serif\" font-size=\"14.00\">value = [0, 34]</text>\n",
       "</g>\n",
       "<!-- 19&#45;&gt;21 -->\n",
       "<g id=\"edge21\" class=\"edge\">\n",
       "<title>19&#45;&gt;21</title>\n",
       "<path fill=\"none\" stroke=\"black\" d=\"M959.22,-88.68C961.64,-80.81 964.23,-72.37 966.69,-64.35\"/>\n",
       "<polygon fill=\"black\" stroke=\"black\" points=\"970.02,-65.43 969.61,-54.84 963.33,-63.37 970.02,-65.43\"/>\n",
       "</g>\n",
       "<!-- 23 -->\n",
       "<g id=\"node24\" class=\"node\">\n",
       "<title>23</title>\n",
       "<polygon fill=\"none\" stroke=\"black\" points=\"1141,-53 1047,-53 1047,0 1141,0 1141,-53\"/>\n",
       "<text text-anchor=\"middle\" x=\"1094\" y=\"-35.7\" font-family=\"Helvetica,sans-Serif\" font-size=\"14.00\">gini = 0.32</text>\n",
       "<text text-anchor=\"middle\" x=\"1094\" y=\"-20.7\" font-family=\"Helvetica,sans-Serif\" font-size=\"14.00\">samples = 5</text>\n",
       "<text text-anchor=\"middle\" x=\"1094\" y=\"-5.7\" font-family=\"Helvetica,sans-Serif\" font-size=\"14.00\">value = [4, 1]</text>\n",
       "</g>\n",
       "<!-- 22&#45;&gt;23 -->\n",
       "<g id=\"edge23\" class=\"edge\">\n",
       "<title>22&#45;&gt;23</title>\n",
       "<path fill=\"none\" stroke=\"black\" d=\"M1094,-88.68C1094,-80.99 1094,-72.76 1094,-64.9\"/>\n",
       "<polygon fill=\"black\" stroke=\"black\" points=\"1097.5,-64.91 1094,-54.91 1090.5,-64.91 1097.5,-64.91\"/>\n",
       "</g>\n",
       "<!-- 24 -->\n",
       "<g id=\"node25\" class=\"node\">\n",
       "<title>24</title>\n",
       "<polygon fill=\"none\" stroke=\"black\" points=\"1253,-53 1159,-53 1159,0 1253,0 1253,-53\"/>\n",
       "<text text-anchor=\"middle\" x=\"1206\" y=\"-35.7\" font-family=\"Helvetica,sans-Serif\" font-size=\"14.00\">gini = 0.444</text>\n",
       "<text text-anchor=\"middle\" x=\"1206\" y=\"-20.7\" font-family=\"Helvetica,sans-Serif\" font-size=\"14.00\">samples = 9</text>\n",
       "<text text-anchor=\"middle\" x=\"1206\" y=\"-5.7\" font-family=\"Helvetica,sans-Serif\" font-size=\"14.00\">value = [3, 6]</text>\n",
       "</g>\n",
       "<!-- 22&#45;&gt;24 -->\n",
       "<g id=\"edge24\" class=\"edge\">\n",
       "<title>22&#45;&gt;24</title>\n",
       "<path fill=\"none\" stroke=\"black\" d=\"M1133.49,-88.68C1144.21,-79.63 1155.83,-69.83 1166.55,-60.79\"/>\n",
       "<polygon fill=\"black\" stroke=\"black\" points=\"1168.77,-63.49 1174.15,-54.37 1164.25,-58.14 1168.77,-63.49\"/>\n",
       "</g>\n",
       "</g>\n",
       "</svg>\n"
      ],
      "text/plain": [
       "<graphviz.sources.Source at 0x128715a90>"
      ]
     },
     "execution_count": 36,
     "metadata": {},
     "output_type": "execute_result"
    }
   ],
   "source": [
    "X = ab_reduced_noNaN_train[['NumPages', 'Thick', 'List Price']]\n",
    "clf2 = tree.DecisionTreeClassifier(max_depth=4, random_state=42)\n",
    "clf2.fit(X, y)\n",
    "\n",
    "dot_data = tree.export_graphviz(clf2, out_file=None) \n",
    "graph = gv.Source(dot_data) \n",
    "graph"
   ]
  },
  {
   "cell_type": "markdown",
   "metadata": {},
   "source": [
    "This CDT model is much more complicated than the previous one due to two main changes made to how the model is trained. First of all, we have changed the predictor variables the model uses to make predictions. In `clf`, we only used the `List Price` variable, while in `clf2`, we have also used `NumPages`, `Thick`, and `List Price` in our predictors. When fitting our model, we have changed the maximum depth of the tree (which are the maximum number of nodes, excluding leaf nodes, there are vertically) from 2 in `clf` to 4 now in `clf2`, this makes the tree have more chances to make decisions based on more features of the predictors, and therefore make better predictions due to the higher specificity (this is not referring to the specificity metric, but rather how specific the predictors used describe the observations).\n",
    "\n",
    "In this new model, the `x[0]` variable is `NumPages`, `x[1]` is `Thick`, and `x[2]` is `List Price`. The model is looks at all these tree variables to make decisions. For example, in the root node of the tree, it looks at the `NumPages` variable to split the predictor spaces into two regions, and then on the `True` side, it uses the `NumPages` variable, while the `False` side uses the `Thick` variable. This is once again repeated, but with each node using difference variables to make decisions, until it reaches the leaf node where each predictor in the predictor space is cateogorized into one group or another.\n",
    "\n",
    "It is important to note that, although having more \"depth\" in the CDT model can lead to higher accuracy, which may seen good, it has the same risk of using complex specification in multiple linear regression, **overfitting**. When we use so much complexity to build a MLR model that it is too much for the available data, the model essentially \"memorizes\" the data that it was trained on, resulting in bad generalizability and perform bad when fed with data the model hasn't seen before. The same applies to CDT trees, as when enough depth is allowed for the CDT, we eventually may end up with the tree so accurately classifying the predictors that we have one node for each predictor, and when we input data into the CDT that it hasn't seen before, it will not be able to correctly predict the outcome."
   ]
  },
  {
   "cell_type": "markdown",
   "metadata": {},
   "source": [
    "## Question 6\n",
    "\n"
   ]
  },
  {
   "cell_type": "markdown",
   "metadata": {},
   "source": [
    "Here's how we can create a confusion matrix:"
   ]
  },
  {
   "cell_type": "code",
   "execution_count": 57,
   "metadata": {},
   "outputs": [
    {
     "data": {
      "text/plain": [
       "<sklearn.metrics._plot.confusion_matrix.ConfusionMatrixDisplay at 0x111e661d0>"
      ]
     },
     "execution_count": 57,
     "metadata": {},
     "output_type": "execute_result"
    },
    {
     "data": {
      "image/png": "[encoded data removed]",
      "text/plain": [
       "<Figure size 640x480 with 2 Axes>"
      ]
     },
     "metadata": {},
     "output_type": "display_data"
    }
   ],
   "source": [
    "y_test = pd.get_dummies(ab_reduced_noNaN_test[\"Hard_or_Paper\"])['H']\n",
    "X_test = ab_reduced_noNaN_test[['List Price']]\n",
    "X_test2 = ab_reduced_noNaN_test[['NumPages', 'Thick', 'List Price']]\n",
    "\n",
    "# making prediction on the clf model with the test data\n",
    "y_pred_clf = clf.predict(X_test)\n",
    "# clf2\n",
    "y_pred_clf2 = clf2.predict(X_test2)\n",
    "\n",
    "# creating the confusion matrices\n",
    "cm_clf = confusion_matrix(y_test, y_pred_clf)\n",
    "cm_clf2 = confusion_matrix(y_test, y_pred_clf2)\n",
    "\n",
    "# display\n",
    "disp_clf = ConfusionMatrixDisplay(confusion_matrix=cm_clf, display_labels=['Paper', 'Hard'])\n",
    "disp_clf.plot(cmap=\"Blues\") # clf"
   ]
  },
  {
   "cell_type": "markdown",
   "metadata": {},
   "source": [
    "Note how we're using the `test` dataset now to create the confusion matrix, because the we are trying to see how *\"confused\"* the model is if we feed it new data it hasn't seen before. We always test our models on unseen data to ensure the genralizability of our models.\n",
    "\n",
    "Now for `clf2`:"
   ]
  },
  {
   "cell_type": "code",
   "execution_count": 54,
   "metadata": {},
   "outputs": [
    {
     "data": {
      "text/plain": [
       "<sklearn.metrics._plot.confusion_matrix.ConfusionMatrixDisplay at 0x111b323d0>"
      ]
     },
     "execution_count": 54,
     "metadata": {},
     "output_type": "execute_result"
    },
    {
     "data": {
      "image/png": "[encoded data removed]",
      "text/plain": [
       "<Figure size 640x480 with 2 Axes>"
      ]
     },
     "metadata": {},
     "output_type": "display_data"
    }
   ],
   "source": [
    "disp_clf2 = ConfusionMatrixDisplay(confusion_matrix=cm_clf2, display_labels=['Paper', 'Hard'])\n",
    "disp_clf2.plot(cmap=\"Blues\") # clf2"
   ]
  },
  {
   "cell_type": "markdown",
   "metadata": {},
   "source": [
    "This is a confusion matrix, it is **a way of visually representing how well the model is performing**, based on the results of the predictions made by the model, and the actual outcome of the corresponding predictors. From the confusion matrix, we can see each of the four states of the prediction made by the CDT, $TP$, $TN$, $FP$, and $FN$. Each box in the confusion matrix represents one state, and the number in the box represents how many of the predictions the model made belong to this state. In our example, the state of being `True` is for being a hard cover book, therefore, to read the confusion matrix, the bottom right, where the label `Hard` is on both axis, is the $TP$ state, where the model correctly identifies hard cover books. Consequently, $TN$ state is the top left, $FP$ is top right, and $FN$ is bottom left.\n",
    "\n",
    "With the amount of predictions in each state represented, we can calculate each of the model metrics we've explained earlier. Luckily, we don't have to do these by hand, as the `sklearn` library has functions for each of the metrics:"
   ]
  },
  {
   "cell_type": "code",
   "execution_count": 59,
   "metadata": {},
   "outputs": [
    {
     "name": "stdout",
     "output_type": "stream",
     "text": [
      "Accuracy of clf: 0.875\n",
      "Accuracy of clf2: 0.921875\n",
      "\n",
      "Sensitivity of clf: 0.7142857142857143\n",
      "Sensitivity of clf2: 0.8095238095238095\n",
      "\n",
      "Specificity of clf: 0.9534883720930233\n",
      "Specificity of clf2: 0.9767441860465116\n",
      "\n"
     ]
    }
   ],
   "source": [
    "accuracy = accuracy_score(y_test, y_pred_clf)\n",
    "accuracy2 = accuracy_score(y_test, y_pred_clf2)\n",
    "\n",
    "sensitivity = recall_score(y_test, y_pred_clf)\n",
    "sensitivity2 = recall_score(y_test, y_pred_clf2)\n",
    "\n",
    "tn, fp, fn, tp = cm_clf.ravel()  # tn, fp, fn, tp for clf\n",
    "tn2, fp2, fn2, tp2 = cm_clf2.ravel()  # tn, fp, fn, tp for clf2\n",
    "\n",
    "specificity = tn / (tn + fp)\n",
    "specificity2 = tn2 / (tn2 + fp2)\n",
    "\n",
    "print(f\"Accuracy of clf: {accuracy}\")\n",
    "print(f\"Accuracy of clf2: {accuracy2}\\n\")\n",
    "print(f\"Sensitivity of clf: {sensitivity}\")\n",
    "print(f\"Sensitivity of clf2: {sensitivity2}\\n\")\n",
    "print(f\"Specificity of clf: {specificity}\")\n",
    "print(f\"Specificity of clf2: {specificity2}\\n\")"
   ]
  },
  {
   "cell_type": "markdown",
   "metadata": {},
   "source": [
    "It seens like our `clf2` model, which uses more predictor variables to make predictions and has more depth, is performing better than the `clf` model, which only used thr `List Price` to make predictions, as `clf2` is showing a higher value in each of the metrics."
   ]
  },
  {
   "cell_type": "markdown",
   "metadata": {},
   "source": [
    "## Question 7\n",
    "\n"
   ]
  },
  {
   "cell_type": "code",
   "execution_count": 47,
   "metadata": {},
   "outputs": [
    {
     "data": {
      "text/plain": [
       "<sklearn.metrics._plot.confusion_matrix.ConfusionMatrixDisplay at 0x111302510>"
      ]
     },
     "execution_count": 47,
     "metadata": {},
     "output_type": "execute_result"
    },
    {
     "data": {
      "image/png": "[encoded data removed]",
      "text/plain": [
       "<Figure size 640x480 with 2 Axes>"
      ]
     },
     "metadata": {},
     "output_type": "display_data"
    }
   ],
   "source": [
    "ConfusionMatrixDisplay(\n",
    "    confusion_matrix(pd.get_dummies(ab_reduced_noNaN_train[\"Hard_or_Paper\"])['H'], \n",
    "                     clf.predict(ab_reduced_noNaN_train[['List Price']]), \n",
    "                     labels=[0, 1]), display_labels=[\"Paper\",\"Hard\"]).plot()"
   ]
  },
  {
   "cell_type": "code",
   "execution_count": 51,
   "metadata": {},
   "outputs": [
    {
     "data": {
      "text/plain": [
       "<sklearn.metrics._plot.confusion_matrix.ConfusionMatrixDisplay at 0x11196ced0>"
      ]
     },
     "execution_count": 51,
     "metadata": {},
     "output_type": "execute_result"
    },
    {
     "data": {
      "image/png": "[encoded data removed]",
      "text/plain": [
       "<Figure size 640x480 with 2 Axes>"
      ]
     },
     "metadata": {},
     "output_type": "display_data"
    }
   ],
   "source": [
    "ConfusionMatrixDisplay(\n",
    "    confusion_matrix(pd.get_dummies(ab_reduced_noNaN_train[\"Hard_or_Paper\"])['H'], \n",
    "                     clf2.predict(\n",
    "                         ab_reduced_noNaN_train[['NumPages','Thick','List Price']]), \n",
    "                     labels=[0, 1]), display_labels=[\"Paper\",\"Hard\"]).plot()"
   ]
  },
  {
   "cell_type": "markdown",
   "metadata": {},
   "source": [
    "The main difference between the confusion matrix that was just created are **the data that were used to test the model and generate the confusion matrix.** In [Question 6](#question-6), we used the `test` dataset to calculate the $TP$, $TN$, $FP$ and $FN$ counts, which are put into the confusion matrix for visualization, while in the confusion matrix above, we've used the `train` data for the evaluation, which should be avoided. The goal for creating a predictive model is to that it can **generalize and predict accurately for any data** that is inputted into it, therefore, **we should always use new data that the model has not seen before to perform testing and evaluations,** to prevent issues such as **overfitting**."
   ]
  },
  {
   "cell_type": "markdown",
   "metadata": {},
   "source": [
    "## Question 8\n",
    "\n"
   ]
  },
  {
   "cell_type": "markdown",
   "metadata": {},
   "source": [
    "**Feature Importances** in CDT models measure **how much a certain predictor variable contributes** in improving the decision rules to minimize `gini impurity` throughout all nodes of the model.\n",
    "\n",
    "We can visualize how much each variable contributes to the `clf2` model we've created earlier by the following:\n",
    "\n",
    "*Note that we aren't using `clf` because there was only one variable involved.*"
   ]
  },
  {
   "cell_type": "code",
   "execution_count": 61,
   "metadata": {},
   "outputs": [
    {
     "data": {
      "image/png": "[encoded data removed]",
      "text/plain": [
       "<Figure size 800x600 with 1 Axes>"
      ]
     },
     "metadata": {},
     "output_type": "display_data"
    }
   ],
   "source": [
    "import matplotlib.pyplot as plt\n",
    "import numpy as np\n",
    "\n",
    "# Assuming clf is your trained DecisionTreeClassifier and X is your feature matrix\n",
    "\n",
    "# Extract feature names and their importance\n",
    "feature_names = X.columns if hasattr(X, 'columns') else [f'Feature {i}' for i in range(X.shape[1])]\n",
    "feature_importances = clf2.feature_importances_\n",
    "\n",
    "# Sort features by importance (optional, for better visualization)\n",
    "indices = np.argsort(feature_importances)[::-1]\n",
    "sorted_features = [feature_names[i] for i in indices]\n",
    "sorted_importances = feature_importances[indices]\n",
    "\n",
    "# Plot the feature importances\n",
    "plt.figure(figsize=(8, 6))\n",
    "plt.barh(sorted_features, sorted_importances, color='skyblue')\n",
    "plt.xlabel('Feature Importance')\n",
    "plt.ylabel('Features')\n",
    "plt.title('Feature Importance for Decision Tree')\n",
    "plt.gca().invert_yaxis()  # To display the most important feature at the top\n",
    "plt.show()"
   ]
  },
  {
   "cell_type": "markdown",
   "metadata": {},
   "source": [
    "We can see from the graph above that the feature `List Price` has the highest feature importance throughout the `clf2` model, with a feature importance of near 0.5."
   ]
  },
  {
   "cell_type": "markdown",
   "metadata": {},
   "source": [
    "## Question 9\n",
    "\n"
   ]
  },
  {
   "cell_type": "markdown",
   "metadata": {},
   "source": [
    "We might recall previously when exploring multiple linear regression that the coefficients for each predictor variable in a MLR model represent the magnitude at which a change in the current variable has on influencing the prediction the MLR model makes.\n",
    "\n",
    "This is quite fundamentally different from feature importances in CDT models, as not only do CDT models give binary classifications while MLR models give continuous values, the feature importances in CDT models simply measure how **frequently and effectively** a certain variable contributes to splitting data in decision nodes, where as coefficients in MLR models give the **magnitude and direction** of influence from the variable towards the outcome.\n",
    "\n",
    "Cutting it short, the feature importances in CDT models do not show on any degree the magnitude of change in the outcome due to a change in the predictor, it is simply the frequency and effectiveness of the variable in making decisions."
   ]
  },
  {
   "cell_type": "markdown",
   "metadata": {},
   "source": [
    "## Question 10\n",
    "\n",
    "Yes"
   ]
  }
 ],
 "metadata": {
  "kernelspec": {
   "display_name": ".venv",
   "language": "python",
   "name": "python3"
  },
  "language_info": {
   "codemirror_mode": {
    "name": "ipython",
    "version": 3
   },
   "file_extension": ".py",
   "mimetype": "text/x-python",
   "name": "python",
   "nbconvert_exporter": "python",
   "pygments_lexer": "ipython3",
   "version": "3.11.5"
  }
 },
 "nbformat": 4,
 "nbformat_minor": 2
}
